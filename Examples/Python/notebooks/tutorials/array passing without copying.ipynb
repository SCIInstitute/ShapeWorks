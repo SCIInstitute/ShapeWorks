{
 "cells": [
  {
   "cell_type": "code",
   "execution_count": null,
   "id": "62e34d5b",
   "metadata": {},
   "outputs": [],
   "source": [
    "import shapeworks as sw"
   ]
  },
  {
   "cell_type": "code",
   "execution_count": null,
   "id": "3cd66f73",
   "metadata": {},
   "outputs": [],
   "source": [
    "import numpy as np"
   ]
  },
  {
   "cell_type": "code",
   "execution_count": null,
   "id": "579d5120",
   "metadata": {},
   "outputs": [],
   "source": []
  },
  {
   "cell_type": "markdown",
   "id": "17fc05e0",
   "metadata": {},
   "source": [
    "## sw image from numpy array"
   ]
  },
  {
   "cell_type": "code",
   "execution_count": null,
   "id": "de5c8ba4",
   "metadata": {},
   "outputs": [],
   "source": [
    "#dims = (5,6,7)  # note: larger arrays don't get cleaned up as quickly\n",
    "dims = (1,3,2)  # use a small array to more readily illustrate memory cleanup\n",
    "darr = np.ndarray(dims, dtype=np.float64)\n",
    "farr = np.ndarray(dims, dtype=np.float32)\n",
    "iarr = np.ndarray(dims, dtype=np.int)"
   ]
  },
  {
   "cell_type": "code",
   "execution_count": null,
   "id": "b7b8c76f",
   "metadata": {},
   "outputs": [],
   "source": [
    "ival = 10\n",
    "jval = 50\n",
    "kval = 1.75\n",
    "for i in range(0, farr.shape[2]):\n",
    "    for j in range(0, farr.shape[1]):\n",
    "        for k in range(0, farr.shape[0]):\n",
    "            farr[k][j][i] = ival*(i/farr.shape[2]) + jval*(j/farr.shape[1]) + kval/farr.shape[0]\n",
    "            darr[k][j][i] = ival*(i/farr.shape[2]) + jval*(j/farr.shape[1]) + kval/farr.shape[0]\n",
    "            iarr[k][j][i] = ival*(i/farr.shape[2]) + jval*(j/farr.shape[1]) + kval/farr.shape[0]"
   ]
  },
  {
   "cell_type": "code",
   "execution_count": null,
   "id": "cf3bedff",
   "metadata": {},
   "outputs": [],
   "source": [
    "farr.dtype"
   ]
  },
  {
   "cell_type": "code",
   "execution_count": null,
   "id": "339498fa",
   "metadata": {},
   "outputs": [],
   "source": [
    "farrimg = sw.Image(farr)\n",
    "farrimg"
   ]
  },
  {
   "cell_type": "code",
   "execution_count": null,
   "id": "3abb076e",
   "metadata": {},
   "outputs": [],
   "source": [
    "farrimg.mean()"
   ]
  },
  {
   "cell_type": "markdown",
   "id": "e35cedf2",
   "metadata": {},
   "source": [
    "### modification of array also modifies image"
   ]
  },
  {
   "cell_type": "code",
   "execution_count": null,
   "id": "9a7771ed",
   "metadata": {},
   "outputs": [],
   "source": [
    "farr.mean()"
   ]
  },
  {
   "cell_type": "code",
   "execution_count": null,
   "id": "18df1537",
   "metadata": {},
   "outputs": [],
   "source": [
    "farrimg.mean()"
   ]
  },
  {
   "cell_type": "code",
   "execution_count": null,
   "id": "1b5bb053",
   "metadata": {},
   "outputs": [],
   "source": [
    "farr *= 10  # modification of array also modifies image"
   ]
  },
  {
   "cell_type": "code",
   "execution_count": null,
   "id": "7870a2f5",
   "metadata": {},
   "outputs": [],
   "source": [
    "farr.mean()"
   ]
  },
  {
   "cell_type": "code",
   "execution_count": null,
   "id": "bbf2aa69",
   "metadata": {},
   "outputs": [],
   "source": [
    "farrimg.mean()"
   ]
  },
  {
   "cell_type": "code",
   "execution_count": null,
   "id": "d37ec98d",
   "metadata": {},
   "outputs": [],
   "source": []
  },
  {
   "cell_type": "markdown",
   "id": "8efaab68",
   "metadata": {},
   "source": [
    "### only dtype.float32 arrays can be used to initialize an image"
   ]
  },
  {
   "cell_type": "code",
   "execution_count": null,
   "id": "64abff5a",
   "metadata": {},
   "outputs": [],
   "source": [
    "darr.dtype"
   ]
  },
  {
   "cell_type": "code",
   "execution_count": null,
   "id": "00bbdf88",
   "metadata": {},
   "outputs": [],
   "source": [
    "darrimg = sw.Image(darr)"
   ]
  },
  {
   "cell_type": "code",
   "execution_count": null,
   "id": "989293da",
   "metadata": {},
   "outputs": [],
   "source": [
    "darr = np.array(darr, dtype=np.float32)\n",
    "darrimg = sw.Image(darr)"
   ]
  },
  {
   "cell_type": "code",
   "execution_count": null,
   "id": "937811ed",
   "metadata": {},
   "outputs": [],
   "source": [
    "darrimg.mean()"
   ]
  },
  {
   "cell_type": "code",
   "execution_count": null,
   "id": "ead4ec52",
   "metadata": {},
   "outputs": [],
   "source": [
    "darr.mean()"
   ]
  },
  {
   "cell_type": "code",
   "execution_count": null,
   "id": "cbb4e812",
   "metadata": {},
   "outputs": [],
   "source": [
    "darr *= 10"
   ]
  },
  {
   "cell_type": "code",
   "execution_count": null,
   "id": "1abdc16b",
   "metadata": {},
   "outputs": [],
   "source": [
    "darrimg.mean()"
   ]
  },
  {
   "cell_type": "code",
   "execution_count": null,
   "id": "1e26b47f",
   "metadata": {},
   "outputs": [],
   "source": [
    "darr.mean()"
   ]
  },
  {
   "cell_type": "code",
   "execution_count": null,
   "id": "c13d7923",
   "metadata": {},
   "outputs": [],
   "source": [
    "iarrimg = sw.Image(iarr)"
   ]
  },
  {
   "cell_type": "code",
   "execution_count": null,
   "id": "5e12a192",
   "metadata": {},
   "outputs": [],
   "source": [
    "diarr = np.array(iarr, dtype=np.float32)"
   ]
  },
  {
   "cell_type": "code",
   "execution_count": null,
   "id": "01385a1e",
   "metadata": {},
   "outputs": [],
   "source": [
    "iarrimg = sw.Image(diarr)"
   ]
  },
  {
   "cell_type": "code",
   "execution_count": null,
   "id": "f0793b53",
   "metadata": {},
   "outputs": [],
   "source": [
    "iarrimg.mean()"
   ]
  },
  {
   "cell_type": "code",
   "execution_count": null,
   "id": "5a67a6fb",
   "metadata": {},
   "outputs": [],
   "source": [
    "diarr.mean()"
   ]
  },
  {
   "cell_type": "code",
   "execution_count": null,
   "id": "2288f9f0",
   "metadata": {},
   "outputs": [],
   "source": [
    "diarr *= 10"
   ]
  },
  {
   "cell_type": "code",
   "execution_count": null,
   "id": "e0f0982d",
   "metadata": {},
   "outputs": [],
   "source": [
    "iarrimg.mean()"
   ]
  },
  {
   "cell_type": "code",
   "execution_count": null,
   "id": "bf0e520d",
   "metadata": {},
   "outputs": [],
   "source": [
    "diarr.mean()"
   ]
  },
  {
   "cell_type": "code",
   "execution_count": null,
   "id": "f4280f11",
   "metadata": {},
   "outputs": [],
   "source": []
  },
  {
   "cell_type": "markdown",
   "id": "03e122ac",
   "metadata": {},
   "source": [
    "## ownership of np.array is passed to Image..."
   ]
  },
  {
   "cell_type": "markdown",
   "id": "5403cb74",
   "metadata": {},
   "source": [
    "### ...so temporary arrays will still be deleted"
   ]
  },
  {
   "cell_type": "code",
   "execution_count": null,
   "id": "40e00e98",
   "metadata": {},
   "outputs": [],
   "source": [
    "cpimg = sw.Image(np.array(farr, dtype=np.float32))  # temp array passed to Image ctor"
   ]
  },
  {
   "cell_type": "code",
   "execution_count": null,
   "id": "6f6479c3",
   "metadata": {},
   "outputs": [],
   "source": [
    "cpimg.mean()"
   ]
  },
  {
   "cell_type": "code",
   "execution_count": null,
   "id": "cf0beadd",
   "metadata": {},
   "outputs": [],
   "source": [
    "farr.mean()"
   ]
  },
  {
   "cell_type": "code",
   "execution_count": null,
   "id": "793c5054",
   "metadata": {},
   "outputs": [],
   "source": [
    "farr *= 10"
   ]
  },
  {
   "cell_type": "code",
   "execution_count": null,
   "id": "4f2fcc12",
   "metadata": {},
   "outputs": [],
   "source": [
    "farr.mean()"
   ]
  },
  {
   "cell_type": "code",
   "execution_count": null,
   "id": "44ae602a",
   "metadata": {},
   "outputs": [],
   "source": [
    "cpimg.mean()"
   ]
  },
  {
   "cell_type": "code",
   "execution_count": null,
   "id": "55829d5e",
   "metadata": {},
   "outputs": [],
   "source": [
    "del cpimg   # temp array also now deleted (if we trust itk)"
   ]
  },
  {
   "cell_type": "code",
   "execution_count": null,
   "id": "07dc5630",
   "metadata": {},
   "outputs": [],
   "source": []
  },
  {
   "cell_type": "markdown",
   "id": "2821c7d8",
   "metadata": {},
   "source": [
    "### ...and the array no longer points to valid memory when Image is deleted"
   ]
  },
  {
   "cell_type": "code",
   "execution_count": null,
   "id": "73db1a63",
   "metadata": {},
   "outputs": [],
   "source": [
    "cparr = np.array(farr, dtype=np.float32)\n",
    "cpimg = sw.Image(cparr)"
   ]
  },
  {
   "cell_type": "code",
   "execution_count": null,
   "id": "a826b91d",
   "metadata": {},
   "outputs": [],
   "source": [
    "cparr.mean()"
   ]
  },
  {
   "cell_type": "code",
   "execution_count": null,
   "id": "8777a93b",
   "metadata": {},
   "outputs": [],
   "source": [
    "del cpimg"
   ]
  },
  {
   "cell_type": "code",
   "execution_count": null,
   "id": "e57393e0",
   "metadata": {},
   "outputs": [],
   "source": [
    "cparr.mean()"
   ]
  },
  {
   "cell_type": "code",
   "execution_count": null,
   "id": "e99819db",
   "metadata": {},
   "outputs": [],
   "source": []
  },
  {
   "cell_type": "markdown",
   "id": "edf35080",
   "metadata": {},
   "source": [
    "### ...or its memory internally replaced (most itk-based operations do this)"
   ]
  },
  {
   "cell_type": "code",
   "execution_count": null,
   "id": "2364c23e",
   "metadata": {},
   "outputs": [],
   "source": [
    "cparr = np.array(farr, dtype=np.float32)\n",
    "cpimg = sw.Image(cparr)"
   ]
  },
  {
   "cell_type": "code",
   "execution_count": null,
   "id": "cda0eaf4",
   "metadata": {},
   "outputs": [],
   "source": [
    "cpimg.mean()"
   ]
  },
  {
   "cell_type": "code",
   "execution_count": null,
   "id": "a099ac8e",
   "metadata": {},
   "outputs": [],
   "source": [
    "cparr.mean()"
   ]
  },
  {
   "cell_type": "code",
   "execution_count": null,
   "id": "f5c5a673",
   "metadata": {},
   "outputs": [],
   "source": [
    "cpimg.binarize()\n",
    "cpimg.mean()"
   ]
  },
  {
   "cell_type": "code",
   "execution_count": null,
   "id": "9df2f153",
   "metadata": {},
   "outputs": [],
   "source": [
    "cparr.mean()"
   ]
  },
  {
   "cell_type": "code",
   "execution_count": null,
   "id": "272caf9a",
   "metadata": {},
   "outputs": [],
   "source": [
    "del cpimg   # the memory was cleanly deallocated during img.binarize() so no worries on deleting the image"
   ]
  },
  {
   "cell_type": "code",
   "execution_count": null,
   "id": "ac944723",
   "metadata": {},
   "outputs": [],
   "source": []
  },
  {
   "cell_type": "markdown",
   "id": "4417e943",
   "metadata": {},
   "source": [
    "## sw image from file to array"
   ]
  },
  {
   "cell_type": "code",
   "execution_count": null,
   "id": "502678c9",
   "metadata": {},
   "outputs": [],
   "source": [
    "#img = sw.Image(\"/Users/cam/data/sw/femur.nrrd\")\n",
    "img = sw.Image(\"/Users/cam/data/sw/tmp/1x2x2.nrrd\")"
   ]
  },
  {
   "cell_type": "code",
   "execution_count": null,
   "id": "1343654d",
   "metadata": {},
   "outputs": [],
   "source": [
    "img"
   ]
  },
  {
   "cell_type": "code",
   "execution_count": null,
   "id": "cc2fa0f6",
   "metadata": {},
   "outputs": [],
   "source": [
    "arr = sw.toArrayC(img)\n",
    "arr.dtype"
   ]
  },
  {
   "cell_type": "code",
   "execution_count": null,
   "id": "a3235690",
   "metadata": {},
   "outputs": [],
   "source": [
    "arr.mean()"
   ]
  },
  {
   "cell_type": "code",
   "execution_count": null,
   "id": "027b319e",
   "metadata": {},
   "outputs": [],
   "source": [
    "img.mean()"
   ]
  },
  {
   "cell_type": "code",
   "execution_count": null,
   "id": "ac3fd752",
   "metadata": {},
   "outputs": [],
   "source": [
    "arr.shape"
   ]
  },
  {
   "cell_type": "code",
   "execution_count": null,
   "id": "14efaaa8",
   "metadata": {},
   "outputs": [],
   "source": [
    "arr.strides"
   ]
  },
  {
   "cell_type": "code",
   "execution_count": null,
   "id": "18b58127",
   "metadata": {},
   "outputs": [],
   "source": [
    "img.dims()"
   ]
  },
  {
   "cell_type": "code",
   "execution_count": null,
   "id": "76e0352e",
   "metadata": {},
   "outputs": [],
   "source": []
  },
  {
   "cell_type": "markdown",
   "id": "a8c642bd",
   "metadata": {},
   "source": [
    "## pyvista"
   ]
  },
  {
   "cell_type": "code",
   "execution_count": null,
   "id": "2041b7d0",
   "metadata": {},
   "outputs": [],
   "source": [
    "import pyvista as pv"
   ]
  },
  {
   "cell_type": "code",
   "execution_count": null,
   "id": "007a479b",
   "metadata": {},
   "outputs": [],
   "source": [
    "plotter = pv.Plotter(shape    = (1, 1),\n",
    "                     notebook = True,\n",
    "                     border   = True) "
   ]
  },
  {
   "cell_type": "code",
   "execution_count": null,
   "id": "8c9e3533",
   "metadata": {},
   "outputs": [],
   "source": [
    "vtkimg = sw.sw2vtkImage(img, verbose=True)"
   ]
  },
  {
   "cell_type": "code",
   "execution_count": null,
   "id": "21a665e8",
   "metadata": {},
   "outputs": [],
   "source": [
    "vol = plotter.add_volume(vtkimg, shade = True, show_scalar_bar=True)"
   ]
  },
  {
   "cell_type": "code",
   "execution_count": null,
   "id": "fe48c308",
   "metadata": {},
   "outputs": [],
   "source": [
    "pv.set_jupyter_backend(backend=\"ipyvtklink\")"
   ]
  },
  {
   "cell_type": "code",
   "execution_count": null,
   "id": "5e55cfa9",
   "metadata": {},
   "outputs": [],
   "source": [
    "plotter.show()"
   ]
  },
  {
   "cell_type": "code",
   "execution_count": null,
   "id": "9278f9ef",
   "metadata": {},
   "outputs": [],
   "source": [
    "vtkimg.active_scalars"
   ]
  },
  {
   "cell_type": "code",
   "execution_count": null,
   "id": "8e7dcb56",
   "metadata": {},
   "outputs": [],
   "source": [
    "img.max()"
   ]
  },
  {
   "cell_type": "code",
   "execution_count": null,
   "id": "fb96a6a7",
   "metadata": {},
   "outputs": [],
   "source": [
    "img.min()"
   ]
  },
  {
   "cell_type": "code",
   "execution_count": null,
   "id": "4a57d210",
   "metadata": {},
   "outputs": [],
   "source": [
    "img *= 10"
   ]
  },
  {
   "cell_type": "code",
   "execution_count": null,
   "id": "c8730ce6",
   "metadata": {},
   "outputs": [],
   "source": [
    "img.max()"
   ]
  },
  {
   "cell_type": "code",
   "execution_count": null,
   "id": "e000b749",
   "metadata": {},
   "outputs": [],
   "source": [
    "img.min()"
   ]
  },
  {
   "cell_type": "code",
   "execution_count": null,
   "id": "88e338d0",
   "metadata": {},
   "outputs": [],
   "source": []
  },
  {
   "cell_type": "code",
   "execution_count": null,
   "id": "8401dcb8",
   "metadata": {},
   "outputs": [],
   "source": []
  },
  {
   "cell_type": "code",
   "execution_count": null,
   "id": "42e1d6e7",
   "metadata": {},
   "outputs": [],
   "source": []
  },
  {
   "cell_type": "code",
   "execution_count": null,
   "id": "a8c72aa2",
   "metadata": {},
   "outputs": [],
   "source": [
    "img.antialias(iterations=75)"
   ]
  },
  {
   "cell_type": "code",
   "execution_count": null,
   "id": "5eb5dffd",
   "metadata": {},
   "outputs": [],
   "source": [
    "img.mean()"
   ]
  },
  {
   "cell_type": "code",
   "execution_count": null,
   "id": "6a71f0b6",
   "metadata": {},
   "outputs": [],
   "source": [
    "arr.mean()"
   ]
  },
  {
   "cell_type": "code",
   "execution_count": null,
   "id": "7d8658b9",
   "metadata": {},
   "outputs": [],
   "source": [
    "arr[0]"
   ]
  },
  {
   "cell_type": "code",
   "execution_count": null,
   "id": "7d81dc15",
   "metadata": {},
   "outputs": [],
   "source": [
    "arr[0][0]"
   ]
  },
  {
   "cell_type": "code",
   "execution_count": null,
   "id": "444721b7",
   "metadata": {},
   "outputs": [],
   "source": []
  },
  {
   "cell_type": "code",
   "execution_count": null,
   "id": "fbb27c97",
   "metadata": {},
   "outputs": [],
   "source": []
  }
 ],
 "metadata": {
  "kernelspec": {
   "display_name": "Python 3",
   "language": "python",
   "name": "python3"
  },
  "language_info": {
   "codemirror_mode": {
    "name": "ipython",
    "version": 3
   },
   "file_extension": ".py",
   "mimetype": "text/x-python",
   "name": "python",
   "nbconvert_exporter": "python",
   "pygments_lexer": "ipython3",
   "version": "3.7.8"
  },
  "toc": {
   "base_numbering": 1,
   "nav_menu": {},
   "number_sections": false,
   "sideBar": true,
   "skip_h1_title": false,
   "title_cell": "Table of Contents",
   "title_sidebar": "Contents",
   "toc_cell": false,
   "toc_position": {},
   "toc_section_display": true,
   "toc_window_display": false
  }
 },
 "nbformat": 4,
 "nbformat_minor": 5
}
