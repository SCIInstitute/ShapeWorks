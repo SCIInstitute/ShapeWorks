{
 "cells": [
  {
   "cell_type": "markdown",
   "metadata": {},
   "source": [
    "# Getting Started with Exploring Segmentations "
   ]
  },
  {
   "cell_type": "markdown",
   "metadata": {},
   "source": [
    "## Before you start!\n",
    "\n",
    "- This [notebook](getting-started-with-exploring-segmentations.ipynb) assumes that shapeworks conda environment has been activated using `conda activate shapeworks` on the terminal.\n",
    "- See [Setting Up ShapeWorks Environment](setting-up-shapeworks-environment.ipynb) to learn how to set up your environment to start using shapeworks library. Please note, the prerequisite steps will use the same code to setup the environment for this notebook and import `shapeworks` library.\n",
    "- See [Getting Started with Segmentations](getting-started-with-segmentations.ipynb) to learn how to load and visualize binary segmentations.\n",
    "\n",
    "\n",
    "## In this notebook, you will learn:\n",
    "\n",
    "1. How to define your dataset location and explore what is available in it\n",
    "2. How to explore your dataset\n",
    "3. How to decide the grooming pipeline needed for your dataset\n",
    "\n",
    "We will also define modular/generic helper functions as we walk through these items to reuse functionalities without duplicating code.\n",
    "\n",
    "## Prerequisites\n",
    "\n",
    "- Setting up `shapeworks` environment. See [Setting Up ShapeWorks Environment](setting-up-shapeworks-environment.ipynb). To avoid code clutter, the `setup_shapeworks_env` function can found in `Examples/Python/setupenv.py` module.\n",
    "- Importing `shapeworks` library. See [Setting Up ShapeWorks Environment](setting-up-shapeworks-environment.ipynb).\n",
    "- Helper functions for segmentations. See [Getting Started with Segmentations](getting-started-with-segmentations.ipynb).\n",
    "- Helper functions for meshes. See [Getting Started with Meshes](getting-started-with-meshes.ipynb).\n",
    "- Helper functions for visualization. See [Getting Started with Segmentations](getting-started-with-segmentations.ipynb), [Getting Started with Meshes](getting-started-with-meshes.ipynb), and [Getting Started with Exploring Segmentations](getting-started-with-exploring-segmentations.ipynb).\n",
    "\n",
    "\n",
    "\n",
    "## Note about `shapeworks` APIs\n",
    "\n",
    "shapeworks functions are inplace, i.e., `<swObject>.<function>()` applies that function to the `swObject` data. To keep the original data unchanged, you have first to copy it to another variable before applying the function.\n",
    "\n",
    "## Notebook keyboard shortcuts\n",
    "\n",
    "- `Esc + H`: displays a complete list of keyboard shortcuts\n",
    "- `Esc + A`: insert new cell above the current cell\n",
    "- `Esc + B`: insert new cell below the current cell\n",
    "- `Esc + D + D`: delete current cell\n",
    "- `Esc + Z`: undo\n",
    "- `Shift + enter`: run current cell and move to next\n",
    "- To show a function's argument list (i.e., signature), use `(` then `shift-tab`\n",
    "- Use `shift-tab-tab` to show more help for a function\n",
    "- To show the help of a function, use `help(function)` or `function?`\n",
    "- To show all functions supported by an object, use `dot-tab` after the variable name\n",
    "\n"
   ]
  },
  {
   "cell_type": "markdown",
   "metadata": {},
   "source": [
    "## Prerequisites\n",
    "\n",
    "### Setting up `shapeworks` environment \n",
    "\n",
    "Here, we will append both your `PYTHONPATH` and your system `PATH` to setup shapeworks environment for this notebook. See [Setting Up ShapeWorks Environment](setting-up-shapeworks-environment.ipynb) for more details.\n",
    "\n",
    "In this notebook, we assume the following.\n",
    "\n",
    "- This notebook is located in `Examples/Python/notebooks/tutorials`\n",
    "- You have built shapeworks from source in `build` directory within the shapeworks code directory\n",
    "- You have built shapeworks dependencies (using `build_dependencies.sh`) in the same parent directory of shapeworks code\n",
    "\n",
    "**Note:** If you run from a ShapeWorks installation, you don't need to set the dependencies path and the `shapeworks_bin_dir` would be set as `../../../../bin`."
   ]
  },
  {
   "cell_type": "code",
   "execution_count": null,
   "metadata": {},
   "outputs": [],
   "source": [
    "# import relevant libraries \n",
    "import sys \n",
    "\n",
    "# add parent-parent directory (where setupenv.py is) to python path\n",
    "sys.path.insert(0,'../..')\n",
    "\n",
    "# importing setupenv from Examples/Python\n",
    "import setupenv\n",
    "\n",
    "# indicate the bin directories for shapeworks and its dependencies\n",
    "shapeworks_bin_dir   = \"../../../../build/bin\"\n",
    "dependencies_bin_dir = \"../../../../../shapeworks-dependencies/bin\"\n",
    "\n",
    "# set up shapeworks environment\n",
    "setupenv.setup_shapeworks_env(shapeworks_bin_dir,  \n",
    "                              dependencies_bin_dir, \n",
    "                              verbose = False)"
   ]
  },
  {
   "cell_type": "markdown",
   "metadata": {},
   "source": [
    "### Importing `shapeworks` library"
   ]
  },
  {
   "cell_type": "code",
   "execution_count": null,
   "metadata": {},
   "outputs": [],
   "source": [
    "# let's import shapeworks library to test whether shapeworks is now set\n",
    "try:\n",
    "    import shapeworks as sw\n",
    "except ImportError:\n",
    "    print('ERROR: shapeworks library failed to import')\n",
    "else:\n",
    "    print('SUCCESS: shapeworks library is successfully imported!!!')"
   ]
  },
  {
   "cell_type": "markdown",
   "metadata": {},
   "source": [
    "### Helper functions for segmentations"
   ]
  },
  {
   "cell_type": "code",
   "execution_count": null,
   "metadata": {},
   "outputs": [],
   "source": [
    "# importing relevant libraries\n",
    "import pyvista as pv\n",
    "import numpy as np\n",
    "\n",
    "# a helper function that converts shapeworks Image object to vtk image\n",
    "def sw2vtkImage(swImg, verbose = False):\n",
    "            \n",
    "    # get the numpy array of the shapeworks image\n",
    "    array  = swImg.toArray()\n",
    "    \n",
    "    # the numpy array needs to be permuted to match the shapeworks image dimensions\n",
    "    array = np.transpose(array,(2,1,0))\n",
    "    \n",
    "    # converting a numpy array to a vtk image using pyvista's wrap function\n",
    "    vtkImg = pv.wrap(array)\n",
    "    \n",
    "    if verbose:\n",
    "        print('shapeworks image header information: ')\n",
    "        print(swImg)\n",
    "\n",
    "        print('\\nvtk image header information: ')\n",
    "        print(vtkImg) \n",
    "    \n",
    "    return vtkImg"
   ]
  },
  {
   "cell_type": "markdown",
   "metadata": {},
   "source": [
    "### Helper functions for meshes"
   ]
  },
  {
   "cell_type": "code",
   "execution_count": null,
   "metadata": {},
   "outputs": [],
   "source": [
    "# importing relevant libraries\n",
    "import os\n",
    "\n",
    "# a helper function that converts shapeworks Mesh object to vtk mesh \n",
    "# TODO: to be modifed when #825 is addressed\n",
    "def sw2vtkMesh(swMesh, verbose = False):\n",
    "    \n",
    "    if verbose:\n",
    "        print('Header information: ')\n",
    "        print(swMesh)\n",
    "\n",
    "    # save mesh\n",
    "    swMesh.write('temp.vtk')\n",
    "\n",
    "    # read mesh into an itk mesh data\n",
    "    vtkMesh = pv.read('temp.vtk')\n",
    "    \n",
    "    # remove the temp mesh file\n",
    "    os.remove('temp.vtk')\n",
    "    \n",
    "    return vtkMesh"
   ]
  },
  {
   "cell_type": "markdown",
   "metadata": {},
   "source": [
    "### Helper functions for visualization"
   ]
  },
  {
   "cell_type": "code",
   "execution_count": null,
   "metadata": {},
   "outputs": [],
   "source": [
    "# importing itkwidgets to visualize single segmentations\n",
    "import itkwidgets as itkw\n",
    "\n",
    "# itkwidgets.view returns a Viewer object. And, the IPython Jupyter kernel \n",
    "# displays the last return value of a cell by default. So we have to use the display function\n",
    "# to be able to call itkwidgets within a function and if statements\n",
    "from IPython.display import display\n",
    "\n",
    "# enable use_ipyvtk by default for interactive plots\n",
    "pv.rcParams['use_ipyvtk'] = True \n",
    "    \n",
    "# a helper function that addes a vtk image to a pyvista plotter\n",
    "def add_volume_to_plotter( pvPlotter,      # pyvista plotter\n",
    "                           vtkImg,         # vtk image to be added\n",
    "                           rowIdx, colIdx, # subplot row and column index\n",
    "                           title = None,   # text to be added to the subplot, use None to not show text \n",
    "                           shade_volumes  = True,  # use shading when performing volume rendering\n",
    "                           color_map      = \"coolwarm\", # color map for volume rendering, e.g., 'bone', 'coolwarm', 'cool', 'viridis', 'magma'\n",
    "                           show_axes      = True,  # show a vtk axes widget for each rendering window\n",
    "                           show_bounds    = False, # show volume bounding box\n",
    "                           show_all_edges = True,  # add an unlabeled and unticked box at the boundaries of plot. \n",
    "                           font_size      = 10     # text font size for windows\n",
    "                         ):\n",
    "    \n",
    "    # which subplot to add the volume to\n",
    "    pvPlotter.subplot(rowIdx, colIdx)\n",
    "    \n",
    "    # add the volume\n",
    "    pvPlotter.add_volume(vtkImg, \n",
    "                         shade   = shade_volumes, \n",
    "                         cmap    = color_map)\n",
    "\n",
    "    if show_axes:\n",
    "        pvPlotter.show_axes()\n",
    "\n",
    "    if show_bounds:\n",
    "        pvPlotter.show_bounds(all_edges = show_all_edges)\n",
    "\n",
    "    # add a text to this subplot to indicate which volume is being visualized\n",
    "    if title is not None:\n",
    "        pvPlotter.add_text(title, font_size = font_size)\n",
    "        \n",
    "# a helper function that adds a mesh to a `pyvista` plotter.\n",
    "def add_mesh_to_plotter( pvPlotter,      # pyvista plotter\n",
    "                         vtkMesh,         # vtk mesh to be added\n",
    "                         rowIdx, colIdx, # subplot row and column index\n",
    "                         title = None,    # text to be added to the subplot, use None to not show text \n",
    "                         mesh_color      = \"tan\",  # string or 3 item list\n",
    "                         mesh_style      = \"surface\", # visualization style of the mesh. style='surface', style='wireframe', style='points'. \n",
    "                         show_mesh_edges = False, # show mesh edges\n",
    "                         opacity         = 1,\n",
    "                         show_axes       = True,  # show a vtk axes widget for each rendering window\n",
    "                         show_bounds     = False, # show volume bounding box\n",
    "                         show_all_edges  = True,  # add an unlabeled and unticked box at the boundaries of plot. \n",
    "                         font_size       = 10     # text font size for windows\n",
    "                         ):\n",
    "    \n",
    "    # which subplot to add the mesh to\n",
    "    pvPlotter.subplot(rowIdx, colIdx)\n",
    "\n",
    "    # add the surface mesh\n",
    "    pvPlotter.add_mesh(vtkMesh, \n",
    "                       color      = mesh_color, \n",
    "                       style      = mesh_style,\n",
    "                       show_edges = show_mesh_edges,\n",
    "                       opacity    = opacity)\n",
    "\n",
    "    if show_axes:\n",
    "        pvPlotter.show_axes()\n",
    "\n",
    "    if show_bounds:\n",
    "        pvPlotter.show_bounds(all_edges = show_all_edges)\n",
    "\n",
    "    # add a text to this subplot to indicate which volume is being visualized\n",
    "    if title is not None:\n",
    "        pvPlotter.add_text(title, font_size = font_size)"
   ]
  },
  {
   "cell_type": "markdown",
   "metadata": {},
   "source": [
    "## 1. Defining and exploring your dataset\n",
    "\n",
    "### Defining dataset location\n",
    "\n",
    "You can download exemplar datasets from [ShapeWorks data portal](http://cibc1.sci.utah.edu:8080) after you login. For new users, you can [register](http://cibc1.sci.utah.edu:8080/#?dialog=register) an account for free. Please do not use an important password.\n",
    "\n",
    "After you login, click `Collections` on the left panel and then `use-case-data-v2`. Select the dataset you would like to download by clicking on the checkbox on the left of the dataset name. See the video below.\n",
    "\n",
    "**This notebook assumes that you have downloaded `ellipsoid-v2` in `Examples/Python/Data`.** Feel free to use your own dataset. \n",
    "\n",
    "\n",
    "<p><video src=\"https://sci.utah.edu/~shapeworks/doc-resources/mp4s/portal_data_download.mp4\" autoplay muted loop controls style=\"width:100%\"></p>"
   ]
  },
  {
   "cell_type": "code",
   "execution_count": null,
   "metadata": {},
   "outputs": [],
   "source": [
    "# dataset name is the folder name for your dataset\n",
    "datasetName  = 'ellipsoid-v2'\n",
    "\n",
    "# path to the dataset where we can find shape data \n",
    "# here we assume shape data are given as binary segmentations\n",
    "shapeDir      = '../../Data/' + datasetName + '/segmentations/'\n",
    "    \n",
    "print('Dataset Name:     ' + datasetName)\n",
    "print('Shape Directory:  ' + shapeDir)"
   ]
  },
  {
   "cell_type": "markdown",
   "metadata": {},
   "source": [
    "### What is available in the dataset?\n",
    "\n",
    "First let's see how many shapes we have in the dataset.\n",
    "\n",
    "**File formats:** For binary segmentations, all [itk-supported image formats](https://insightsoftwareconsortium.github.io/itk-js/docs/image_formats.html) can be used."
   ]
  },
  {
   "cell_type": "code",
   "execution_count": null,
   "metadata": {},
   "outputs": [],
   "source": [
    "import glob # for paths and file-directory search\n",
    "\n",
    "# file extension for the shape data\n",
    "shapeExtention = '.nrrd'\n",
    "\n",
    "# let's get a list of files for available segmentations in this dataset\n",
    "# * here is a wild character used to retrieve all filenames \n",
    "# in the shape directory with the file extensnion\n",
    "shapeFilenames = sorted(glob.glob(shapeDir + '*' + shapeExtention)) \n",
    "\n",
    "print ('Number of shapes: ' + str(len(shapeFilenames)))\n",
    "print('Shape files found:')\n",
    "for shapeFilename in shapeFilenames:\n",
    "    print('\\t' + shapeFilename)"
   ]
  },
  {
   "cell_type": "markdown",
   "metadata": {},
   "source": [
    "## 2. Exploring your dataset\n",
    "\n",
    "We would like to better understand the given dataset to decide the appropriate grooming (preprocessing) pipeline/step to prepare it for shape modeling."
   ]
  },
  {
   "cell_type": "markdown",
   "metadata": {},
   "source": [
    "### Loading your dataset\n",
    "\n",
    "First step is to load the dataset. \n",
    "\n",
    "**Note:** If your dataset is large (large volumes and/or large number of segmentations), you could select a subset for this exploration step."
   ]
  },
  {
   "cell_type": "code",
   "execution_count": null,
   "metadata": {},
   "outputs": [],
   "source": [
    "# let's load the dataset - \n",
    "\n",
    "# list of shape segmentations\n",
    "shapeSegList = []\n",
    "\n",
    "# list of shape names (shape files prefixes) to be used \n",
    "# for saving outputs and visualizations\n",
    "shapeNames   = [] \n",
    "\n",
    "# loop over all shape files and load individual segmentations\n",
    "for shapeFilename in shapeFilenames:\n",
    "    print('Loading: ' + shapeFilename)\n",
    "    \n",
    "    # current shape name\n",
    "    segFilename = shapeFilename.split('/')[-1] \n",
    "    shapeName   = segFilename[:-len(shapeExtention)]\n",
    "    shapeNames.append(shapeName)\n",
    "    \n",
    "    # load segmentation\n",
    "    shapeSeg = sw.Image(shapeFilename)\n",
    "    \n",
    "    # append to the shape list\n",
    "    shapeSegList.append(shapeSeg)\n",
    "\n",
    "num_samples = len(shapeSegList)\n",
    "print('\\n' + str(num_samples) + \n",
    "      ' segmentations are loaded for the ' + datasetName + ' dataset ...')"
   ]
  },
  {
   "cell_type": "markdown",
   "metadata": {},
   "source": [
    "### Visualizing your dataset\n",
    "\n",
    "Now let's visualize all samples in a grid using `pyvista`. You may need to call `pv.close_all()` every once in a while to clean up the unclosed plotters.\n",
    "\n",
    "First, we will define a helper function to determine the best grid size (rows and columns) given the number of samples in your dataset."
   ]
  },
  {
   "cell_type": "code",
   "execution_count": null,
   "metadata": {},
   "outputs": [],
   "source": [
    "# helper functions to define the best grid size for subplots\n",
    "def postive_factors(num_samples):\n",
    "    factors = []\n",
    "    \n",
    "    for whole_number in range(1, num_samples + 1):\n",
    "        if num_samples % whole_number == 0:\n",
    "            factors.append(whole_number)\n",
    "    \n",
    "    return factors\n",
    "\n",
    "def num_subplots(num_samples):\n",
    "    factors = postive_factors(num_samples)\n",
    "    cols    = min(int(np.ceil(np.sqrt(num_samples))),max(factors))\n",
    "    rows    = int(np.ceil(num_samples/cols))\n",
    "    \n",
    "    return rows, cols"
   ]
  },
  {
   "cell_type": "markdown",
   "metadata": {},
   "source": [
    "Let's define a helper function that render all segmentations in your dataset. This function will initiate a `pyvista` plotter to render multiple windows, each with a single segmentation, add segmentations to the plotter, and start rendering."
   ]
  },
  {
   "cell_type": "code",
   "execution_count": null,
   "metadata": {},
   "outputs": [],
   "source": [
    "# helper function to add and plot a list of volumes\n",
    "def plot_volumes(volumeList,           # list of shapeworks images to be visualized\n",
    "                 volumeNames     = None,  # list of strings of same size as shape list used to add text for each plot window, use None to not show text per window \n",
    "                 use_same_window = False, # plot using multiple rendering windows if false\n",
    "                 is_interactive  = True,  # to enable interactive plots\n",
    "                 show_borders    = True,  # show borders for each rendering window\n",
    "                 shade_volumes   = True,  # use shading when performing volume rendering\n",
    "                 color_map       = \"coolwarm\", # color map for volume rendering, e.g., 'bone', 'coolwarm', 'cool', 'viridis', 'magma'\n",
    "                 show_axes       = True,  # show a vtk axes widget for each rendering window\n",
    "                 show_bounds     = True,  # show volume bounding box\n",
    "                 show_all_edges  = True,  # add an unlabeled and unticked box at the boundaries of plot. \n",
    "                 font_size       = 10,    # text font size for windows\n",
    "                 link_views      = True   # link all rendering windows so that they share same camera and axes boundaries\n",
    "                ):\n",
    "    \n",
    "    num_samples = len(volumeList)\n",
    "    \n",
    "    if volumeNames is not None:\n",
    "        if use_same_window and (len(volumeNames) > 1):\n",
    "            print('A single title needed when all volumes are to be displayed on the same window')\n",
    "            return\n",
    "        elif (not use_same_window) and (len(volumeNames) != num_samples):\n",
    "            print('volumeNames list is not consistent with number of samples')\n",
    "            return\n",
    "            \n",
    "    if use_same_window:\n",
    "        grid_rows, grid_cols = 1, 1\n",
    "    else:\n",
    "        # define grid size for the given number of samples\n",
    "        grid_rows, grid_cols  = num_subplots(num_samples)\n",
    "\n",
    "    # define the plotter\n",
    "    plotter = pv.Plotter(shape    = (grid_rows, grid_cols),\n",
    "                         notebook = is_interactive, \n",
    "                         border   = show_borders) \n",
    "    \n",
    "    # add the given volume list (one at a time) to the plotter\n",
    "    for volumeIdx in range(num_samples):\n",
    "        \n",
    "        # which window to add the current volume\n",
    "        if use_same_window:\n",
    "            rowIdx, colIdx = 0, 0\n",
    "            titleIdx       = 0\n",
    "        else:\n",
    "            idUnraveled     = np.unravel_index(volumeIdx, (grid_rows, grid_cols))\n",
    "            rowIdx, colIdx  = idUnraveled[0], idUnraveled[1]\n",
    "            titleIdx        = volumeIdx\n",
    "        \n",
    "        # which title to use\n",
    "        if volumeNames is not None:\n",
    "            volumeName = volumeNames[titleIdx]\n",
    "        else:\n",
    "            volumeName = None\n",
    "\n",
    "        # convert sw image to vtk image\n",
    "        if type(volumeList[volumeIdx]) == sw.Image:\n",
    "            volume_vtk = sw2vtkImage(volumeList[volumeIdx], \n",
    "                                       verbose = False)\n",
    "        else:\n",
    "            volume_vtk = volumeList[volumeIdx]\n",
    "\n",
    "        # add the current volume\n",
    "        add_volume_to_plotter( plotter, volume_vtk,   \n",
    "                               rowIdx = rowIdx, colIdx = colIdx, \n",
    "                               title          = volumeName,\n",
    "                               shade_volumes  = shade_volumes, \n",
    "                               color_map      = color_map,\n",
    "                               show_axes      = show_axes, \n",
    "                               show_bounds    = show_bounds, \n",
    "                               show_all_edges = show_all_edges, \n",
    "                               font_size      = font_size)\n",
    "    # link views\n",
    "    if link_views and (not use_same_window):\n",
    "        plotter.link_views()  \n",
    "\n",
    "    # now, time to render our volumes\n",
    "    plotter.show(use_ipyvtk = is_interactive)"
   ]
  },
  {
   "cell_type": "markdown",
   "metadata": {},
   "source": [
    "Now, let's define the parameters that controls the `pyvista` plotter and visualize the dataset."
   ]
  },
  {
   "cell_type": "code",
   "execution_count": null,
   "metadata": {},
   "outputs": [],
   "source": [
    "# define parameters that controls the plotter\n",
    "use_same_window = False # plot using multiple rendering windows if false\n",
    "is_interactive  = True  # to enable interactive plots\n",
    "show_borders    = True  # show borders for each rendering window\n",
    "shade_volumes   = True  # use shading when performing volume rendering\n",
    "color_map       = \"viridis\" # color map for volume rendering, e.g., 'bone', 'coolwarm', 'cool', 'viridis', 'magma'\n",
    "show_axes       = True  # show a vtk axes widget for each rendering window\n",
    "show_bounds     = True  # show volume bounding box\n",
    "show_all_edges  = True  # add an unlabeled and unticked box at the boundaries of plot. \n",
    "font_size       = 10    # text font size for windows\n",
    "link_views      = True  # link all rendering windows so that they share same camera and axes boundaries\n",
    "\n",
    "# plot all segmentations in the shape list\n",
    "plot_volumes(shapeSegList,    \n",
    "             volumeNames     = shapeNames, \n",
    "             use_same_window = use_same_window,\n",
    "             is_interactive  = is_interactive, \n",
    "             show_borders    = show_borders,  \n",
    "             shade_volumes   = shade_volumes, \n",
    "             color_map       = color_map,\n",
    "             show_axes       = show_axes,  \n",
    "             show_bounds     = show_bounds,\n",
    "             show_all_edges  = show_all_edges, \n",
    "             font_size       = font_size,   \n",
    "             link_views      = link_views\n",
    "             )"
   ]
  },
  {
   "cell_type": "markdown",
   "metadata": {},
   "source": [
    "<p><video src=\"https://sci.utah.edu/~shapeworks/doc-resources/mp4s/nb-explore-vols.mp4\" autoplay muted loop controls style=\"width:100%\"></p>"
   ]
  },
  {
   "cell_type": "markdown",
   "metadata": {},
   "source": [
    "## 3. Deciding the grooming pipeline needed for your dataset"
   ]
  },
  {
   "cell_type": "markdown",
   "metadata": {},
   "source": [
    "Does this dataset need grooming? What are grooming steps needed? Let's inspect the segmentations. What do we observe?"
   ]
  },
  {
   "cell_type": "markdown",
   "metadata": {},
   "source": [
    "### Voxel spacing\n",
    "\n",
    "Voxel spacing are not isotropic, i.e., voxel size in each of the three dimensions are not equal. This anisotropic spacing could adversally impact particles optimization since shapeworks assumes equal voxel spacing. Some datasets might also have different voxel spacings for each segmentation. \n",
    "\n",
    "*Hence, it is necessary to bring all segmentations to the same voxel spacing that is equal in all dimensions.* \n",
    "\n",
    "Another observation is voxel spacing is relatively large. This can be observed by the pixelated volume rendering and the jagged isosurface. \n",
    "\n",
    "*Hence, we can improve the segmentation resolution by decreasing voxel spacing.*"
   ]
  },
  {
   "cell_type": "code",
   "execution_count": null,
   "metadata": {},
   "outputs": [],
   "source": [
    "# to better appreciate the pixelated nature of these segmentations, we need to only visualize \n",
    "# the binary segmentation, notice the thick slices\n",
    "\n",
    "shapeIdx = 10\n",
    "shapeSeg = shapeSegList[shapeIdx]\n",
    " \n",
    "# to hide the rendered volume, drag the label map blend scroll\n",
    "shapeSeg_vtk = sw2vtkImage(shapeSeg, verbose = True)\n",
    "\n",
    "# to visualize label map - use label map blend \n",
    "itkw.view( image          = shapeSeg_vtk,  # for orthoginal image plane\n",
    "           axes           = True,\n",
    "           rotate         = True, # enable auto rotation\n",
    "           interpolation  = True)"
   ]
  },
  {
   "cell_type": "markdown",
   "metadata": {},
   "source": [
    "<p><video src=\"https://sci.utah.edu/~shapeworks/doc-resources/mp4s/nb-explore-voxel-space.mp4\" autoplay muted loop controls style=\"width:100%\"></p>"
   ]
  },
  {
   "cell_type": "markdown",
   "metadata": {},
   "source": [
    "### Segmentations and image boundaries \n",
    "\n",
    "Some segmentations are very close to the image boundary, not leaving enough room for particles (correspondences) to move and spread over these surface regions. In particular, particles could overshoot outside the image boundary during optimization. \n",
    "\n",
    "Furthermore, if a segmentation touches the image boundary, this will result in an artificially (i.e., not real) open surface. \n",
    "\n",
    "*Hence, these segmentations needs to be padded with background voxels (zero-valued) to create more room along each dimension.*"
   ]
  },
  {
   "cell_type": "code",
   "execution_count": null,
   "metadata": {},
   "outputs": [],
   "source": [
    "# let's inspect a segmentation that touches the image boundaries\n",
    "shapeIdx = 3\n",
    "shapeSeg = shapeSegList[shapeIdx]\n",
    "\n",
    "shapeSeg_vtk = sw2vtkImage(shapeSeg, verbose = False)\n",
    "\n",
    "# to visualize label map - use label map blend \n",
    "itkw.view( image          = shapeSeg_vtk, # for orthoginal image plane\n",
    "           label_image    = shapeSeg_vtk,  # for volume rendering segmentation\n",
    "           slicing_planes = True, \n",
    "           axes           = True,\n",
    "           rotate         = True, # enable auto rotation\n",
    "           interpolation  = True)"
   ]
  },
  {
   "cell_type": "markdown",
   "metadata": {},
   "source": [
    "<p><video src=\"https://sci.utah.edu/~shapeworks/doc-resources/mp4s/nb-explore-seg-touch.mp4\" autoplay muted loop controls style=\"width:100%\"></p>"
   ]
  },
  {
   "cell_type": "markdown",
   "metadata": {},
   "source": [
    "\n",
    "This segmentation touches the image boundary and hence will result in an artificially open surface. To inspect this behavior, we need extract a surface mesh (isosurface) from each segmentation. An isosurface is a three-dimensional surface that represents points of a constant value (aka isovalue) within the given volume of space."
   ]
  },
  {
   "cell_type": "code",
   "execution_count": null,
   "metadata": {},
   "outputs": [],
   "source": [
    "# let's see if there's a function that extracts an isosurface from an image\n",
    "# use dot-tap to get a list of functions/apis available for shapeSeg\n",
    "\n",
    "# found it - toMesh, let's see its help\n",
    "help(shapeSeg.toMesh)"
   ]
  },
  {
   "cell_type": "markdown",
   "metadata": {},
   "source": [
    "The `toMesh` function needs an isovalue, which is the constant value the represents the surface of interest. Since a shape segmentation is a binary image, the foreground is expected to have the value of 1 (white) and the background should have a zero value (black), so an appropriate isovalue to extract the foregound-background interface a value in between, e.g., 0.5"
   ]
  },
  {
   "cell_type": "code",
   "execution_count": null,
   "metadata": {},
   "outputs": [],
   "source": [
    "# let's make sure that our assumptions about the voxel values are correct\n",
    "# is the given volume a binary segmentation?\n",
    "\n",
    "# first convert to numpy array\n",
    "shapeSeg_array = shapeSeg.toArray()\n",
    "\n",
    "# make sure that it is a binary segmentation\n",
    "voxelValues = np.unique(shapeSeg_array)\n",
    "print('\\nVoxel values:' + str(voxelValues))\n",
    "\n",
    "if len(voxelValues) > 2:\n",
    "    print('WARNING: ' + shapeName + ' is not a bindary segmentation. Voxels have more than two distinct values')\n",
    "    print('PLEASE make sure to use binary segmentations')\n",
    "else:\n",
    "    print('Shape ' + shapeName + ' is a binary segmentation')"
   ]
  },
  {
   "cell_type": "code",
   "execution_count": null,
   "metadata": {},
   "outputs": [],
   "source": [
    "# now define the isovalue, in case a binary segmentation has a foreground label that is not 1\n",
    "# we need to obtain a value inbetween\n",
    "\n",
    "# get min and max values\n",
    "minVal = shapeSeg_array.min()\n",
    "maxVal = shapeSeg_array.max()\n",
    "\n",
    "print('\\nMinimum voxel value: ' + str(minVal))\n",
    "print('Maximum voxel value: ' + str(maxVal))\n",
    "\n",
    "isoValue = (maxVal - minVal)/2.0\n",
    "print('\\nisoValue = ' + str(isoValue))"
   ]
  },
  {
   "cell_type": "code",
   "execution_count": null,
   "metadata": {},
   "outputs": [],
   "source": [
    "# let's extract the segmentation isosurface and visualize it\n",
    "\n",
    "# extract isosurface\n",
    "shapeMesh = shapeSeg.toMesh(isovalue = isoValue)\n",
    " \n",
    "# sw to vtk\n",
    "shapeMesh_vtk = sw2vtkMesh(shapeMesh)\n",
    "\n",
    "# visualize with axes and auto rotation\n",
    "itkw.view(  geometries     = shapeMesh_vtk, \n",
    "            rotate         = True, # enable auto rotation\n",
    "            axes           = True)"
   ]
  },
  {
   "cell_type": "markdown",
   "metadata": {},
   "source": [
    "<p><video src=\"https://sci.utah.edu/~shapeworks/doc-resources/mp4s/nb-explore-iso-touch.mp4\" autoplay muted loop controls style=\"width:100%\"></p>"
   ]
  },
  {
   "cell_type": "markdown",
   "metadata": {},
   "source": [
    "So, we have been able to extract a segmentation's isosurface and visualize it as a surface mesh. It is worth noting that the jagged surface is due to the anisotropic voxel space (with spacing in z-dimension is double that of x- and y-dimensions) and large voxel size."
   ]
  },
  {
   "cell_type": "markdown",
   "metadata": {},
   "source": [
    "### Shape alignment\n",
    "\n",
    "One can observe from the segmentation visualization that they are not roughly aligned, i.e., they do not share the same coordinate frame where each individual shape is located differently compared to other shapes. \n",
    "\n",
    "*Aligning shapes is a critical preprocessing step to avoid the shape model to encode variabilities pertaining to global transformations such as rotation and translation.* "
   ]
  },
  {
   "cell_type": "code",
   "execution_count": null,
   "metadata": {},
   "outputs": [],
   "source": [
    "# let's inspect some segmentations where we can observe misalignment\n",
    "shapeIdxs = [8,9,10]\n",
    "\n",
    "shapeSegSubset   = [shapeSegList[shapeIdx] for shapeIdx in shapeIdxs ]\n",
    "shapeNamesSubset = [shapeNames[shapeIdx]   for shapeIdx in shapeIdxs ]"
   ]
  },
  {
   "cell_type": "markdown",
   "metadata": {},
   "source": [
    "To inspect how mutliple segmentation are spatially aligned with respect to each other, we will visualize their surfaces in the same rendering window. "
   ]
  },
  {
   "cell_type": "code",
   "execution_count": null,
   "metadata": {},
   "outputs": [],
   "source": [
    "shapeSegIsosurfaces     = []\n",
    "shapeSegIsosurfaces_vtk = []\n",
    "\n",
    "for shapeSeg in shapeSegSubset:\n",
    "    \n",
    "    # extract isosurface\n",
    "    shapeIsosurface = shapeSeg.toMesh(isovalue = isoValue)\n",
    "    \n",
    "    shapeSegIsosurfaces.append(shapeIsosurface)\n",
    " \n",
    "    # sw to vtk\n",
    "    shapeSegIsosurfaces_vtk.append(sw2vtkMesh(shapeIsosurface, verbose = False))\n"
   ]
  },
  {
   "cell_type": "code",
   "execution_count": null,
   "metadata": {},
   "outputs": [],
   "source": [
    "# now visualize them on the same rendering window using itkwidgets\n",
    "# note that they are not roughly alignemd  \n",
    "\n",
    "# visualize with axes and auto rotation\n",
    "itkw.view(  geometries     = shapeSegIsosurfaces_vtk, \n",
    "            rotate         = True, # enable auto rotation\n",
    "            axes           = True)"
   ]
  },
  {
   "cell_type": "markdown",
   "metadata": {},
   "source": [
    "<p><video src=\"https://sci.utah.edu/~shapeworks/doc-resources/mp4s/nb-explore-iso-align.mp4\" autoplay muted loop controls style=\"width:100%\"></p>"
   ]
  },
  {
   "cell_type": "code",
   "execution_count": null,
   "metadata": {},
   "outputs": [],
   "source": [
    "# let's use pyvista and assign different colors for each mesh\n",
    "# note this is very similar to the plot_volumes but with meshes rather than volumes\n",
    "\n",
    "# helper function to add and plot a list of meshes\n",
    "def plot_meshes(meshList,           # list of shapeworks meshes to be visualized\n",
    "                meshNames       = None,  # list of strings of same size as shape list used to add text for each plot window, use None to not show text per window \n",
    "                use_same_window = False, # plot using multiple rendering windows if false\n",
    "                is_interactive  = True,  # to enable interactive plots\n",
    "                show_borders    = True,  # show borders for each rendering window\n",
    "                meshes_color    = 'tan', # color to be used for meshes (can be a list with the same size as meshList if different colors are needed)\n",
    "                mesh_style      = \"surface\", # visualization style of the mesh. style='surface', style='wireframe', style='points'. \n",
    "                show_mesh_edges = False, # show mesh edges\n",
    "                opacities       = 1,     # opacity to be used for meshes (can be a list with the same size as meshList if different opacities are needed) \n",
    "                show_axes       = True,  # show a vtk axes widget for each rendering window\n",
    "                show_bounds     = True,  # show volume bounding box\n",
    "                show_all_edges  = True,  # add an unlabeled and unticked box at the boundaries of plot. \n",
    "                font_size       = 10,    # text font size for windows\n",
    "                link_views      = True   # link all rendering windows so that they share same camera and axes boundaries\n",
    "               ):\n",
    "    \n",
    "    num_samples = len(meshList)\n",
    "    \n",
    "    if meshNames is not None:\n",
    "        if use_same_window and (len(meshNames) > 1):\n",
    "            print('A single title needed when all meshes are to be displayed on the same window')\n",
    "            return\n",
    "        elif (not use_same_window) and  (len(meshNames) != num_samples):\n",
    "            print('meshNames list is not consistent with number of samples')\n",
    "            return\n",
    "            \n",
    "    if type(meshes_color) is not list: # single color given\n",
    "        meshes_color = [meshes_color] * num_samples\n",
    "        \n",
    "    if type(opacities) is not list: # single opacity given\n",
    "        opacities = [opacities] * num_samples\n",
    "        \n",
    "    if use_same_window:\n",
    "        grid_rows, grid_cols = 1, 1\n",
    "    else:\n",
    "        # define grid size for the given number of samples\n",
    "        grid_rows, grid_cols  = num_subplots(num_samples)\n",
    "\n",
    "    # define the plotter\n",
    "    plotter = pv.Plotter(shape    = (grid_rows, grid_cols),\n",
    "                         notebook = is_interactive, \n",
    "                         border   = show_borders) \n",
    "    \n",
    "    # add the given volume list (one at a time) to the plotter\n",
    "    for meshIdx in range(num_samples):\n",
    "        \n",
    "        # which window to add the current mesh\n",
    "        if use_same_window:\n",
    "            rowIdx, colIdx = 0, 0\n",
    "            titleIdx       = 0\n",
    "        else:\n",
    "            idUnraveled     = np.unravel_index(meshIdx, (grid_rows, grid_cols))\n",
    "            rowIdx, colIdx  = idUnraveled[0], idUnraveled[1]\n",
    "            titleIdx        = meshIdx\n",
    "        \n",
    "        # which title to use\n",
    "        if meshNames is not None:\n",
    "            meshName = meshNames[titleIdx]\n",
    "        else:\n",
    "            meshName = None\n",
    "\n",
    "        # convert sw mesh to vtk mesh\n",
    "        if type(meshList[meshIdx]) == sw.Mesh:\n",
    "            mesh_vtk = sw2vtkMesh(meshList[meshIdx], \n",
    "                                  verbose = False)\n",
    "        else:\n",
    "            mesh_vtk = meshList[meshIdx]\n",
    "\n",
    "        # add the current mesh\n",
    "        add_mesh_to_plotter( plotter, mesh_vtk,   \n",
    "                             rowIdx = rowIdx, colIdx = colIdx, \n",
    "                             title           = meshName,\n",
    "                             mesh_color      = meshes_color[meshIdx],\n",
    "                             mesh_style      = mesh_style,\n",
    "                             show_mesh_edges = show_mesh_edges,\n",
    "                             opacity         = opacities[meshIdx],\n",
    "                             show_axes       = show_axes, \n",
    "                             show_bounds     = show_bounds, \n",
    "                             show_all_edges  = show_all_edges, \n",
    "                             font_size       = font_size)\n",
    "        \n",
    "    # link views\n",
    "    if link_views and (not use_same_window):\n",
    "        plotter.link_views()  \n",
    "\n",
    "    # now, time to render our meshes\n",
    "    plotter.show(use_ipyvtk = is_interactive)"
   ]
  },
  {
   "cell_type": "code",
   "execution_count": null,
   "metadata": {},
   "outputs": [],
   "source": [
    "plot_meshes(shapeSegIsosurfaces,       \n",
    "            use_same_window = True, \n",
    "            is_interactive  = True,  \n",
    "            show_borders    = True,  \n",
    "            meshes_color    = ['tan', 'blue','red'], \n",
    "            mesh_style      = \"surface\", \n",
    "            show_mesh_edges = False, \n",
    "            show_axes       = True,  \n",
    "            show_bounds     = True,  \n",
    "            show_all_edges  = True,  \n",
    "            font_size       = 10,    \n",
    "            link_views      = True   \n",
    "           )"
   ]
  },
  {
   "cell_type": "markdown",
   "metadata": {},
   "source": [
    "<p><video src=\"https://sci.utah.edu/~shapeworks/doc-resources/mp4s/nb-explore-iso-align-pv.mp4\" autoplay muted loop controls style=\"width:100%\"></p>"
   ]
  },
  {
   "cell_type": "markdown",
   "metadata": {},
   "source": [
    "### Too much background\n",
    "\n",
    "Image boundaries are not tight around shapes, leaving irrelevant background voxels that might increase the memory footprint when optimizing the shape model. \n",
    "\n",
    "*We can crop segmentations to remove unnecessary background.*"
   ]
  },
  {
   "cell_type": "code",
   "execution_count": null,
   "metadata": {},
   "outputs": [],
   "source": [
    "shapeIdx = 12\n",
    "shapeSeg = shapeSegList[shapeIdx]\n",
    " \n",
    "shapeSeg_vtk = sw2vtkImage(shapeSeg)\n",
    "\n",
    "# to visualize label map - use label map blend \n",
    "itkw.view( image          = shapeSeg_vtk, # for orthoginal image plane\n",
    "           label_image    = shapeSeg_vtk,  # for volume rendering segmentation\n",
    "           slicing_planes = True, \n",
    "           axes           = True,\n",
    "           rotate         = True, # enable auto rotation\n",
    "           interpolation  = True)"
   ]
  },
  {
   "cell_type": "markdown",
   "metadata": {},
   "source": [
    "<p><video src=\"https://sci.utah.edu/~shapeworks/doc-resources/mp4s/nb-explore-bg.mp4\" autoplay muted loop controls style=\"width:100%\"></p>"
   ]
  },
  {
   "cell_type": "markdown",
   "metadata": {},
   "source": [
    "### Binary segmentations\n",
    "\n",
    "In general, this binary representation is not useful for finite numerical calculation of surface geometry and features that are required in shape modeling, which assumes the image is a sampling of a smooth function. \n",
    "\n",
    "Hence, ShapeWorks makes use of the signed distance transform of the binary segmentation that does satisfy this criterion. \n",
    "\n",
    "*For the correspondence optimization step, shapes can be represented as the zero level set of a smooth signed distance transform.*"
   ]
  },
  {
   "cell_type": "markdown",
   "metadata": {},
   "source": [
    "### Tentative grooming\n",
    "\n",
    "Hence, a tentative grooming pipeline entails the following steps:   \n",
    "1. Resampling segmentations to have smaller and isotropic voxel spacing   \n",
    "2. Rigidly aligning shapes   \n",
    "3. Cropping and padding segmentations   \n",
    "4. Converting segmentations to smooth signed distance transforms   \n",
    "\n",
    "\n",
    "Let the fun begins!!! Please visit [Getting Started with Grooming Segmentations](getting-started-with-grooming-segmentations.ipynb) to learn how to groom your dataset."
   ]
  }
 ],
 "metadata": {
  "kernelspec": {
   "display_name": "Python 3",
   "language": "python",
   "name": "python3"
  },
  "language_info": {
   "codemirror_mode": {
    "name": "ipython",
    "version": 3
   },
   "file_extension": ".py",
   "mimetype": "text/x-python",
   "name": "python",
   "nbconvert_exporter": "python",
   "pygments_lexer": "ipython3",
   "version": "3.7.8"
  },
  "toc": {
   "base_numbering": 1,
   "nav_menu": {},
   "number_sections": false,
   "sideBar": true,
   "skip_h1_title": true,
   "title_cell": "Table of Contents",
   "title_sidebar": "Contents",
   "toc_cell": false,
   "toc_position": {},
   "toc_section_display": true,
   "toc_window_display": false
  }
 },
 "nbformat": 4,
 "nbformat_minor": 4
}
