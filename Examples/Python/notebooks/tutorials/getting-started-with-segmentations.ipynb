{
 "cells": [
  {
   "cell_type": "markdown",
   "metadata": {},
   "source": [
    "# Getting Started with Segmentations"
   ]
  },
  {
   "cell_type": "markdown",
   "metadata": {},
   "source": [
    "## Before you start!\n",
    "\n",
    "- This [notebook](getting-started-with-segmentations.ipynb) assumes that shapeworks conda environment has been activated using `conda activate shapeworks` on the terminal.\n",
    "- See [Setting Up ShapeWorks Environment](setting-up-shapeworks-environment.ipynb) to learn how to set up your environment to start using shapeworks library. Please note, the prerequisite steps will use the same code to setup the environment for this notebook and import `shapeworks` library.\n",
    "\n",
    "\n",
    "## In this notebook, you will learn:\n",
    "\n",
    "1. How to define your dataset location and explore what is available in it\n",
    "2. How to load a single segmentation \n",
    "3. How to convert `shapeworks` image to `vtk` image for visualization\n",
    "4. How to visualize a segmentation using `itkwidgets`\n",
    "5. How to visualize a segmentation using `pyvista`\n",
    "6. How to visualize two segmentations side-by-side using `pyvista`\n",
    "7. How to visualize two segmentations in the same rendering window using `pyvista` \n",
    "\n",
    "We will also define modular/generic helper functions as we walk through these items to reuse functionalities without duplicating code.\n",
    "\n",
    "\n",
    "## Prerequisites\n",
    "\n",
    "- Setting up `shapeworks` environment. See [Setting Up ShapeWorks Environment](setting-up-shapeworks-environment.ipynb). To avoid code clutter, the `setup_shapeworks_env` function can found in `Examples/Python/setupenv.py` module. \n",
    "- Importing `shapeworks` library. See [Setting Up ShapeWorks Environment](setting-up-shapeworks-environment.ipynb).\n",
    "\n",
    "## Note about `shapeworks` APIs\n",
    "\n",
    "shapeworks functions are inplace, i.e., `<swObject>.<function>()` applies that function to the `swObject` data. To keep the original data unchanged, you have first to copy it to another variable before applying the function.\n",
    "\n",
    "## Notebook keyboard shortcuts\n",
    "\n",
    "- `Esc + H`: displays a complete list of keyboard shortcuts\n",
    "- `Esc + A`: insert new cell above the current cell\n",
    "- `Esc + B`: insert new cell below the current cell\n",
    "- `Esc + D + D`: delete current cell\n",
    "- `Esc + Z`: undo\n",
    "- `Shift + enter`: run current cell and move to next\n",
    "- To show a function's argument list (i.e., signature), use `(` then `shift-tab`\n",
    "- Use `shift-tab-tab` to show more help for a function\n",
    "- To show the help of a function, use `help(function)` or `function?`\n",
    "- To show all functions supported by an object, use `dot-tab` after the variable name"
   ]
  },
  {
   "cell_type": "markdown",
   "metadata": {},
   "source": [
    "## Prerequisites\n",
    "\n",
    "### Setting up `shapeworks` environment \n",
    "\n",
    "Here, we will append both your `PYTHONPATH` and your system `PATH` to setup shapeworks environment for this notebook. See [Setting Up ShapeWorks Environment](setting-up-shapeworks-environment.ipynb) for more details.\n",
    "\n",
    "In this notebook, we assume the following.\n",
    "\n",
    "- This notebook is located in `Examples/Python/notebooks/tutorials`\n",
    "- You have built shapeworks from source in `build` directory within the shapeworks code directory\n",
    "- You have built shapeworks dependencies (using `build_dependencies.sh`) in the same parent directory of shapeworks code\n",
    "\n",
    "**Note:** If you run from a ShapeWorks installation, you don't need to set the dependencies path and the `shapeworks_bin_dir` would be set as `../../../../bin`."
   ]
  },
  {
   "cell_type": "code",
   "execution_count": null,
   "metadata": {},
   "outputs": [],
   "source": [
    "# import relevant libraries \n",
    "import sys \n",
    "\n",
    "# add parent-parent directory (where setupenv.py is) to python path\n",
    "sys.path.insert(0,'../..')\n",
    "\n",
    "# importing setupenv from Examples/Python\n",
    "import setupenv\n",
    "\n",
    "# indicate the bin directories for shapeworks and its dependencies\n",
    "shapeworks_bin_dir   = \"../../../../build/bin\"\n",
    "dependencies_bin_dir = \"../../../../../shapeworks-dependencies/bin\"\n",
    "\n",
    "# set up shapeworks environment\n",
    "setupenv.setup_shapeworks_env(shapeworks_bin_dir,  \n",
    "                              dependencies_bin_dir, \n",
    "                              verbose = False)"
   ]
  },
  {
   "cell_type": "markdown",
   "metadata": {},
   "source": [
    "### Importing `shapeworks` library"
   ]
  },
  {
   "cell_type": "code",
   "execution_count": null,
   "metadata": {},
   "outputs": [],
   "source": [
    "# let's import shapeworks library to test whether shapeworks is now set\n",
    "try:\n",
    "    import shapeworks as sw\n",
    "except ImportError:\n",
    "    print('ERROR: shapeworks library failed to import')\n",
    "else:\n",
    "    print('SUCCESS: shapeworks library is successfully imported!!!')"
   ]
  },
  {
   "cell_type": "markdown",
   "metadata": {},
   "source": [
    "## 1. Defining and exploring your dataset\n",
    "\n",
    "### Defining dataset location\n",
    "\n",
    "You can download exemplar datasets from [ShapeWorks data portal](http://cibc1.sci.utah.edu:8080) after you login. For new users, you can [register](http://cibc1.sci.utah.edu:8080/#?dialog=register) an account for free. Please do not use an important password.\n",
    "\n",
    "After you login, click `Collections` on the left panel and then `use-case-data-v2`. Select the dataset you would like to download by clicking on the checkbox on the left of the dataset name. See the video below.\n",
    "\n",
    "**This notebook assumes that you have downloaded `ellipsoid-v2` in `Examples/Python/Data`.** Feel free to use your own dataset. \n",
    "\n",
    "\n",
    "<p><video src=\"https://sci.utah.edu/~shapeworks/doc-resources/mp4s/portal_data_download.mp4\" autoplay muted loop controls style=\"width:100%\"></p>\n"
   ]
  },
  {
   "cell_type": "code",
   "execution_count": null,
   "metadata": {},
   "outputs": [],
   "source": [
    "import os # for paths and mkdir\n",
    "\n",
    "# dataset name is the folder name for your dataset\n",
    "datasetName  = 'ellipsoid-v2'\n",
    "\n",
    "# path to the dataset where we can find shape data \n",
    "# here we assume shape data are given as binary segmentations\n",
    "shapeDir      = '../../Data/' + datasetName + '/segmentations/'\n",
    "\n",
    "print('Dataset Name:     ' + datasetName)\n",
    "print('Shape Directory:  ' + shapeDir)"
   ]
  },
  {
   "cell_type": "markdown",
   "metadata": {},
   "source": [
    "### What is available in the dataset?\n",
    "\n",
    "First let's see how many shapes we have in the dataset.\n",
    "\n",
    "**File formats:** For binary segmentations, all [itk-supported image formats](https://insightsoftwareconsortium.github.io/itk-js/docs/image_formats.html) can be used."
   ]
  },
  {
   "cell_type": "code",
   "execution_count": null,
   "metadata": {},
   "outputs": [],
   "source": [
    "import glob # for paths and file-directory search\n",
    "\n",
    "# file extension for the shape data\n",
    "shapeExtention = '.nrrd'\n",
    "\n",
    "# let's get a list of files for available segmentations in this dataset\n",
    "# * here is a wild character used to retrieve all filenames \n",
    "# in the shape directory with the file extensnion\n",
    "shapeFilenames = sorted(glob.glob(shapeDir + '*' + shapeExtention)) \n",
    "\n",
    "print ('Number of shapes: ' + str(len(shapeFilenames)))\n",
    "print('Shape files found:')\n",
    "for shapeFilename in shapeFilenames:\n",
    "    print('\\t' + shapeFilename)"
   ]
  },
  {
   "cell_type": "markdown",
   "metadata": {},
   "source": [
    "## 2. Loading a single segmentation\n",
    "\n",
    "We will select one segmentation to explore for now. We will then use shapeworks Image class to load this segmentation and print out its header information that includes image dimensions (rows, columns and slices), physical origin, physical size, and voxel spacing (in physical units)."
   ]
  },
  {
   "cell_type": "code",
   "execution_count": null,
   "metadata": {},
   "outputs": [],
   "source": [
    "# select a shape by setting the shape index (in the filenames list)\n",
    "shapeIdx       = 1\n",
    "\n",
    "# the filename for the selected shape\n",
    "shapeFilename  = shapeFilenames[shapeIdx]\n",
    "\n",
    "# since segmentation is just an image data, we will use shapeworks Image class to load it\n",
    "print('Loading: ' + shapeFilename)\n",
    "shapeSeg = sw.Image(shapeFilename)\n",
    "\n",
    "# let's print out header information of this segmentation \n",
    "print('Header information: ')\n",
    "print(shapeSeg)"
   ]
  },
  {
   "cell_type": "markdown",
   "metadata": {},
   "source": [
    "## 3. Converting `shapeworks` image to `vtk` image for visualization\n",
    "\n",
    "We can use python libraries such as [`itkwidgets`](https://github.com/InsightSoftwareConsortium/itkwidgets) and [`pyvista`](https://docs.pyvista.org/index.html) for interactive 3D visualization. These libraries support, among others, `vtk` data structures for images and meshes. Hence, to visualize our `shapeworks` image, we need first to convert it to a `vtk` data structure.\n",
    "\n",
    "This conversion can be performed by first extracting a numpy array from the `shapeworks` image, then constructing a `vtk` image from this array. `pyvista`'s `wrap` function makes this easy."
   ]
  },
  {
   "cell_type": "markdown",
   "metadata": {},
   "source": [
    "### Extracting `numpy` array from `shapeworks` image"
   ]
  },
  {
   "cell_type": "code",
   "execution_count": null,
   "metadata": {},
   "outputs": [],
   "source": [
    "# first, let's extract the numpy array of the shapeworks Image object\n",
    "shapeSeg_array = shapeSeg.toArray()\n",
    "\n",
    "# then compare their size\n",
    "print('shapeworks image size: ')\n",
    "print(shapeSeg.dims())\n",
    "\n",
    "print('numpy array size: ')\n",
    "print(shapeSeg_array.shape) "
   ]
  },
  {
   "cell_type": "code",
   "execution_count": null,
   "metadata": {},
   "outputs": [],
   "source": [
    "# notice that the numpy array needs to be permuted to match the shapeworks image dimensions\n",
    "import numpy as np\n",
    "\n",
    "shapeSeg_array = np.transpose(shapeSeg_array,(2,1,0))\n",
    "\n",
    "print('shapeworks image size: ')\n",
    "print(shapeSeg.dims())\n",
    "\n",
    "print('numpy array size: ')\n",
    "print(shapeSeg_array.shape) "
   ]
  },
  {
   "cell_type": "markdown",
   "metadata": {},
   "source": [
    "### Constructing a `vtk` image from a `numpy` array"
   ]
  },
  {
   "cell_type": "code",
   "execution_count": null,
   "metadata": {},
   "outputs": [],
   "source": [
    "# construct a vtk image from the extracted numpy array using pyvista wrap function\n",
    "import pyvista as pv\n",
    "\n",
    "# converting a numpy array to a vtk image using pyvista's wrap function\n",
    "shapeSeg_vtk = pv.wrap(shapeSeg_array)\n",
    "\n",
    "# print header info of both images, please note that the wrap function\n",
    "# only wraps the numpy array, which is oblivous to image spacing and origin\n",
    "print('shapeworks image header information: ')\n",
    "print(shapeSeg)\n",
    "\n",
    "print('\\nvtk image header information: ')\n",
    "print(shapeSeg_vtk) "
   ]
  },
  {
   "cell_type": "markdown",
   "metadata": {},
   "source": [
    "### Defining a helper function\n",
    "\n",
    "As converting between `shapeworks` Image object and `vtk` image is a step that we will need frequently, let's add a helper function for this purpose."
   ]
  },
  {
   "cell_type": "code",
   "execution_count": null,
   "metadata": {},
   "outputs": [],
   "source": [
    "# a helper function that converts shapeworks Image object to vtk image\n",
    "def sw2vtkImage(swImg, verbose = False):\n",
    "            \n",
    "    # get the numpy array of the shapeworks image\n",
    "    array  = swImg.toArray()\n",
    "    \n",
    "    # the numpy array needs to be permuted to match the shapeworks image dimensions\n",
    "    array = np.transpose(array,(2,1,0))\n",
    "    \n",
    "    # converting a numpy array to a vtk image using pyvista's wrap function\n",
    "    vtkImg = pv.wrap(array)\n",
    "    \n",
    "    if verbose:\n",
    "        print('shapeworks image header information: ')\n",
    "        print(swImg)\n",
    "\n",
    "        print('\\nvtk image header information: ')\n",
    "        print(vtkImg) \n",
    "    \n",
    "    return vtkImg"
   ]
  },
  {
   "cell_type": "markdown",
   "metadata": {},
   "source": [
    "## 4. Visualizing segmentation using `itkwidgets`\n",
    "\n",
    "[`itkwidgets`](https://github.com/InsightSoftwareConsortium/itkwidgets) is a python library that supports interactive Jupyter widgets to visualize images, point sets, and meshes. \n",
    "\n",
    "`itkwidgets` supports `itk`, `vtk`, and `pyvista` data structures. Hence, to visualize a `shapeworks` image, we need first to convert it to a `vtk` image using the `sw2vtkImage` helper function that we just defined.\n"
   ]
  },
  {
   "cell_type": "code",
   "execution_count": null,
   "metadata": {},
   "outputs": [],
   "source": [
    "# convert shapeworks images to a vtk image\n",
    "shapeSeg_vtk = sw2vtkImage(shapeSeg, verbose = True)"
   ]
  },
  {
   "cell_type": "markdown",
   "metadata": {},
   "source": [
    "Now we have a `vtk` image, we can simply visualize and interact with it using the `view` function of `itkwidgets`."
   ]
  },
  {
   "cell_type": "code",
   "execution_count": null,
   "metadata": {},
   "outputs": [],
   "source": [
    "# importing itkwidgets\n",
    "import itkwidgets as itkw\n",
    "\n",
    "# visualize - this is a volume rendering of the shape segmentation\n",
    "itkw.view(shapeSeg_vtk)"
   ]
  },
  {
   "cell_type": "markdown",
   "metadata": {},
   "source": [
    "<p><video src=\"https://sci.utah.edu/~shapeworks/doc-resources/mp4s/nb-seg-vol.mp4\" autoplay muted loop controls style=\"width:100%\"></p>"
   ]
  },
  {
   "cell_type": "markdown",
   "metadata": {},
   "source": [
    "Let's visualize the segmentation with orthogonal image planes to better understand the spatial relation of the segmentation and image boundaries."
   ]
  },
  {
   "cell_type": "code",
   "execution_count": null,
   "metadata": {},
   "outputs": [],
   "source": [
    "# visualize - this time we will also visualize orthogonal image planes\n",
    "itkw.view(  image          = shapeSeg_vtk, # for orthoginal image plane\n",
    "            slicing_planes = True, \n",
    "            rotate         = True, # enable auto rotation\n",
    "            axes           = True)"
   ]
  },
  {
   "cell_type": "markdown",
   "metadata": {},
   "source": [
    "<p><video src=\"https://sci.utah.edu/~shapeworks/doc-resources/mp4s/nb-seg-vol-slices.mp4\" autoplay muted loop controls style=\"width:100%\"></p>"
   ]
  },
  {
   "cell_type": "markdown",
   "metadata": {},
   "source": [
    "To also visualize the segmentation as a label map (binary image), we need add it as a label image and use the label map blend."
   ]
  },
  {
   "cell_type": "code",
   "execution_count": null,
   "metadata": {},
   "outputs": [],
   "source": [
    "# to visualize label map - use label map blend \n",
    "itkw.view( image          = shapeSeg_vtk, # for orthoginal image plane\n",
    "           label_image    = shapeSeg_vtk,  # for volume rendering segmentation\n",
    "           slicing_planes = True, \n",
    "           axes           = True,\n",
    "           rotate         = True, # enable auto rotation\n",
    "           interpolation  = True)"
   ]
  },
  {
   "cell_type": "markdown",
   "metadata": {},
   "source": [
    "<p><video src=\"https://sci.utah.edu/~shapeworks/doc-resources/mp4s/nb-seg-vol-slices-label.mp4\" autoplay muted loop controls style=\"width:100%\"></p>"
   ]
  },
  {
   "cell_type": "markdown",
   "metadata": {},
   "source": [
    "## 5. Visualizing segmentation using `pyvista`\n",
    "\n",
    "[`pyvista`](https://docs.pyvista.org/index.html) is a python library for 3D visualization and analysis. It is built on top of `vtk` and brings a paraview-like visualizations to notebooks. It also supports multiple rendering windows that can be linked. This feature is very useful when visualizing multiple samples from your dataset side-by-side and making them share the same camera view.\n",
    "\n",
    "`pyvista` supports `vtk` data structures. Hence, to visualize a `shapeworks` image, we need first to convert it to a `vtk` image."
   ]
  },
  {
   "cell_type": "code",
   "execution_count": null,
   "metadata": {},
   "outputs": [],
   "source": [
    "# volume rendering the segmentation... notice the static view!\n",
    "shapeSeg_vtk.plot(volume = True,   # volume render\n",
    "                  shade  = True)   # enable shading"
   ]
  },
  {
   "cell_type": "code",
   "execution_count": null,
   "metadata": {},
   "outputs": [],
   "source": [
    "# to have an interactive visualization, \n",
    "# we need enable use_ipyvtk for this plot \n",
    "# click r to reset the view after zooming\n",
    "shapeSeg_vtk.plot(volume     = True,     # volume render\n",
    "                  shade      = True,     # enable shading\n",
    "                  use_ipyvtk = True) # enable interactive plots"
   ]
  },
  {
   "cell_type": "markdown",
   "metadata": {},
   "source": [
    "<p><video src=\"https://sci.utah.edu/~shapeworks/doc-resources/mp4s/nb-seg-pv-vol.mp4\" autoplay muted loop controls style=\"width:100%\"></p>"
   ]
  },
  {
   "cell_type": "code",
   "execution_count": null,
   "metadata": {},
   "outputs": [],
   "source": [
    "# Or, we can enable use_ipyvtk by default for interactive plots\n",
    "pv.rcParams['use_ipyvtk'] = True \n",
    "\n",
    "# click r to reset the view after zooming\n",
    "shapeSeg_vtk.plot(volume = True,  # volume render\n",
    "                  shade  = True)   # enable shading"
   ]
  },
  {
   "cell_type": "markdown",
   "metadata": {},
   "source": [
    "## 6. Visualizing two segmentations side-by-side using `pyvista`\n",
    "\n",
    "When exploring datasets and results of different grooming (data preprocessing) steps, it is important to simultaneously visualize multiple shape samples. Here, we will learn how to visualize two segmentations side-by-side and link their views using `pyvista`. This linking is useful to make all rendering windows share the same camera view.  "
   ]
  },
  {
   "cell_type": "markdown",
   "metadata": {},
   "source": [
    "### Loading the second segmentation and convert it to `vtk` image\n",
    "\n",
    "First, let's select another segmentation and load it."
   ]
  },
  {
   "cell_type": "code",
   "execution_count": null,
   "metadata": {},
   "outputs": [],
   "source": [
    "# select a shape by setting the shape index (in the filenames list)\n",
    "shapeIdx2       = 2\n",
    "\n",
    "# the filename for the selected shape\n",
    "shapeFilename2  = shapeFilenames[shapeIdx2]\n",
    "\n",
    "# since segmentation is just an image data, we will use shapeworks Image class to load it\n",
    "print('Loading: ' + shapeFilename2)\n",
    "shapeSeg2 = sw.Image(shapeFilename2)\n",
    "\n",
    "# let's print out header information of this segmentation \n",
    "print('Header information: ')\n",
    "print(shapeSeg2)"
   ]
  },
  {
   "cell_type": "markdown",
   "metadata": {},
   "source": [
    "Then, let's convert this `shapeworks` image to a `vtk` image for visualization."
   ]
  },
  {
   "cell_type": "code",
   "execution_count": null,
   "metadata": {},
   "outputs": [],
   "source": [
    "# sw to vtk\n",
    "shapeSeg2_vtk = sw2vtkImage(shapeSeg2)"
   ]
  },
  {
   "cell_type": "markdown",
   "metadata": {},
   "source": [
    "### Defining `pyvista` plotter\n",
    "\n",
    "Next, we will define a `pyvista` plotter to render multiple windows, each with a single segmentation. The multiple rendering windows will be visualized as a grid of plots. Since, we have only two segmentations, the grid size will be one row and two columns.\n",
    "\n",
    "The plotter also enable use to specify a color map."
   ]
  },
  {
   "cell_type": "code",
   "execution_count": null,
   "metadata": {},
   "outputs": [],
   "source": [
    "# define grid size for two segmentations\n",
    "grid_rows  = 1\n",
    "grid_cols  = 2\n",
    "\n",
    "# define parameters that controls the plotter\n",
    "is_interactive = True  # to enable interactive plots\n",
    "show_borders   = True  # show borders for each rendering window\n",
    "shade_volumes  = True  # use shading when performing volume rendering\n",
    "color_map      = \"coolwarm\" # color map for volume rendering, e.g., 'bone', 'coolwarm', 'cool', 'viridis', 'magma'\n",
    "show_axes      = True  # show a vtk axes widget for each rendering window\n",
    "show_bounds    = False # show volume bounding box\n",
    "show_all_edges = True  # add an unlabeled and unticked box at the boundaries of plot. \n",
    "font_size      = 10    # text font size for windows\n",
    "link_views     = True  # link all rendering windows so that they share same camera and axes boundaries\n",
    "\n",
    "# define the plotter\n",
    "plotter = pv.Plotter(shape    = (grid_rows, grid_cols),\n",
    "                     notebook = is_interactive, \n",
    "                     border   = show_borders) "
   ]
  },
  {
   "cell_type": "markdown",
   "metadata": {},
   "source": [
    "### Adding segmentations to the plotter and start rendering\n",
    "\n",
    "Let's add the two segmentations to the plotter and start the viz fun!"
   ]
  },
  {
   "cell_type": "code",
   "execution_count": null,
   "metadata": {},
   "outputs": [],
   "source": [
    "# add the first segmentation\n",
    "plotter.subplot(0, 0)\n",
    "plotter.add_volume(shapeSeg_vtk, shade = shade_volumes, cmap = color_map)\n",
    "\n",
    "if show_axes:\n",
    "    plotter.show_axes()\n",
    "    \n",
    "if show_bounds:\n",
    "    plotter.show_bounds(all_edges = show_all_edges)\n",
    "\n",
    "# add a text to this subplot to indicate which segmentation is being visualized\n",
    "segFilename = shapeFilenames[shapeIdx].split('/')[-1] \n",
    "shapeName   = segFilename[:-len(shapeExtention)]\n",
    "plotter.add_text(shapeName, font_size = font_size)\n",
    "\n",
    "# now, add the second segmentation, \n",
    "# note that we repeat the same exact code but with a different segmentation \n",
    "# ---> perfect scenario to define a helper function \n",
    "# to reuse this code without having to duplicate the code    \n",
    "plotter.subplot(0, 1)\n",
    "plotter.add_volume(shapeSeg2_vtk, shade = shade_volumes, cmap = color_map)\n",
    "\n",
    "if show_axes:\n",
    "    plotter.show_axes()\n",
    "    \n",
    "if show_bounds:\n",
    "    plotter.show_bounds(all_edges = show_all_edges)\n",
    "\n",
    "# add a text to this subplot to indicate which segmentation is being visualized\n",
    "segFilename2 = shapeFilenames[shapeIdx2].split('/')[-1] \n",
    "shapeName2   = segFilename2[:-len(shapeExtention)]\n",
    "plotter.add_text(shapeName2, font_size = font_size)\n",
    "\n",
    "# link views\n",
    "if link_views:\n",
    "    plotter.link_views()  \n",
    "\n",
    "# now, time to render our segmentations\n",
    "plotter.show() #use_ipyvtk=True is already enabled by default using pv.rcParams"
   ]
  },
  {
   "cell_type": "markdown",
   "metadata": {},
   "source": [
    "<p><video src=\"https://sci.utah.edu/~shapeworks/doc-resources/mp4s/nb-seg-pv-2vols.mp4\" autoplay muted loop controls style=\"width:100%\"></p>"
   ]
  },
  {
   "cell_type": "markdown",
   "metadata": {},
   "source": [
    "### Defining a helper function\n",
    "\n",
    "Let's define a helper function that adds a segmentation to a `pyvista` plotter."
   ]
  },
  {
   "cell_type": "code",
   "execution_count": null,
   "metadata": {},
   "outputs": [],
   "source": [
    "def add_volume_to_plotter( pvPlotter,      # pyvista plotter\n",
    "                           vtkImg,         # vtk image to be added\n",
    "                           rowIdx, colIdx, # subplot row and column index\n",
    "                           title = None,   # text to be added to the subplot, use None to not show text \n",
    "                           shade_volumes  = True,  # use shading when performing volume rendering\n",
    "                           color_map      = \"coolwarm\", # color map for volume rendering, e.g., 'bone', 'coolwarm', 'cool', 'viridis', 'magma'\n",
    "                           show_axes      = True,  # show a vtk axes widget for each rendering window\n",
    "                           show_bounds    = False, # show volume bounding box\n",
    "                           show_all_edges = True,  # add an unlabeled and unticked box at the boundaries of plot. \n",
    "                           font_size      = 10     # text font size for windows\n",
    "                         ):\n",
    "    \n",
    "    # which subplot to add the volume to\n",
    "    pvPlotter.subplot(rowIdx, colIdx)\n",
    "    \n",
    "    # add the volume\n",
    "    pvPlotter.add_volume(vtkImg, \n",
    "                         shade   = shade_volumes, \n",
    "                         cmap    = color_map)\n",
    "\n",
    "    if show_axes:\n",
    "        pvPlotter.show_axes()\n",
    "\n",
    "    if show_bounds:\n",
    "        pvPlotter.show_bounds(all_edges = show_all_edges)\n",
    "\n",
    "    # add a text to this subplot to indicate which volume is being visualized\n",
    "    if title is not None:\n",
    "        pvPlotter.add_text(title, font_size = font_size)"
   ]
  },
  {
   "cell_type": "markdown",
   "metadata": {},
   "source": [
    "Let's test the helper functions by adding both segmentations then render."
   ]
  },
  {
   "cell_type": "code",
   "execution_count": null,
   "metadata": {},
   "outputs": [],
   "source": [
    "# define the plotter\n",
    "plotter = pv.Plotter(shape    = (grid_rows, grid_cols),\n",
    "                     notebook = is_interactive, \n",
    "                     border   = show_borders) \n",
    "\n",
    "# add the first segmentation\n",
    "add_volume_to_plotter( plotter, shapeSeg_vtk,   \n",
    "                       rowIdx = 0, colIdx = 0, \n",
    "                       title          = shapeName,\n",
    "                       shade_volumes  = shade_volumes, \n",
    "                       color_map      = color_map,\n",
    "                       show_axes      = show_axes, \n",
    "                       show_bounds    = show_bounds, \n",
    "                       show_all_edges = show_all_edges, \n",
    "                       font_size      = font_size)\n",
    "\n",
    "# add the second segmentation - note that we could define a loop to avoid code repetition\n",
    "add_volume_to_plotter( plotter, shapeSeg2_vtk,   \n",
    "                       rowIdx = 0, colIdx = 1, \n",
    "                       title          = shapeName2,\n",
    "                       shade_volumes  = shade_volumes, \n",
    "                       color_map      = color_map,\n",
    "                       show_axes      = show_axes, \n",
    "                       show_bounds    = show_bounds, \n",
    "                       show_all_edges = show_all_edges, \n",
    "                       font_size      = font_size)\n",
    "\n",
    "# link views\n",
    "if link_views:\n",
    "    plotter.link_views()  \n",
    "\n",
    "# now, time to render our segmentations\n",
    "plotter.show() #use_ipyvtk=True is already enabled by default using pv.rcParams"
   ]
  },
  {
   "cell_type": "markdown",
   "metadata": {},
   "source": [
    "## 7. Visualizing two segmentations in the same rendering window\n",
    "\n",
    "This type of visualization is useful when exploring differences between more than one segmentations, e.g., when inspecting the impact of a grooming/preprocessing step or the spatial relation of multiple samples. This is also useful if your shape data contains multiple domains (or compartments) such as anatomical joints.\n",
    "\n",
    "Note that, since we have a single rendering window (view), linking views is not necessary. But, if this multi-surface visualization is used in conjuction with multiple rendering windows, linking views should be considered. "
   ]
  },
  {
   "cell_type": "markdown",
   "metadata": {},
   "source": [
    "###  Using `pyvista` \n",
    "\n",
    "Note that, since we have a single rendering window (view), linking views is not necessary. But, if this multi-surface visualization is used in conjuction with multiple rendering windows, linking views should be considered. "
   ]
  },
  {
   "cell_type": "code",
   "execution_count": null,
   "metadata": {},
   "outputs": [],
   "source": [
    "# since we want to visualize the two segmentations in the same rendering window\n",
    "# we define grid size for two meshes as 1 x 1 grid\n",
    "\n",
    "grid_rows  = 1\n",
    "grid_cols  = 1\n",
    "\n",
    "# define parameters that controls the plotter\n",
    "is_interactive = True  # to enable interactive plots\n",
    "show_borders   = True  # show borders for each rendering window\n",
    "shade_volumes  = True  # use shading when performing volume rendering\n",
    "show_axes      = True  # show a vtk axes widget for each rendering window\n",
    "show_bounds    = False # show volume bounding box\n",
    "show_all_edges = True  # add an unlabeled and unticked box at the boundaries of plot. \n",
    "font_size      = 10    # text font size for windows\n",
    "link_views     = True  # link all rendering windows so that they share same camera and axes boundaries\n",
    "\n",
    "# let'd define a different color map for each segmentation\n",
    "# color map for volume rendering, e.g., 'bone', 'coolwarm', 'cool', 'viridis', 'magma'\n",
    "color_map1     = \"bone\" \n",
    "color_map2     = \"coolwarm\" \n",
    "\n",
    "one_title      = \"%s (%s), %s (%s)\" % (shapeName, color_map1, shapeName2, color_map2)\n",
    "\n",
    "# define the plotter\n",
    "plotter = pv.Plotter(shape    = (grid_rows, grid_cols),\n",
    "                     notebook = is_interactive, \n",
    "                     border   = show_borders) \n",
    "\n",
    "# add the first segmentation\n",
    "add_volume_to_plotter( plotter, shapeSeg_vtk,   \n",
    "                       rowIdx = 0, colIdx = 0, \n",
    "                       title          = None,\n",
    "                       shade_volumes  = shade_volumes, \n",
    "                       color_map      = color_map1,\n",
    "                       show_axes      = show_axes, \n",
    "                       show_bounds    = show_bounds, \n",
    "                       show_all_edges = show_all_edges, \n",
    "                       font_size      = font_size)\n",
    "\n",
    "# add the second segmentation - note that we could define a loop to avoid code repetition\n",
    "add_volume_to_plotter( plotter, shapeSeg2_vtk,   \n",
    "                       rowIdx = 0, colIdx = 0, \n",
    "                       title          = one_title,\n",
    "                       shade_volumes  = shade_volumes, \n",
    "                       color_map      = color_map2,\n",
    "                       show_axes      = show_axes, \n",
    "                       show_bounds    = show_bounds, \n",
    "                       show_all_edges = show_all_edges, \n",
    "                       font_size      = font_size)\n",
    "\n",
    "# now, time to render our segmentations\n",
    "plotter.show() #use_ipyvtk=True is already enabled by default using pv.rcParams"
   ]
  },
  {
   "cell_type": "markdown",
   "metadata": {},
   "source": [
    "<p><video src=\"https://sci.utah.edu/~shapeworks/doc-resources/mp4s/nb-seg-pv-2vols-same-win.mp4\" autoplay muted loop controls style=\"width:100%\"></p>"
   ]
  }
 ],
 "metadata": {
  "kernelspec": {
   "display_name": "Python 3",
   "language": "python",
   "name": "python3"
  },
  "language_info": {
   "codemirror_mode": {
    "name": "ipython",
    "version": 3
   },
   "file_extension": ".py",
   "mimetype": "text/x-python",
   "name": "python",
   "nbconvert_exporter": "python",
   "pygments_lexer": "ipython3",
   "version": "3.7.8"
  },
  "toc": {
   "base_numbering": 1,
   "nav_menu": {},
   "number_sections": false,
   "sideBar": true,
   "skip_h1_title": true,
   "title_cell": "Table of Contents",
   "title_sidebar": "Contents",
   "toc_cell": false,
   "toc_position": {},
   "toc_section_display": true,
   "toc_window_display": false
  }
 },
 "nbformat": 4,
 "nbformat_minor": 4
}
