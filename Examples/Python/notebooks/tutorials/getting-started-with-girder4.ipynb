{
 "cells": [
  {
   "cell_type": "markdown",
   "id": "ee04d1ec",
   "metadata": {},
   "source": [
    "# Getting Started with Segmentations\n",
    "\n",
    "## In this notebook the following operations will be demonstrated:\n",
    "\n",
    "1. Login and establish session to access the portal\n",
    "2. List the datasets available on the portal\n",
    "3. Upload a dataset\n",
    "4. Access and download a dataset \n",
    "5. Delete a dataset\n"
   ]
  },
  {
   "cell_type": "code",
   "execution_count": null,
   "id": "01c94d50",
   "metadata": {},
   "outputs": [],
   "source": [
    "import shapeworks as sw\n",
    "from shutil import rmtree\n",
    "from pathlib import Path"
   ]
  },
  {
   "cell_type": "code",
   "execution_count": null,
   "id": "7f7d24e7",
   "metadata": {},
   "outputs": [],
   "source": [
    "from swcc.api import swcc_session\n",
    "from swcc.models import Dataset\n",
    "from swcc.models import (\n",
    "    Dataset, GroomedSegmentation, OptimizedParticles,\n",
    "    OptimizedShapeModel, Project, Segmentation, Subject\n",
    ")"
   ]
  },
  {
   "cell_type": "markdown",
   "id": "3ca3ece8",
   "metadata": {},
   "source": [
    "## Establish session and list the available datasets"
   ]
  },
  {
   "cell_type": "code",
   "execution_count": null,
   "id": "f624f655",
   "metadata": {},
   "outputs": [],
   "source": [
    "#api as a context manager\n",
    "with swcc_session()  as session:\n",
    "    token = session.login('username', 'password')\n",
    "    session = swcc_session(token=token).__enter__()\n",
    "    print([(d.id, d.name) for d in Dataset.list()])"
   ]
  },
  {
   "cell_type": "code",
   "execution_count": null,
   "id": "645d6fcb",
   "metadata": {},
   "outputs": [],
   "source": [
    "# For development, it is possible to generate a session outside of a context manager.\n",
    "ctx = swcc_session(token=token)\n",
    "session = ctx.__enter__()\n",
    "print([(d.id, d.name) for d in Dataset.list()])"
   ]
  },
  {
   "cell_type": "code",
   "execution_count": null,
   "id": "29a8322f",
   "metadata": {},
   "outputs": [],
   "source": [
    "# To connect to a different server, sepecify it as part of the session:\n",
    "if False:  # Enable to run this cell\n",
    "    base_url = 'http://burgess:8000/api/v1'\n",
    "    with swcc_session(base_url=base_url) as session:\n",
    "        token = session.login('admin@noemail.com', 'django-password')\n",
    "    ctx = swcc_session(base_url=base_url, token=token)\n",
    "    session = ctx.__enter__()"
   ]
  },
  {
   "cell_type": "markdown",
   "id": "1761eda0",
   "metadata": {},
   "source": [
    "### You can list all entities on the server using the `list` method\n",
    "Fields of dataset are:\n",
    "1. id\n",
    "2. name \n",
    "3. description \n",
    "4. license\n",
    "5. acknowledgement\n",
    "6. keywords\n",
    "7. contributors\n",
    "8. publications "
   ]
  },
  {
   "cell_type": "code",
   "execution_count": null,
   "id": "7844dfad",
   "metadata": {},
   "outputs": [],
   "source": [
    "for d in Dataset.list(): \n",
    "    print(d.name,d.id,d.description)\n",
    "#     print(d)"
   ]
  },
  {
   "cell_type": "markdown",
   "id": "fc59e8bb",
   "metadata": {},
   "source": [
    "## Upload a datset\n",
    "In order to upload the a dataset you need:\n",
    "1. Segmentations/Images/Meshes \n",
    "2. Data file (xlxs) \n",
    "- The sheet has to be named -'data'\n",
    "- That sheet has to contain two columns: shape_file and image_file, both of which contain corresponding lists of relative paths to .nrrd files.\n",
    "   \n",
    "### <font color='red'>Try data sheet with mesh files and what can be done when a dataset has meshes and segmentations</b></i>\n",
    "\n",
    "3. Project file (xlxs)- Any number of projects can be aded to a dataset. \n",
    "- Each project consists of an Excel .xlsx file with two sheets: data and optimize. \n",
    "- The data sheet has columns shape_file, groomed_file, alignment_file, local_particles_file, and world_particles_file. The shape file and groomed file columns contain relative paths to .nrrd files. \n",
    "- The local and world particles file columns contain relative paths to .particles files. \n",
    "- The alignment file column is a 12 parameter transform consisting of numbers separated by spaces. \n",
    "- The optimize sheet has columnes key and value which contain model parameters.\n",
    "\n",
    "### <font color='red'> Project file generated from studio has more then two sheets.\n",
    "    - data - explained above\n",
    "    - groom - grooming parameter values\n",
    "    - optimize - explained above\n",
    "    - analysis - reconstruction algorithm parameters\n",
    "    - deepssm - deepssm parameter values\n",
    "    - studio - studio view options\n",
    "    - project - \n",
    "    \n"
   ]
  },
  {
   "cell_type": "code",
   "execution_count": null,
   "id": "668623d4",
   "metadata": {},
   "outputs": [],
   "source": [
    "# All domain models are pydantic models that can be created in offline mode:\n",
    "dataset = Dataset(name='test dataset2', license='license', description='just a test', acknowledgement='NIH')\n",
    "\n",
    "# Note that it is missing an `id`.\n",
    "dataset"
   ]
  },
  {
   "cell_type": "code",
   "execution_count": null,
   "id": "ec1a7245",
   "metadata": {},
   "outputs": [],
   "source": [
    "# To generate the entity on the server, you must call its `create` method\n",
    "dataset.create()\n",
    "# Now its id exists\n",
    "dataset"
   ]
  },
  {
   "cell_type": "code",
   "execution_count": null,
   "id": "25907e0a",
   "metadata": {},
   "outputs": [],
   "source": [
    "# Given an id, you can fetch data from the server\n",
    "dataset_id = dataset.id\n",
    "Dataset.from_id(dataset_id)"
   ]
  },
  {
   "cell_type": "markdown",
   "id": "5ccb1f73",
   "metadata": {},
   "source": [
    "\n",
    "### <font color='red'>Can we have an option which can specify, that an existing instance of the dataset can be deleted and replaced with the new one being uploaded? \n",
    "</font>"
   ]
  },
  {
   "cell_type": "code",
   "execution_count": null,
   "id": "b2cb5156",
   "metadata": {},
   "outputs": [],
   "source": [
    "\n",
    "old = Dataset.from_name('ellipsoid_test')\n",
    "# Either get rid of an existing dataset with the same name, or create a new name for testing\n",
    "\n",
    "if old:\n",
    "  print('Deleting previous version of %s' % 'ellipsoid_test')\n",
    "  old.delete()\n",
    "    "
   ]
  },
  {
   "cell_type": "code",
   "execution_count": null,
   "id": "021a83b9",
   "metadata": {},
   "outputs": [],
   "source": [
    "dataset = Dataset(\n",
    "        name='ellipsoid_test',\n",
    "        license='Users should acknowledge that the collection and processing of these images was supported by the National Institutes of Health',\n",
    "        description='Unaligned ellipsoids that vary along the x-axis. \\\n",
    "                     These ellipsoids have randomized size, center, rotation, and x radii.\\\n",
    "                     Images and segmentation have spacing [1,1,2]',\n",
    "        acknowledgement='NIH')\n",
    "\n",
    "dataset.create()\n",
    "data = dataset.load_data_spreadsheet(Path('../Output/ellipsoid/data.xlsx'))\n",
    "project = dataset.add_project(Path('../Output/ellipsoid/project.xlsx'))\n"
   ]
  },
  {
   "cell_type": "markdown",
   "id": "ad58523b",
   "metadata": {},
   "source": [
    "## We can also explore the data using the models"
   ]
  },
  {
   "cell_type": "markdown",
   "id": "7466c301",
   "metadata": {},
   "source": [
    "### <font color='red'>How to add the anatomy type? "
   ]
  },
  {
   "cell_type": "code",
   "execution_count": null,
   "id": "5a56af08",
   "metadata": {},
   "outputs": [],
   "source": [
    "segmentation = next(data.segmentations)\n",
    "print(f'Anatomy type: {segmentation.anatomy_type}') "
   ]
  },
  {
   "cell_type": "markdown",
   "id": "045f9b64",
   "metadata": {},
   "source": [
    "### <font color='red'>and how to address the other sheets from the project file?"
   ]
  },
  {
   "cell_type": "code",
   "execution_count": null,
   "id": "7940421b",
   "metadata": {},
   "outputs": [],
   "source": [
    "shape_models = next(project.shape_models)\n",
    "shape_models.parameters"
   ]
  },
  {
   "cell_type": "markdown",
   "id": "3b72337e",
   "metadata": {},
   "source": [
    "Right now, we can access the shape parameters from the project file"
   ]
  },
  {
   "cell_type": "code",
   "execution_count": null,
   "id": "343f0a6b",
   "metadata": {},
   "outputs": [],
   "source": [
    "#access individual parameters of shape model\n",
    "print(\"Number of particles\", shape_models.parameters[\"number_of_particles\"])\n",
    "print(\"Narrow band \", shape_models.parameters[\"narrow_band\"])\n",
    "print(\"Use normals \", shape_models.parameters[\"use_normals\"])"
   ]
  },
  {
   "cell_type": "markdown",
   "id": "be35498c",
   "metadata": {},
   "source": [
    "## Given an ID, fetch data from the server"
   ]
  },
  {
   "cell_type": "code",
   "execution_count": null,
   "id": "5403f2b8",
   "metadata": {},
   "outputs": [],
   "source": [
    "print([(d.id, d.name) for d in Dataset.list()])"
   ]
  },
  {
   "cell_type": "code",
   "execution_count": null,
   "id": "ed9ca520",
   "metadata": {},
   "outputs": [],
   "source": [
    "dataset_id = 78\n",
    "Dataset.from_id(dataset_id)"
   ]
  },
  {
   "cell_type": "markdown",
   "id": "2a60b19f",
   "metadata": {},
   "source": [
    "## How to access shape segmentations"
   ]
  },
  {
   "cell_type": "markdown",
   "id": "44956c53",
   "metadata": {},
   "source": [
    "### Each segmentation has the following attributes:\n",
    "- id\n",
    "- file \n",
    "- anatomy_type\n",
    "- subject:\n",
    "    - id \n",
    "    - name \n",
    "    - dataset\n",
    "    "
   ]
  },
  {
   "cell_type": "code",
   "execution_count": null,
   "id": "adf565ad",
   "metadata": {},
   "outputs": [],
   "source": [
    "dataset_name = 'ellipsoid_test'\n",
    "# print(Dataset.from_name(dataset_name))\n",
    "seg = next(Dataset.from_name(dataset_name).segmentations)\n",
    "print(seg)"
   ]
  },
  {
   "cell_type": "markdown",
   "id": "ce7d36e8",
   "metadata": {},
   "source": [
    "### <font color='red'> How to access shape files and images?"
   ]
  },
  {
   "cell_type": "code",
   "execution_count": null,
   "id": "22edff58",
   "metadata": {},
   "outputs": [],
   "source": [
    "dataset_name = 'ellipsoid_test'\n",
    "print(Dataset.from_name(dataset_name).images)"
   ]
  },
  {
   "cell_type": "markdown",
   "id": "afffe63e",
   "metadata": {},
   "source": [
    "## Delete a dataset"
   ]
  },
  {
   "cell_type": "code",
   "execution_count": null,
   "id": "d468e685",
   "metadata": {},
   "outputs": [],
   "source": [
    "# dataset = Dataset.from_name('ellipsoid8_3')\n",
    "# dataset.delete()\n",
    "# print([(d.id, d.name) for d in Dataset.list()])"
   ]
  },
  {
   "cell_type": "markdown",
   "id": "af5945cb",
   "metadata": {},
   "source": [
    "## Download a dataset"
   ]
  },
  {
   "cell_type": "code",
   "execution_count": null,
   "id": "94327f84",
   "metadata": {},
   "outputs": [],
   "source": [
    "# Download a full dataset in bulk\n",
    "dataset = Dataset.from_name('ellipsoid_test')\n",
    "download_path = Path('../Output/downloads/ellipsoid/')\n",
    "if download_path.exists():\n",
    "    rmtree(str(download_path))\n",
    "    \n",
    "dataset.download(download_path)"
   ]
  },
  {
   "cell_type": "markdown",
   "id": "e846f54d",
   "metadata": {},
   "source": [
    "## Not clear how to use this ? \n",
    "    \n",
    "### <font color='red'>Here project variable was used when uploading the new ellipsoid dataset. When we are accessing the dataset from the portal, how can we access the project part? </font>\n",
    "\n",
    "### <font color='red'> Do we always have to read the project files to access the shape models ? </font>"
   ]
  },
  {
   "cell_type": "code",
   "execution_count": null,
   "id": "1a7d02c4",
   "metadata": {},
   "outputs": [],
   "source": [
    "new_dataset = Dataset.from_name(dataset_name)\n",
    "new_dataset.Project\n",
    "print(Dataset.from_name(dataset_name).project)\n",
    "\n",
    "print('')\n",
    "\n",
    "# There is also a helper method on models to download all files attached to them\n",
    "groomed = next(project.groomed_segmentations)\n",
    "for download in groomed.download_files('downloads/groomed'):\n",
    "    print(f'Downloaded {download}...')"
   ]
  },
  {
   "cell_type": "code",
   "execution_count": null,
   "id": "ce904927",
   "metadata": {},
   "outputs": [],
   "source": [
    "# We can also explore the data using the models\n",
    "\n",
    "\n",
    "shape_models = next(project.shape_models)\n",
    "shape_models.parameters\n",
    "\n",
    "dataset_name = 'ellipsoid_test'\n",
    "# print(Dataset.from_name(dataset_name))\n",
    "seg = next(Dataset.from_name(dataset_name).segmentations)\n",
    "print(seg)\n",
    "\n",
    "# The entities contain urls to download the associated files\n",
    "print('Download url:')\n",
    "print(seg.file.url)\n",
    "\n",
    "print('')\n",
    "\n",
    "# There is a helper method to download the file to a provided path\n",
    "print(f\"Downloaded {seg.file.download('downloads')}...\")\n"
   ]
  },
  {
   "cell_type": "markdown",
   "id": "60a018e0",
   "metadata": {},
   "source": [
    "### <font color='red'> How to access the urls for other files like images/particle data? "
   ]
  }
 ],
 "metadata": {
  "kernelspec": {
   "display_name": "Python 3",
   "language": "python",
   "name": "python3"
  },
  "language_info": {
   "codemirror_mode": {
    "name": "ipython",
    "version": 3
   },
   "file_extension": ".py",
   "mimetype": "text/x-python",
   "name": "python",
   "nbconvert_exporter": "python",
   "pygments_lexer": "ipython3",
   "version": "3.7.8"
  },
  "toc": {
   "base_numbering": 1,
   "nav_menu": {},
   "number_sections": true,
   "sideBar": true,
   "skip_h1_title": false,
   "title_cell": "Table of Contents",
   "title_sidebar": "Contents",
   "toc_cell": false,
   "toc_position": {},
   "toc_section_display": true,
   "toc_window_display": false
  }
 },
 "nbformat": 4,
 "nbformat_minor": 5
}
