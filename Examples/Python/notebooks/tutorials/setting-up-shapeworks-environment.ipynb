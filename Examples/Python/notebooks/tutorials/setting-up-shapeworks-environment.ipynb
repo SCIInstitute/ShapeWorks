{
 "cells": [
  {
   "cell_type": "markdown",
   "metadata": {},
   "source": [
    "# Setting Up ShapeWorks Environment"
   ]
  },
  {
   "cell_type": "markdown",
   "metadata": {},
   "source": [
    "## Before you start!\n",
    "\n",
    "- This [notebook](setting-up-shapeworks-environment.ipynb) assumes that shapeworks conda environment has been activated using `conda activate shapeworks` on the terminal.\n",
    "\n",
    "## In this notebook, you will learn:\n",
    "\n",
    "1. How to setup shapeworks environment\n",
    "2. How to import shapeworks and test if setting the environment is successful\n",
    "\n",
    "We will also define modular/generic helper functions as we walk through these items to reuse functionalities without duplicating code.\n",
    "\n",
    "\n",
    "## Notebook keyboard shortcuts\n",
    "\n",
    "- `Esc + H`: displays a complete list of keyboard shortcuts\n",
    "- `Esc + A`: insert new cell above the current cell\n",
    "- `Esc + B`: insert new cell below the current cell\n",
    "- `Esc + D + D`: delete current cell\n",
    "- `Esc + Z`: undo\n",
    "- `Shift + enter`: run current cell and move to next\n",
    "- To show a function's argument list (i.e., signature), use `(` then `shift-tab`\n",
    "- Use `shift-tab-tab` to show more help for a function\n",
    "- To show the help of a function, use `help(function)` or `function?`\n",
    "- To show all functions supported by an object, use `dot-tab` after the variable name\n",
    "\n"
   ]
  },
  {
   "cell_type": "markdown",
   "metadata": {},
   "source": [
    "## 1. Setting up `shapeworks` environment \n",
    "\n",
    "To setup shapeworks environement, please make sure to add the following paths to both your `PYTHONPATH` and your system `PATH`.\n",
    "\n",
    "- shapeworks bin directory\n",
    "- shapeworks dependencies bin directory\n",
    "\n",
    "This can be done either by running the following commands on the terminal \n",
    "\n",
    "```\n",
    "export PYTHONPATH=/path/to/build/bin:$PYTHONPATH\n",
    "export PATH=/path/to/build/bin:$PATH\n",
    "```\n",
    "\n",
    "Or by appending these paths in python (see below)."
   ]
  },
  {
   "cell_type": "markdown",
   "metadata": {},
   "source": [
    "### What paths do we need?\n",
    "\n",
    "In this notebook, we assume the following.\n",
    "\n",
    "- This notebook is located in `Examples/Python/notebooks/tutorials`\n",
    "- You have built shapeworks from source in `build` directory within the shapeworks code directory\n",
    "- You have built shapeworks dependencies (using `build_dependencies.sh`) in the same parent directory of shapeworks code\n",
    "\n",
    "**Note:** If you run from a ShapeWorks installation, you don't need to set the dependencies path and the `shapeworks_bin_dir` would be set as `../../../../bin`.\n"
   ]
  },
  {
   "cell_type": "code",
   "execution_count": null,
   "metadata": {},
   "outputs": [],
   "source": [
    "# import relevant libraries \n",
    "# and indicate the bin directories for shapeworks and its dependencies\n",
    "\n",
    "import os\n",
    "import sys\n",
    "import platform\n",
    "\n",
    "# paths to be set\n",
    "shapeworks_bin_dir   = \"../../../../build/bin\"\n",
    "dependencies_bin_dir = \"../../../../../shapeworks-dependencies/bin\""
   ]
  },
  {
   "cell_type": "markdown",
   "metadata": {},
   "source": [
    "### Define helper functions for to set up shapeworks environment\n",
    "\n",
    "Below, we will define the following helper functions:\n",
    "- a helper function to print out the updated python path\n",
    "- a helper function to print out the updated system path\n",
    "- a helper function to add shapeworks and its dependencies bin directory to both paths"
   ]
  },
  {
   "cell_type": "code",
   "execution_count": null,
   "metadata": {},
   "outputs": [],
   "source": [
    "# helper function to print out python path\n",
    "def print_python_path():\n",
    "    syspath = sys.path.copy()\n",
    "    print(\"\\nPython path:\")\n",
    "    for curpath in syspath:\n",
    "        if curpath != \"\":\n",
    "            print(curpath)\n",
    "        \n",
    "# helper function to print out system path\n",
    "def print_env_path():\n",
    "    syspath = os.environ[\"PATH\"].split(os.pathsep)\n",
    "    print(\"\\nSystem path:\")\n",
    "    for curpath in syspath:\n",
    "        if curpath != \"\":\n",
    "            print(curpath)\n",
    "        \n",
    "# helper function to add shapeworks bin directory to the path\n",
    "def setup_shapeworks_env(shapeworks_bin_dir,   # path to the binary directory of shapeworks\n",
    "                         dependencies_bin_dir, # path to the binary directory of shapeworks dependencies used when running build_dependencies.sh\n",
    "                         verbose = True):\n",
    "    \n",
    "    # add shapeworks (and studio on mac) directory to python path \n",
    "    sys.path.append(shapeworks_bin_dir)\n",
    "    if platform.system() == \"Darwin\": # MacOS\n",
    "        sys.path.append(shapeworks_bin_dir + \"/ShapeWorksStudio.app/Contents/MacOS\")\n",
    "    \n",
    "    # add shapeworks and studio to the system path\n",
    "    os.environ[\"PATH\"] = shapeworks_bin_dir   + os.pathsep + os.environ[\"PATH\"]\n",
    "    os.environ[\"PATH\"] = dependencies_bin_dir + os.pathsep + os.environ[\"PATH\"]\n",
    "    if platform.system() == \"Darwin\": # MacOS\n",
    "        os.environ[\"PATH\"] = shapeworks_bin_dir + \"/ShapeWorksStudio.app/Contents/MacOS\" + os.pathsep + os.environ[\"PATH\"]\n",
    "    \n",
    "    if verbose:\n",
    "        print_python_path()\n",
    "        print_env_path()"
   ]
  },
  {
   "cell_type": "markdown",
   "metadata": {},
   "source": [
    "### Set your shapeworks enviroment\n",
    "\n",
    "Now, call your `setup_shapeworks_env` helper function to set up your shapeworks environment."
   ]
  },
  {
   "cell_type": "code",
   "execution_count": null,
   "metadata": {},
   "outputs": [],
   "source": [
    "# set up shapeworks environment\n",
    "setup_shapeworks_env(shapeworks_bin_dir,  \n",
    "                     dependencies_bin_dir, \n",
    "                     verbose = False)"
   ]
  },
  {
   "cell_type": "markdown",
   "metadata": {},
   "source": [
    "## 2. Importing `shapeworks` library and test environment setup\n"
   ]
  },
  {
   "cell_type": "code",
   "execution_count": null,
   "metadata": {},
   "outputs": [],
   "source": [
    "# let's import shapeworks library to test whether shapeworks is now set\n",
    "# if the error is not printed, we are done with the setup\n",
    "\n",
    "try:\n",
    "    import shapeworks as sw\n",
    "except ImportError:\n",
    "    print('ERROR: shapeworks library failed to import')\n",
    "else:\n",
    "    print('SUCCESS: shapeworks library is successfully imported!!!')"
   ]
  }
 ],
 "metadata": {
  "kernelspec": {
   "display_name": "Python 3",
   "language": "python",
   "name": "python3"
  },
  "language_info": {
   "codemirror_mode": {
    "name": "ipython",
    "version": 3
   },
   "file_extension": ".py",
   "mimetype": "text/x-python",
   "name": "python",
   "nbconvert_exporter": "python",
   "pygments_lexer": "ipython3",
   "version": "3.7.8"
  },
  "toc": {
   "base_numbering": 1,
   "nav_menu": {},
   "number_sections": false,
   "sideBar": true,
   "skip_h1_title": true,
   "title_cell": "Table of Contents",
   "title_sidebar": "Contents",
   "toc_cell": false,
   "toc_position": {},
   "toc_section_display": true,
   "toc_window_display": false
  }
 },
 "nbformat": 4,
 "nbformat_minor": 4
}
