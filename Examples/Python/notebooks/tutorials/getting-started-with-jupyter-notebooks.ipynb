{
 "cells": [
  {
   "cell_type": "markdown",
   "metadata": {},
   "source": [
    "# Getting Started with Jupyter Notebooks"
   ]
  },
  {
   "cell_type": "markdown",
   "metadata": {},
   "source": [
    "## What is a Notebook?\n",
    "\n",
    "A notebook is a single document where you can run code, display and visualize its output, add explanations enriched with images, charts, and equations, making your code more transparent, interpretable, reproducible, and shareable.\n"
   ]
  },
  {
   "cell_type": "markdown",
   "metadata": {},
   "source": [
    "## What is Jupyter Notebook?\n",
    "\n",
    "The Jupyter Notebook is a powerful tool to interactively prototype and present ideas and workflows.\n",
    "\n",
    "\n",
    "The Jupyter Notebook is an open source web application that enables you to create documents that contain runnable code, text, equations, and visualizations.\n",
    "\n",
    "\n",
    "Jupyter supports IPython kernel to allow you to write/prototype programs in Python. You can also use other kernels (e.g., R and Julia .. etc) with Jupyter notebooks.\n",
    "\n",
    "\n",
    "The Jupyter Notebook combines three components:\n",
    "\n",
    "- **Notebook web app:** An interactive web application to edit code in the browser, run code from the browser, see the results of running the code in the browser, create and use interactive widgets, and author narrative text and equations. \n",
    "- **Kernels:** Processes launched by the notebook web app that runs code in a specific language and handles interactive widgets and tab completion. The default kernel runs Python code. \n",
    "- **Notebook documents:** Documents that contain visible content in the notebook web app, including inputs and outputs of an interactive session, narrative text, equations, and images, and rich media representations of objects. Each notebook document has its own kernel. Notebook documents are files with a `.ipynb` extension Internally, notebook documents are `json` data with binary output encoded.\n"
   ]
  },
  {
   "cell_type": "markdown",
   "metadata": {},
   "source": [
    "## ShapeWorks installs Jupyter for you\n",
    "\n",
    "The Jupyter Notebook is not included with Python. The `conda_installs` script the comes with ShapeWorks (`conda_installs.sh` for Mac OS and Linux and `conda_installs.bat` for Window) installs Jupyter Notebook for you.\n",
    "\n",
    "ShapeWorks also installs and enables for you \n",
    "- a spell checker extension for the text cells\n",
    "- a table of content extension to easily navigate notebooks"
   ]
  },
  {
   "cell_type": "markdown",
   "metadata": {},
   "source": [
    "## Starting the Jupyter Notebook server\n",
    "\n",
    "Now that you have run `conda_installs` - only needed once by running:\n",
    "```shell\n",
    "source conda_installs.sh\n",
    "```\n",
    "\n",
    "To get the server started, all you need to do is \n",
    "- open up your terminal  \n",
    "- go to the folder where you would like to save your notebooks in\n",
    "- activate `shapeworks` environment by running `conda activate shapeworks`\n",
    "- launch the notebook server by running `jupyter notebook`\n",
    "\n",
    "**Note**: Notebooks for demonstrating ShapeWorks tools are located in `Examples/Python/notebooks/tutorials`. We recommend that you create a folder in `Examples/Python/notebooks/` directory for your own notebooks.\n",
    "\n",
    "\n",
    "<p><video src=\"https://sci.utah.edu/~shapeworks/doc-resources/mp4s/jupyter-command.mp4\" autoplay muted loop controls style=\"width:100%\"></p>"
   ]
  },
  {
   "cell_type": "markdown",
   "metadata": {},
   "source": [
    "This will launch the Jupyter server. Your default browser will then start or open a new tab  to this local URL: http://localhost:8888/tree\n",
    "\n",
    "\n",
    "Your browser should now look something like this:\n",
    "\n",
    "<p><video src=\"https://sci.utah.edu/~shapeworks/doc-resources/mp4s/jupyter-browser.mp4\" autoplay muted loop controls style=\"width:100%\"></p>"
   ]
  },
  {
   "cell_type": "markdown",
   "metadata": {},
   "source": [
    "## Creating a notebook\n",
    "\n",
    "So far, you have started a notebook server and create the folder where you will save your notebooks. Let's now create an actual Notebook document. \n",
    "\n",
    "This is in fact a click away, all you need to do is click on the `new` button in the upper right and choose the type of file (notebook) you want to create. \n",
    "\n",
    "The word `Untitled` beside the Jupyter logo is the name of your notebooks.  You can move your mouse over the word `Untitled` and click on the text to rename your notebook to a more descriptive name that reflects the purpose of your notebook.\n",
    "\n",
    "<p><video src=\"https://sci.utah.edu/~shapeworks/doc-resources/mp4s/jupyter-new-notebook.mp4\" autoplay muted loop controls style=\"width:100%\"></p>"
   ]
  },
  {
   "cell_type": "markdown",
   "metadata": {},
   "source": [
    "## Running notebook cells\n",
    "\n",
    "A Jupyter notebook can have both text (written in markdown) and code cells. When you create a new cell, it defaults to be a code cell running the kernel you chose for your notebook.\n",
    "\n",
    "Below is a simple Python code that prints `Hello ShapeWorks!`. Running a cell means that you will execute the chunk of code in that cell. To run a cell, you can do either of the below:\n",
    "- click `Cell` from the Jupyter menu then click `Run Cells`\n",
    "- click the cell and hit the `Run` button in the bar below the Jupyter menu\n",
    "- press `Shift + Enter` if you prefer keyboard shortcuts\n",
    "\n",
    "<p><video src=\"https://sci.utah.edu/~shapeworks/doc-resources/mp4s/jupyter-run-cell.mp4\" autoplay muted loop controls style=\"width:100%\"></p>"
   ]
  },
  {
   "cell_type": "markdown",
   "metadata": {},
   "source": [
    "## Having multiple cells\n",
    "\n",
    "\n",
    "Typically, we divide our code and text into logical chunks, each in a cell, for readability. Cells can be run in order and share variables and libraries imports. You can also run cells in non-sequential order, especially when you are prototyping your notebook.\n",
    "\n",
    "If a code cell is not yet executed, you will find an empty square braces `In [ ]` to the left of the cell. Once it is executed, this will auto fill with a number that indicates the order that you ran the cells. \n",
    "\n",
    "<p><video src=\"https://sci.utah.edu/~shapeworks/doc-resources/mp4s/jupyter-multiple-cells.mp4\" autoplay muted loop controls style=\"width:100%\"></p>"
   ]
  },
  {
   "cell_type": "markdown",
   "metadata": {},
   "source": [
    "## Styling and navigation\n",
    "\n",
    "Jupyter notebook supports Markdown, a simple markup language that enables simple formatting for section headers, code samples, weblinks, and images, yet is still readable as plain text.\n",
    "\n",
    "To create a text cell, create a new cell and set its type to `Markdown` using the drop-down menu in the top icon bar. Start writing your text with markdown styling, for example:\n",
    "```markdown\n",
    "User _underscore_ for italics and **double asterisks** for bold.\n",
    "```\n",
    "\n",
    "Then run the cell (e.g. press `Shift + Enter`).\n",
    "\n",
    "<p><video src=\"https://sci.utah.edu/~shapeworks/doc-resources/mp4s/jupyter-markdown.mp4\" autoplay muted loop controls style=\"width:100%\"></p>"
   ]
  },
  {
   "cell_type": "markdown",
   "metadata": {},
   "source": [
    "## Notebook keyboard shortcuts\n",
    "\n",
    "- `Esc + H`: displays a complete list of keyboard shortcuts\n",
    "- `Esc + A`: insert new cell above the current cell\n",
    "- `Esc + B`: insert new cell below the current cell\n",
    "- `Esc + D + D`: delete current cell\n",
    "- `Esc + Z`: undo\n",
    "- `Shift + enter`: run current cell and move to next\n",
    "- To show a function's argument list (i.e., signature), use `(` then `shift-tab`\n",
    "- Use `shift-tab-tab` to show more help for a function\n",
    "- To show the help of a function, use `help(function)` or `function?`\n",
    "- To show all functions supported by an object, use `dot-tab` after the variable name\n",
    "\n"
   ]
  }
 ],
 "metadata": {
  "kernelspec": {
   "display_name": "Python 3",
   "language": "python",
   "name": "python3"
  },
  "language_info": {
   "codemirror_mode": {
    "name": "ipython",
    "version": 3
   },
   "file_extension": ".py",
   "mimetype": "text/x-python",
   "name": "python",
   "nbconvert_exporter": "python",
   "pygments_lexer": "ipython3",
   "version": "3.7.8"
  },
  "toc": {
   "base_numbering": 1,
   "nav_menu": {},
   "number_sections": false,
   "sideBar": true,
   "skip_h1_title": true,
   "title_cell": "Table of Contents",
   "title_sidebar": "Contents",
   "toc_cell": false,
   "toc_position": {},
   "toc_section_display": true,
   "toc_window_display": false
  }
 },
 "nbformat": 4,
 "nbformat_minor": 4
}
