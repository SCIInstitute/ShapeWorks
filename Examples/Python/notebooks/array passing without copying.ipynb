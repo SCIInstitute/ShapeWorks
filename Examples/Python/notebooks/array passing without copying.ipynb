{
 "cells": [
  {
   "cell_type": "code",
   "execution_count": null,
   "id": "676448c7",
   "metadata": {},
   "outputs": [],
   "source": [
    "import shapeworks as sw"
   ]
  },
  {
   "cell_type": "code",
   "execution_count": null,
   "id": "fd9cb96d",
   "metadata": {},
   "outputs": [],
   "source": [
    "import numpy as np"
   ]
  },
  {
   "cell_type": "markdown",
   "id": "eb6170cc",
   "metadata": {},
   "source": [
    "## shapeworks Image from numpy array"
   ]
  },
  {
   "cell_type": "code",
   "execution_count": null,
   "id": "8e2c379b",
   "metadata": {},
   "outputs": [],
   "source": [
    "dims = (1,3,2) # NOTE: numpy dims are specified in z, y, x order\n",
    "farr = np.ndarray(dims, dtype=np.float32)\n",
    "\n",
    "ival = 10; jval = 50; kval = 1.75\n",
    "for i in range(0, farr.shape[2]):\n",
    "    for j in range(0, farr.shape[1]):\n",
    "        for k in range(0, farr.shape[0]):\n",
    "            farr[k][j][i] = ival*(i/farr.shape[2]) + jval*(j/farr.shape[1]) + kval/farr.shape[0]"
   ]
  },
  {
   "cell_type": "code",
   "execution_count": null,
   "id": "772f66ea",
   "metadata": {},
   "outputs": [],
   "source": [
    "farr.mean()"
   ]
  },
  {
   "cell_type": "code",
   "execution_count": null,
   "id": "21fa3f3e",
   "metadata": {},
   "outputs": [],
   "source": [
    "farr.dtype"
   ]
  },
  {
   "cell_type": "code",
   "execution_count": null,
   "id": "94b799ed",
   "metadata": {},
   "outputs": [],
   "source": [
    "farr.flags['OWNDATA']"
   ]
  },
  {
   "cell_type": "code",
   "execution_count": null,
   "id": "983c61df",
   "metadata": {},
   "outputs": [],
   "source": [
    "farrimg = sw.Image(farr)\n",
    "farrimg  # NOTE: sw.Image dims are specified in x, y, z order"
   ]
  },
  {
   "cell_type": "code",
   "execution_count": null,
   "id": "71f618a8",
   "metadata": {},
   "outputs": [],
   "source": [
    "farrimg.mean()"
   ]
  },
  {
   "cell_type": "markdown",
   "id": "d7b48811",
   "metadata": {},
   "source": [
    "### While the numpy can still look at the memory, it no longer has ownership:"
   ]
  },
  {
   "cell_type": "code",
   "execution_count": null,
   "id": "08697b09",
   "metadata": {},
   "outputs": [],
   "source": [
    "farr.flags['OWNDATA']"
   ]
  },
  {
   "cell_type": "code",
   "execution_count": null,
   "id": "d28d590b",
   "metadata": {},
   "outputs": [],
   "source": [
    "farrimg += 100"
   ]
  },
  {
   "cell_type": "code",
   "execution_count": null,
   "id": "6f55d4d1",
   "metadata": {},
   "outputs": [],
   "source": [
    "farrimg.mean()"
   ]
  },
  {
   "cell_type": "code",
   "execution_count": null,
   "id": "050279c9",
   "metadata": {},
   "outputs": [],
   "source": [
    "farr.mean()"
   ]
  },
  {
   "cell_type": "markdown",
   "id": "1bed249c",
   "metadata": {},
   "source": [
    "### ...so the safest thing to do now is let the array go out of scope: \n",
    "- having used a temporary during Image construction: `img = sw.Image(np.array(arr))`\n",
    "- variable replacement after Image construction: `arr = np.zeros(1)`\n",
    "- explicit deletion after Image construction: `del arr`"
   ]
  },
  {
   "cell_type": "code",
   "execution_count": null,
   "id": "4fc0900f",
   "metadata": {},
   "outputs": [],
   "source": [
    "del farr"
   ]
  },
  {
   "cell_type": "markdown",
   "id": "bf37ed95",
   "metadata": {},
   "source": [
    "## Only dtype.float32 arrays can be used to initialize an image:"
   ]
  },
  {
   "cell_type": "code",
   "execution_count": null,
   "id": "113b80ee",
   "metadata": {},
   "outputs": [],
   "source": [
    "dims = (12,3,21)\n",
    "darr = np.ndarray(dims, dtype=np.float64)\n",
    "\n",
    "ival = 10; jval = 50; kval = 1.75\n",
    "for k in range(0, dims[0]):\n",
    "    for j in range(0, dims[1]):\n",
    "        for i in range(0, dims[2]):\n",
    "            darr[k][j][i] = ival*(i/darr.shape[2]) + jval*(j/darr.shape[1]) + kval/darr.shape[0]"
   ]
  },
  {
   "cell_type": "code",
   "execution_count": null,
   "id": "07826460",
   "metadata": {},
   "outputs": [],
   "source": [
    "darr.dtype"
   ]
  },
  {
   "cell_type": "code",
   "execution_count": null,
   "id": "c9074a90",
   "metadata": {},
   "outputs": [],
   "source": [
    "darr.flags['OWNDATA']"
   ]
  },
  {
   "cell_type": "code",
   "execution_count": null,
   "id": "32cda8c7",
   "metadata": {},
   "outputs": [],
   "source": [
    "# note: this try/catch is only used so the notebook runs to completion; not typically necessary\n",
    "try:\n",
    "    darrimg = sw.Image(darr) # Throws an exception because dtype must be same as Image's pixel type\n",
    "except Exception as ex:\n",
    "    print(ex)\n"
   ]
  },
  {
   "cell_type": "code",
   "execution_count": null,
   "id": "2708b3d9",
   "metadata": {},
   "outputs": [],
   "source": [
    "darrimg = sw.Image(np.array(darr, dtype=np.float32)) # Makes a copy of the array when passsed\n",
    "darrimg"
   ]
  },
  {
   "cell_type": "markdown",
   "id": "54ec965d",
   "metadata": {},
   "source": [
    "## _No unnecessary copies and no memory leaks!_"
   ]
  },
  {
   "cell_type": "markdown",
   "id": "2f4b0d30",
   "metadata": {},
   "source": [
    "### The numpy array still owns its data since a copy was passed to create the Image.\n",
    "### Ownership of the copy's memory was taken by the image before it went out of scope."
   ]
  },
  {
   "cell_type": "code",
   "execution_count": null,
   "id": "c0762777",
   "metadata": {},
   "outputs": [],
   "source": [
    "darr.flags['OWNDATA']"
   ]
  },
  {
   "cell_type": "code",
   "execution_count": null,
   "id": "ef466e5b",
   "metadata": {},
   "outputs": [],
   "source": [
    "darrimg.mean()"
   ]
  },
  {
   "cell_type": "code",
   "execution_count": null,
   "id": "7f03df42",
   "metadata": {},
   "outputs": [],
   "source": [
    "darr.mean()"
   ]
  },
  {
   "cell_type": "code",
   "execution_count": null,
   "id": "03ee8f89",
   "metadata": {},
   "outputs": [],
   "source": [
    "darrimg += 50"
   ]
  },
  {
   "cell_type": "code",
   "execution_count": null,
   "id": "2eda13ba",
   "metadata": {},
   "outputs": [],
   "source": [
    "darrimg.mean()"
   ]
  },
  {
   "cell_type": "code",
   "execution_count": null,
   "id": "e8650571",
   "metadata": {},
   "outputs": [],
   "source": [
    "darr.mean()"
   ]
  },
  {
   "cell_type": "code",
   "execution_count": null,
   "id": "9fbd6a42",
   "metadata": {},
   "outputs": [],
   "source": [
    "darr *= 10"
   ]
  },
  {
   "cell_type": "code",
   "execution_count": null,
   "id": "c7fcd8a4",
   "metadata": {},
   "outputs": [],
   "source": [
    "darrimg.mean()"
   ]
  },
  {
   "cell_type": "code",
   "execution_count": null,
   "id": "33e12833",
   "metadata": {},
   "outputs": [],
   "source": [
    "darr.mean()"
   ]
  },
  {
   "cell_type": "markdown",
   "id": "486b8ee0",
   "metadata": {},
   "source": [
    "### Now for the other way around.\n",
    "## numpy array from shapeworks Image"
   ]
  },
  {
   "cell_type": "code",
   "execution_count": null,
   "id": "57df1dbb",
   "metadata": {},
   "outputs": [],
   "source": [
    "ellipsoid_path = \"/Users/cam/data/sw/tmp/1x2x2.nrrd\"\n",
    "femur_path = \"/Users/cam/data/sw/femur.nrrd\""
   ]
  },
  {
   "cell_type": "code",
   "execution_count": null,
   "id": "dfd8b18d",
   "metadata": {},
   "outputs": [],
   "source": [
    "img = sw.Image(ellipsoid_path)\n",
    "img"
   ]
  },
  {
   "cell_type": "code",
   "execution_count": null,
   "id": "a46b28ab",
   "metadata": {},
   "outputs": [],
   "source": [
    "arr = img.toArray()\n",
    "arr.dtype"
   ]
  },
  {
   "cell_type": "code",
   "execution_count": null,
   "id": "f79efaf8",
   "metadata": {},
   "outputs": [],
   "source": [
    "arr.mean()"
   ]
  },
  {
   "cell_type": "code",
   "execution_count": null,
   "id": "ed6eea34",
   "metadata": {},
   "outputs": [],
   "source": [
    "img.mean()"
   ]
  },
  {
   "cell_type": "code",
   "execution_count": null,
   "id": "580b8add",
   "metadata": {},
   "outputs": [],
   "source": [
    "arr.shape  # remember, numpy dims are zyx and Image dims are xyz "
   ]
  },
  {
   "cell_type": "code",
   "execution_count": null,
   "id": "bebff192",
   "metadata": {},
   "outputs": [],
   "source": [
    "img.dims()"
   ]
  },
  {
   "cell_type": "markdown",
   "id": "3639ed2a",
   "metadata": {},
   "source": [
    "### The numpy array references the memory of the current Image and can change it:\n"
   ]
  },
  {
   "cell_type": "code",
   "execution_count": null,
   "id": "6879421a",
   "metadata": {},
   "outputs": [],
   "source": [
    "arr += 100"
   ]
  },
  {
   "cell_type": "code",
   "execution_count": null,
   "id": "c9e809e7",
   "metadata": {},
   "outputs": [],
   "source": [
    "img.mean()"
   ]
  },
  {
   "cell_type": "code",
   "execution_count": null,
   "id": "db9d459f",
   "metadata": {},
   "outputs": [],
   "source": [
    "arr.mean()"
   ]
  },
  {
   "cell_type": "markdown",
   "id": "c8d08639",
   "metadata": {},
   "source": [
    "### ...but it still doesn't have ownership.\n",
    "### Since many Image operations reallocate internally, it's still safest to let it go out of scope as shown above."
   ]
  },
  {
   "cell_type": "code",
   "execution_count": null,
   "id": "ea2cbf4b",
   "metadata": {},
   "outputs": [],
   "source": [
    "arr.flags['OWNDATA']"
   ]
  },
  {
   "cell_type": "code",
   "execution_count": null,
   "id": "14292e1a",
   "metadata": {},
   "outputs": [],
   "source": [
    "del arr"
   ]
  },
  {
   "cell_type": "markdown",
   "id": "bad35c04",
   "metadata": {},
   "source": [
    "## If a copy is needed, pass `copy=True` to `toArray()`"
   ]
  },
  {
   "cell_type": "code",
   "execution_count": null,
   "id": "ebb8f395",
   "metadata": {},
   "outputs": [],
   "source": [
    "arr = img.toArray(copy=True)\n",
    "arr.flags['OWNDATA']"
   ]
  },
  {
   "cell_type": "markdown",
   "id": "9d364485",
   "metadata": {},
   "source": [
    "### This can be useful when the array is created from a temporary Image:"
   ]
  },
  {
   "cell_type": "code",
   "execution_count": null,
   "id": "7037e786",
   "metadata": {},
   "outputs": [],
   "source": [
    "arr = sw.Image(ellipsoid_path).toArray(copy=True)\n",
    "arr.mean()"
   ]
  },
  {
   "cell_type": "code",
   "execution_count": null,
   "id": "8f87fe9a",
   "metadata": {},
   "outputs": [],
   "source": [
    "def use_arr(arr):\n",
    "    return arr.mean()"
   ]
  },
  {
   "cell_type": "code",
   "execution_count": null,
   "id": "d0c16427",
   "metadata": {},
   "outputs": [],
   "source": [
    "use_arr(sw.Image(ellipsoid_path).toArray(copy=True))"
   ]
  },
  {
   "cell_type": "markdown",
   "id": "e44587ca",
   "metadata": {},
   "source": [
    "## viewing the image using pyvista\n",
    "### One common reason to get the Image's array is for viewing using pyvista using the `for_viewing` argument:"
   ]
  },
  {
   "cell_type": "code",
   "execution_count": null,
   "id": "7c1cd477",
   "metadata": {},
   "outputs": [],
   "source": [
    "import pyvista as pv"
   ]
  },
  {
   "cell_type": "code",
   "execution_count": null,
   "id": "50410596",
   "metadata": {},
   "outputs": [],
   "source": [
    "pv.set_jupyter_backend(backend=\"ipyvtklink\")"
   ]
  },
  {
   "cell_type": "code",
   "execution_count": null,
   "id": "08bd5ef8",
   "metadata": {},
   "outputs": [],
   "source": [
    "#help(pv.Plotter)"
   ]
  },
  {
   "cell_type": "code",
   "execution_count": null,
   "id": "1c2c5181",
   "metadata": {},
   "outputs": [],
   "source": [
    "plotter = pv.Plotter(shape    = (1, 1),\n",
    "                     notebook = True,\n",
    "                     border   = True)\n",
    "plotter.add_axes()\n",
    "plotter.add_bounding_box()\n",
    "#plotter.show_bounds()  # for some reason extremely slow on osx\n",
    "#plotter.show_grid()    # for some reason extremely slow on osx"
   ]
  },
  {
   "cell_type": "code",
   "execution_count": null,
   "id": "ac714d11",
   "metadata": {},
   "outputs": [],
   "source": [
    "# NOTE: pyvisya-wrapped vtk images require 'F' ordering to prevent copying\n",
    "arr = img.toArray(for_viewing = True) # 'F' is `for_viewing`\n",
    "arr.flags"
   ]
  },
  {
   "cell_type": "code",
   "execution_count": null,
   "id": "c0cd3cca",
   "metadata": {},
   "outputs": [],
   "source": [
    "arr.flags"
   ]
  },
  {
   "cell_type": "code",
   "execution_count": null,
   "id": "a13cb62e",
   "metadata": {},
   "outputs": [],
   "source": [
    "# sw2vtkImage takes care of this for us\n",
    "vtkimg = sw.sw2vtkImage(img, verbose=True)"
   ]
  },
  {
   "cell_type": "code",
   "execution_count": null,
   "id": "ef7ec032",
   "metadata": {},
   "outputs": [],
   "source": [
    "vol = plotter.add_volume(vtkimg, shade=True, show_scalar_bar=True)"
   ]
  },
  {
   "cell_type": "code",
   "execution_count": null,
   "id": "470ab049",
   "metadata": {},
   "outputs": [],
   "source": [
    "plotter.show()"
   ]
  },
  {
   "cell_type": "markdown",
   "id": "716a82fb",
   "metadata": {},
   "source": [
    "## Finally, we can `assign` a numpy array to an existing Image\n",
    "### This retains the Image's origin, scale, and coordsys."
   ]
  },
  {
   "cell_type": "code",
   "execution_count": null,
   "id": "d6bac5ab",
   "metadata": {},
   "outputs": [],
   "source": [
    "plotter = pv.Plotter(shape    = (1, 1),\n",
    "                     notebook = True,\n",
    "                     border   = True)\n",
    "plotter.add_axes()"
   ]
  },
  {
   "cell_type": "code",
   "execution_count": null,
   "id": "5027a37b",
   "metadata": {},
   "outputs": [],
   "source": [
    "img1 = sw.Image(femur_path)"
   ]
  },
  {
   "cell_type": "code",
   "execution_count": null,
   "id": "29144460",
   "metadata": {},
   "outputs": [],
   "source": [
    "img1.setSpacing((1.5, 0.75, 1))  # set spacing to show that it's preserved on both copy and assign"
   ]
  },
  {
   "cell_type": "code",
   "execution_count": null,
   "id": "c08c2930",
   "metadata": {},
   "outputs": [],
   "source": [
    "img2 = sw.Image(img1)  # make a copy to be processed by a scipy Python filter (spacing preserved)"
   ]
  },
  {
   "cell_type": "markdown",
   "id": "88dd42f4",
   "metadata": {},
   "source": [
    "### Let's use a scipy operation on the image:"
   ]
  },
  {
   "cell_type": "code",
   "execution_count": null,
   "id": "202c261c",
   "metadata": {},
   "outputs": [],
   "source": [
    "from scipy import ndimage"
   ]
  },
  {
   "cell_type": "code",
   "execution_count": null,
   "id": "3014fa20",
   "metadata": {},
   "outputs": [],
   "source": [
    "ck = ndimage.gaussian_filter(img2.toArray(), 12.0)"
   ]
  },
  {
   "cell_type": "markdown",
   "id": "b4143389",
   "metadata": {},
   "source": [
    "### The return from this filter is the right size and type, but it's a copy:"
   ]
  },
  {
   "cell_type": "code",
   "execution_count": null,
   "id": "7e828d5e",
   "metadata": {},
   "outputs": [],
   "source": [
    "ck.shape"
   ]
  },
  {
   "cell_type": "code",
   "execution_count": null,
   "id": "1341b714",
   "metadata": {},
   "outputs": [],
   "source": [
    "ck.dtype"
   ]
  },
  {
   "cell_type": "code",
   "execution_count": null,
   "id": "5decff97",
   "metadata": {},
   "outputs": [],
   "source": [
    "ck.flags['OWNDATA']"
   ]
  },
  {
   "cell_type": "markdown",
   "id": "31c21185",
   "metadata": {},
   "source": [
    "### Let's assign it back to Image so we can retain Image's origin, scale, and coordsys:"
   ]
  },
  {
   "cell_type": "code",
   "execution_count": null,
   "id": "bef1f370",
   "metadata": {},
   "outputs": [],
   "source": [
    "img2.assign(ck)"
   ]
  },
  {
   "cell_type": "code",
   "execution_count": null,
   "id": "270979ad",
   "metadata": {},
   "outputs": [],
   "source": [
    "# notice numpy array ownership has been transferred to Image\n",
    "ck.flags['OWNDATA']"
   ]
  },
  {
   "cell_type": "markdown",
   "id": "4c4ea06f",
   "metadata": {},
   "source": [
    "### Now we can look at it again in the plotter:"
   ]
  },
  {
   "cell_type": "code",
   "execution_count": null,
   "id": "4646bd0f",
   "metadata": {},
   "outputs": [],
   "source": [
    "plotter.add_volume(sw.sw2vtkImage(img2), shade=True, show_scalar_bar=True)\n",
    "\n",
    "plotter.add_volume(sw.sw2vtkImage(img1), shade=True, show_scalar_bar=True)"
   ]
  },
  {
   "cell_type": "code",
   "execution_count": null,
   "id": "8334f359",
   "metadata": {},
   "outputs": [],
   "source": [
    "plotter.show()"
   ]
  },
  {
   "cell_type": "code",
   "execution_count": null,
   "id": "80848544",
   "metadata": {},
   "outputs": [],
   "source": []
  }
 ],
 "metadata": {
  "kernelspec": {
   "display_name": "Python 3 (ipykernel)",
   "language": "python",
   "name": "python3"
  },
  "language_info": {
   "codemirror_mode": {
    "name": "ipython",
    "version": 3
   },
   "file_extension": ".py",
   "mimetype": "text/x-python",
   "name": "python",
   "nbconvert_exporter": "python",
   "pygments_lexer": "ipython3",
   "version": "3.7.8"
  },
  "toc": {
   "base_numbering": 1,
   "nav_menu": {},
   "number_sections": false,
   "sideBar": true,
   "skip_h1_title": false,
   "title_cell": "Table of Contents",
   "title_sidebar": "Contents",
   "toc_cell": false,
   "toc_position": {},
   "toc_section_display": true,
   "toc_window_display": false
  }
 },
 "nbformat": 4,
 "nbformat_minor": 5
}
