{
 "cells": [
  {
   "cell_type": "markdown",
   "id": "75ed930f",
   "metadata": {},
   "source": [
    "# Transforms can also be used to align two meshes"
   ]
  },
  {
   "cell_type": "code",
   "execution_count": null,
   "id": "20f830e5",
   "metadata": {},
   "outputs": [],
   "source": [
    "import shapeworks as sw\n",
    "import numpy as np\n",
    "import pyvista as pv\n",
    "import matplotlib"
   ]
  },
  {
   "cell_type": "code",
   "execution_count": null,
   "id": "300b119d",
   "metadata": {},
   "outputs": [],
   "source": [
    "pv.set_jupyter_backend('static')"
   ]
  },
  {
   "cell_type": "code",
   "execution_count": null,
   "id": "86eb97d5",
   "metadata": {},
   "outputs": [],
   "source": [
    "DATA = \"../Data/\""
   ]
  },
  {
   "cell_type": "markdown",
   "id": "6355c354",
   "metadata": {},
   "source": [
    "## Mesh alignment\n",
    "A mesh transformation can be computed rigidly, using similarity, or as an affine matrix. The alignment is computed using the iterative closest point (ICP) method for the specified number of iterations (default: a similarity transform with 10 iterations)."
   ]
  },
  {
   "cell_type": "code",
   "execution_count": null,
   "id": "48b299e3",
   "metadata": {},
   "outputs": [],
   "source": [
    "filename1 = DATA + \"ellipsoid_05.vtk\"\n",
    "filename2 = DATA + \"ellipsoid_07.vtk\""
   ]
  },
  {
   "cell_type": "markdown",
   "id": "b0681a44",
   "metadata": {},
   "source": [
    "#### Load meshes"
   ]
  },
  {
   "cell_type": "code",
   "execution_count": null,
   "id": "dba4bb30",
   "metadata": {},
   "outputs": [],
   "source": [
    "mesh1 = sw.Mesh(filename1)\n",
    "mesh2 = sw.Mesh(filename2)"
   ]
  },
  {
   "cell_type": "markdown",
   "id": "9d5a94bc",
   "metadata": {},
   "source": [
    "#### Visualize original meshes"
   ]
  },
  {
   "cell_type": "code",
   "execution_count": null,
   "id": "a4a98aa3",
   "metadata": {},
   "outputs": [],
   "source": [
    "pv_mesh1_orig = sw.sw2vtkMesh(mesh1)\n",
    "pv_mesh2_orig = sw.sw2vtkMesh(mesh2)"
   ]
  },
  {
   "cell_type": "code",
   "execution_count": null,
   "id": "5e3ece1d",
   "metadata": {},
   "outputs": [],
   "source": [
    "# used to maintain bounds even when meshes' positions change\n",
    "a = pv.UniformGrid()\n",
    "a.dimensions = np.array([9,8,8])\n",
    "a.origin = (-15,-5,-15)\n",
    "a.spacing = (10, 10, 10)\n",
    "outline = a.outline()\n",
    "\n",
    "p = pv.Plotter(shape=(2,2), border=False)\n",
    "\n",
    "p.subplot(0,0)\n",
    "p.add_text(\"xy\")\n",
    "p.add_mesh(outline)\n",
    "p.add_mesh(pv_mesh1_orig, show_scalar_bar=False, color='#4fb080', opacity=1.0)\n",
    "p.add_mesh(pv_mesh2_orig, show_scalar_bar=False, color='#ced175', opacity=1.0)\n",
    "p.camera_position = 'xy'\n",
    "\n",
    "p.subplot(0,1)\n",
    "p.add_text(\"yz\")\n",
    "p.add_mesh(outline)\n",
    "p.add_mesh(pv_mesh1_orig, show_scalar_bar=False, color='#4fb080', opacity=1.0)\n",
    "p.add_mesh(pv_mesh2_orig, show_scalar_bar=False, color='#ced175', opacity=1.0)\n",
    "p.camera_position = 'yz'\n",
    "\n",
    "p.subplot(1,0)\n",
    "p.add_text(\"zx\")\n",
    "p.add_mesh(outline)\n",
    "p.add_mesh(pv_mesh1_orig, show_scalar_bar=False, color='#4fb080', opacity=1.0)\n",
    "p.add_mesh(pv_mesh2_orig, show_scalar_bar=False, color='#ced175', opacity=1.0)\n",
    "p.camera_position = 'zx'\n",
    "\n",
    "p.add_text(\"Original Meshes\", position='lower_edge')\n",
    "\n",
    "p.subplot(1,1)\n",
    "p.add_text(\"persp\")\n",
    "p.add_mesh(outline)\n",
    "p.add_mesh(pv_mesh1_orig, show_scalar_bar=False, color='#4fb080', opacity=1.0)\n",
    "p.add_mesh(pv_mesh2_orig, show_scalar_bar=False, color='#ced175', opacity=1.0)\n",
    "p.camera_position = [100,35,70]\n",
    "p.set_viewup([0,1,0])\n",
    "p.show_bounds(grid='front', location='outer', all_edges=False, )\n",
    "\n",
    "p.show()"
   ]
  },
  {
   "cell_type": "markdown",
   "id": "1d9ceb18",
   "metadata": {},
   "source": [
    "### Rigid transformation"
   ]
  },
  {
   "cell_type": "markdown",
   "id": "ef9113eb",
   "metadata": {},
   "source": [
    "#### create transforms"
   ]
  },
  {
   "cell_type": "code",
   "execution_count": null,
   "id": "e19c9756",
   "metadata": {},
   "outputs": [],
   "source": [
    "xform_1_to_2 = mesh1.createTransform(mesh2, sw.Mesh.AlignmentType.Rigid)\n",
    "xform_2_to_1 = mesh2.createTransform(mesh1, sw.Mesh.AlignmentType.Rigid)"
   ]
  },
  {
   "cell_type": "markdown",
   "id": "8ea06a03",
   "metadata": {},
   "source": [
    "#### apply transforms"
   ]
  },
  {
   "cell_type": "code",
   "execution_count": null,
   "id": "8fff2f1a",
   "metadata": {},
   "outputs": [],
   "source": [
    "mesh1.applyTransform(xform_1_to_2)\n",
    "mesh2.applyTransform(xform_2_to_1)"
   ]
  },
  {
   "cell_type": "markdown",
   "id": "d7032083",
   "metadata": {},
   "source": [
    "#### visualize results\n",
    "Notice how the original meshes do not change shape. This is very different from affine transformations below."
   ]
  },
  {
   "cell_type": "code",
   "execution_count": null,
   "id": "3c117041",
   "metadata": {},
   "outputs": [],
   "source": [
    "pv_mesh1 = sw.sw2vtkMesh(mesh1)\n",
    "pv_mesh2 = sw.sw2vtkMesh(mesh2)"
   ]
  },
  {
   "cell_type": "markdown",
   "id": "73f731d8",
   "metadata": {},
   "source": [
    "#### Mesh 1 -> Mesh 2"
   ]
  },
  {
   "cell_type": "code",
   "execution_count": null,
   "id": "8453024d",
   "metadata": {},
   "outputs": [],
   "source": [
    "# used to maintain bounds even when meshes' positions change\n",
    "a = pv.UniformGrid()\n",
    "a.dimensions = np.array([9,8,8])\n",
    "a.origin = (-15,-5,-15)\n",
    "a.spacing = (10, 10, 10)\n",
    "outline = a.outline()\n",
    "\n",
    "p = pv.Plotter(shape=(2,2), border=False)\n",
    "\n",
    "p.subplot(0,0)\n",
    "p.add_text(\"xy\")\n",
    "p.add_mesh(outline)\n",
    "p.add_mesh(pv_mesh1, show_scalar_bar=False, color='#4fb080', opacity=1.0)\n",
    "p.add_mesh(pv_mesh2_orig, show_scalar_bar=False, color='#ced175', style='wireframe', opacity=0.5)\n",
    "p.camera_position = 'xy'\n",
    "\n",
    "p.subplot(0,1)\n",
    "p.add_text(\"yz\")\n",
    "p.add_mesh(outline)\n",
    "p.add_mesh(pv_mesh1, show_scalar_bar=False, color='#4fb080', opacity=1.0)\n",
    "p.add_mesh(pv_mesh2_orig, show_scalar_bar=False, color='#ced175', style='wireframe', opacity=0.5)\n",
    "p.camera_position = 'yz'\n",
    "\n",
    "p.subplot(1,0)\n",
    "p.add_text(\"zx\")\n",
    "p.add_mesh(outline)\n",
    "p.add_mesh(pv_mesh1, show_scalar_bar=False, color='#4fb080', opacity=1.0)\n",
    "p.add_mesh(pv_mesh2_orig, show_scalar_bar=False, color='#ced175', style='wireframe', opacity=0.5)\n",
    "p.camera_position = 'zx'\n",
    "\n",
    "p.add_text(\"Rigid Transforms\", position='lower_edge')\n",
    "\n",
    "p.subplot(1,1)\n",
    "p.add_text(\"persp\")\n",
    "p.add_mesh(outline)\n",
    "p.add_mesh(pv_mesh1, show_scalar_bar=False, color='#4fb080', opacity=1.0)\n",
    "p.add_mesh(pv_mesh2_orig, show_scalar_bar=False, color='#ced175', style='wireframe', opacity=0.75)\n",
    "p.camera_position = [100,35,70]\n",
    "p.set_viewup([0,1,0])\n",
    "p.show_bounds(grid='front', location='outer', all_edges=False, )\n",
    "\n",
    "p.show()"
   ]
  },
  {
   "cell_type": "markdown",
   "id": "5fe76fc1",
   "metadata": {},
   "source": [
    "#### Mesh 2 -> Mesh 1"
   ]
  },
  {
   "cell_type": "code",
   "execution_count": null,
   "id": "35fb3d8f",
   "metadata": {},
   "outputs": [],
   "source": [
    "# used to maintain bounds even when meshes' positions change\n",
    "a = pv.UniformGrid()\n",
    "a.dimensions = np.array([9,8,8])\n",
    "a.origin = (-15,-5,-15)\n",
    "a.spacing = (10, 10, 10)\n",
    "outline = a.outline()\n",
    "\n",
    "p = pv.Plotter(shape=(2,2), border=False)\n",
    "\n",
    "p.subplot(0,0)\n",
    "p.add_text(\"xy\")\n",
    "p.add_mesh(outline)\n",
    "p.add_mesh(pv_mesh2, show_scalar_bar=False, color='#4fb080', opacity=1.0)\n",
    "p.add_mesh(pv_mesh1_orig, show_scalar_bar=False, color='#ced175', style='wireframe', opacity=0.5)\n",
    "p.camera_position = 'xy'\n",
    "\n",
    "p.subplot(0,1)\n",
    "p.add_text(\"yz\")\n",
    "p.add_mesh(outline)\n",
    "p.add_mesh(pv_mesh2, show_scalar_bar=False, color='#4fb080', opacity=1.0)\n",
    "p.add_mesh(pv_mesh1_orig, show_scalar_bar=False, color='#ced175', style='wireframe', opacity=0.5)\n",
    "p.camera_position = 'yz'\n",
    "\n",
    "p.subplot(1,0)\n",
    "p.add_text(\"zx\")\n",
    "p.add_mesh(outline)\n",
    "p.add_mesh(pv_mesh2, show_scalar_bar=False, color='#4fb080', opacity=1.0)\n",
    "p.add_mesh(pv_mesh1_orig, show_scalar_bar=False, color='#ced175', style='wireframe', opacity=0.5)\n",
    "p.camera_position = 'zx'\n",
    "\n",
    "p.add_text(\"Rigid Transforms\", position='lower_edge')\n",
    "\n",
    "p.subplot(1,1)\n",
    "p.add_text(\"persp\")\n",
    "p.add_mesh(outline)\n",
    "p.add_mesh(pv_mesh2, show_scalar_bar=False, color='#4fb080', opacity=1.0)\n",
    "p.add_mesh(pv_mesh1_orig, show_scalar_bar=False, color='#ced175', style='wireframe', opacity=0.75)\n",
    "p.camera_position = [100,35,70]\n",
    "p.set_viewup([0,1,0])\n",
    "p.show_bounds(grid='front', location='outer', all_edges=False, )\n",
    "\n",
    "p.show()"
   ]
  },
  {
   "cell_type": "code",
   "execution_count": null,
   "id": "d45f6532",
   "metadata": {},
   "outputs": [],
   "source": []
  },
  {
   "cell_type": "markdown",
   "id": "66a6a4c1",
   "metadata": {},
   "source": [
    "### Similarity transformation\n",
    "This type of transformation is very similar to rigid transformations above."
   ]
  },
  {
   "cell_type": "markdown",
   "id": "b6cc45a6",
   "metadata": {},
   "source": [
    "#### Reload meshes"
   ]
  },
  {
   "cell_type": "code",
   "execution_count": null,
   "id": "fbc95518",
   "metadata": {},
   "outputs": [],
   "source": [
    "mesh1 = sw.Mesh(filename1)\n",
    "mesh2 = sw.Mesh(filename2)"
   ]
  },
  {
   "cell_type": "markdown",
   "id": "b80c3ead",
   "metadata": {},
   "source": [
    "#### create transforms"
   ]
  },
  {
   "cell_type": "code",
   "execution_count": null,
   "id": "845afd4a",
   "metadata": {},
   "outputs": [],
   "source": [
    "xform_1_to_2 = mesh1.createTransform(mesh2, sw.Mesh.AlignmentType.Similarity)\n",
    "xform_2_to_1 = mesh2.createTransform(mesh1, sw.Mesh.AlignmentType.Similarity)"
   ]
  },
  {
   "cell_type": "markdown",
   "id": "ed2aec8e",
   "metadata": {},
   "source": [
    "#### apply transforms"
   ]
  },
  {
   "cell_type": "code",
   "execution_count": null,
   "id": "97129163",
   "metadata": {},
   "outputs": [],
   "source": [
    "mesh1.applyTransform(xform_1_to_2)\n",
    "mesh2.applyTransform(xform_2_to_1)"
   ]
  },
  {
   "cell_type": "markdown",
   "id": "bcde0514",
   "metadata": {},
   "source": [
    "#### visualize results\n",
    "Notice how the original meshes do not change shape (or orientation wrt the origin? How are these different from affine?)"
   ]
  },
  {
   "cell_type": "code",
   "execution_count": null,
   "id": "737af5cc",
   "metadata": {},
   "outputs": [],
   "source": [
    "pv_mesh1 = sw.sw2vtkMesh(mesh1)\n",
    "pv_mesh2 = sw.sw2vtkMesh(mesh2)"
   ]
  },
  {
   "cell_type": "markdown",
   "id": "1c31214f",
   "metadata": {},
   "source": [
    "#### Mesh 1 -> Mesh 2"
   ]
  },
  {
   "cell_type": "code",
   "execution_count": null,
   "id": "b1c97b21",
   "metadata": {},
   "outputs": [],
   "source": [
    "# used to maintain bounds even when meshes' positions change\n",
    "a = pv.UniformGrid()\n",
    "a.dimensions = np.array([9,8,8])\n",
    "a.origin = (-15,-5,-15)\n",
    "a.spacing = (10, 10, 10)\n",
    "outline = a.outline()\n",
    "\n",
    "p = pv.Plotter(shape=(2,2), border=False)\n",
    "\n",
    "p.subplot(0,0)\n",
    "p.add_text(\"xy\")\n",
    "p.add_mesh(outline)\n",
    "p.add_mesh(pv_mesh1, show_scalar_bar=False, color='#4fb080', opacity=1.0)\n",
    "p.add_mesh(pv_mesh2_orig, show_scalar_bar=False, color='#ced175', style='wireframe', opacity=0.5)\n",
    "p.camera_position = 'xy'\n",
    "\n",
    "p.subplot(0,1)\n",
    "p.add_text(\"yz\")\n",
    "p.add_mesh(outline)\n",
    "p.add_mesh(pv_mesh1, show_scalar_bar=False, color='#4fb080', opacity=1.0)\n",
    "p.add_mesh(pv_mesh2_orig, show_scalar_bar=False, color='#ced175', style='wireframe', opacity=0.5)\n",
    "p.camera_position = 'yz'\n",
    "\n",
    "p.subplot(1,0)\n",
    "p.add_text(\"zx\")\n",
    "p.add_mesh(outline)\n",
    "p.add_mesh(pv_mesh1, show_scalar_bar=False, color='#4fb080', opacity=1.0)\n",
    "p.add_mesh(pv_mesh2_orig, show_scalar_bar=False, color='#ced175', style='wireframe', opacity=0.5)\n",
    "p.camera_position = 'zx'\n",
    "\n",
    "p.add_text(\"Similarity Transforms\", position='lower_edge')\n",
    "\n",
    "p.subplot(1,1)\n",
    "p.add_text(\"persp\")\n",
    "p.add_mesh(outline)\n",
    "p.add_mesh(pv_mesh1, show_scalar_bar=False, color='#4fb080', opacity=1.0)\n",
    "p.add_mesh(pv_mesh2_orig, show_scalar_bar=False, color='#ced175', style='wireframe', opacity=0.75)\n",
    "p.camera_position = [100,35,70]\n",
    "p.set_viewup([0,1,0])\n",
    "p.show_bounds(grid='front', location='outer', all_edges=False, )\n",
    "\n",
    "p.show()"
   ]
  },
  {
   "cell_type": "markdown",
   "id": "ccde8ad9",
   "metadata": {},
   "source": [
    "#### Mesh 2 -> Mesh 1"
   ]
  },
  {
   "cell_type": "code",
   "execution_count": null,
   "id": "0b771a70",
   "metadata": {},
   "outputs": [],
   "source": [
    "# used to maintain bounds even when meshes' positions change\n",
    "a = pv.UniformGrid()\n",
    "a.dimensions = np.array([9,8,8])\n",
    "a.origin = (-15,-5,-15)\n",
    "a.spacing = (10, 10, 10)\n",
    "outline = a.outline()\n",
    "\n",
    "p = pv.Plotter(shape=(2,2), border=False)\n",
    "\n",
    "p.subplot(0,0)\n",
    "p.add_text(\"xy\")\n",
    "p.add_mesh(outline)\n",
    "p.add_mesh(pv_mesh2, show_scalar_bar=False, color='#4fb080', opacity=1.0)\n",
    "p.add_mesh(pv_mesh1_orig, show_scalar_bar=False, color='#ced175', style='wireframe', opacity=0.5)\n",
    "p.camera_position = 'xy'\n",
    "\n",
    "p.subplot(0,1)\n",
    "p.add_text(\"yz\")\n",
    "p.add_mesh(outline)\n",
    "p.add_mesh(pv_mesh2, show_scalar_bar=False, color='#4fb080', opacity=1.0)\n",
    "p.add_mesh(pv_mesh1_orig, show_scalar_bar=False, color='#ced175', style='wireframe', opacity=0.5)\n",
    "p.camera_position = 'yz'\n",
    "\n",
    "p.subplot(1,0)\n",
    "p.add_text(\"zx\")\n",
    "p.add_mesh(outline)\n",
    "p.add_mesh(pv_mesh2, show_scalar_bar=False, color='#4fb080', opacity=1.0)\n",
    "p.add_mesh(pv_mesh1_orig, show_scalar_bar=False, color='#ced175', style='wireframe', opacity=0.5)\n",
    "p.camera_position = 'zx'\n",
    "\n",
    "p.add_text(\"Similarity Transforms\", position='lower_edge')\n",
    "\n",
    "p.subplot(1,1)\n",
    "p.add_text(\"persp\")\n",
    "p.add_mesh(outline)\n",
    "p.add_mesh(pv_mesh2, show_scalar_bar=False, color='#4fb080', opacity=1.0)\n",
    "p.add_mesh(pv_mesh1_orig, show_scalar_bar=False, color='#ced175', style='wireframe', opacity=0.75)\n",
    "p.camera_position = [100,35,70]\n",
    "p.set_viewup([0,1,0])\n",
    "p.show_bounds(grid='front', location='outer', all_edges=False, )\n",
    "\n",
    "p.show()"
   ]
  },
  {
   "cell_type": "code",
   "execution_count": null,
   "id": "ade23af5",
   "metadata": {},
   "outputs": [],
   "source": []
  },
  {
   "cell_type": "markdown",
   "id": "ef64555c",
   "metadata": {},
   "source": [
    "### Affine transformation\n",
    "This type of transformation warps the points of one mesh into the other as well as translating its position."
   ]
  },
  {
   "cell_type": "markdown",
   "id": "38e7c8c9",
   "metadata": {},
   "source": [
    "#### Reload meshes"
   ]
  },
  {
   "cell_type": "code",
   "execution_count": null,
   "id": "e469069f",
   "metadata": {},
   "outputs": [],
   "source": [
    "mesh1 = sw.Mesh(filename1)\n",
    "mesh2 = sw.Mesh(filename2)"
   ]
  },
  {
   "cell_type": "markdown",
   "id": "2963d401",
   "metadata": {},
   "source": [
    "#### create transforms"
   ]
  },
  {
   "cell_type": "code",
   "execution_count": null,
   "id": "434c0a37",
   "metadata": {},
   "outputs": [],
   "source": [
    "xform_1_to_2 = mesh1.createTransform(mesh2, sw.Mesh.AlignmentType.Affine)\n",
    "xform_2_to_1 = mesh2.createTransform(mesh1, sw.Mesh.AlignmentType.Affine)"
   ]
  },
  {
   "cell_type": "markdown",
   "id": "50a18499",
   "metadata": {},
   "source": [
    "#### apply transforms"
   ]
  },
  {
   "cell_type": "code",
   "execution_count": null,
   "id": "989081ef",
   "metadata": {},
   "outputs": [],
   "source": [
    "mesh1.applyTransform(xform_1_to_2)\n",
    "mesh2.applyTransform(xform_2_to_1)"
   ]
  },
  {
   "cell_type": "markdown",
   "id": "467f021f",
   "metadata": {},
   "source": [
    "#### visualize results\n",
    "Notice how the original meshes do not change shape (or orientation wrt the origin? How are these different from affine?)"
   ]
  },
  {
   "cell_type": "code",
   "execution_count": null,
   "id": "fe8d3cf1",
   "metadata": {},
   "outputs": [],
   "source": [
    "pv_mesh1 = sw.sw2vtkMesh(mesh1)\n",
    "pv_mesh2 = sw.sw2vtkMesh(mesh2)"
   ]
  },
  {
   "cell_type": "markdown",
   "id": "9372862d",
   "metadata": {},
   "source": [
    "#### Mesh 1 -> Mesh 2"
   ]
  },
  {
   "cell_type": "code",
   "execution_count": null,
   "id": "5959c93d",
   "metadata": {},
   "outputs": [],
   "source": [
    "# used to maintain bounds even when meshes' positions change\n",
    "a = pv.UniformGrid()\n",
    "a.dimensions = np.array([9,8,8])\n",
    "a.origin = (-15,-5,-15)\n",
    "a.spacing = (10, 10, 10)\n",
    "outline = a.outline()\n",
    "\n",
    "p = pv.Plotter(shape=(2,2), border=False)\n",
    "\n",
    "p.subplot(0,0)\n",
    "p.add_text(\"xy\")\n",
    "p.add_mesh(outline)\n",
    "p.add_mesh(pv_mesh1, show_scalar_bar=False, color='#4fb080', opacity=1.0)\n",
    "p.add_mesh(pv_mesh2_orig, show_scalar_bar=False, color='#ced175', style='wireframe', opacity=0.5)\n",
    "p.camera_position = 'xy'\n",
    "\n",
    "p.subplot(0,1)\n",
    "p.add_text(\"yz\")\n",
    "p.add_mesh(outline)\n",
    "p.add_mesh(pv_mesh1, show_scalar_bar=False, color='#4fb080', opacity=1.0)\n",
    "p.add_mesh(pv_mesh2_orig, show_scalar_bar=False, color='#ced175', style='wireframe', opacity=0.5)\n",
    "p.camera_position = 'yz'\n",
    "\n",
    "p.subplot(1,0)\n",
    "p.add_text(\"zx\")\n",
    "p.add_mesh(outline)\n",
    "p.add_mesh(pv_mesh1, show_scalar_bar=False, color='#4fb080', opacity=1.0)\n",
    "p.add_mesh(pv_mesh2_orig, show_scalar_bar=False, color='#ced175', style='wireframe', opacity=0.5)\n",
    "p.camera_position = 'zx'\n",
    "\n",
    "p.add_text(\"Affine Transforms\", position='lower_edge')\n",
    "\n",
    "p.subplot(1,1)\n",
    "p.add_text(\"persp\")\n",
    "p.add_mesh(outline)\n",
    "p.add_mesh(pv_mesh1, show_scalar_bar=False, color='#4fb080', opacity=1.0)\n",
    "p.add_mesh(pv_mesh2_orig, show_scalar_bar=False, color='#ced175', style='wireframe', opacity=0.75)\n",
    "p.camera_position = [100,35,70]\n",
    "p.set_viewup([0,1,0])\n",
    "p.show_bounds(grid='front', location='outer', all_edges=False, )\n",
    "\n",
    "p.show()"
   ]
  },
  {
   "cell_type": "markdown",
   "id": "98c58cfb",
   "metadata": {},
   "source": [
    "#### Mesh 2 -> Mesh 1"
   ]
  },
  {
   "cell_type": "code",
   "execution_count": null,
   "id": "a7c2d97e",
   "metadata": {},
   "outputs": [],
   "source": [
    "# used to maintain bounds even when meshes' positions change\n",
    "a = pv.UniformGrid()\n",
    "a.dimensions = np.array([9,8,8])\n",
    "a.origin = (-15,-5,-15)\n",
    "a.spacing = (10, 10, 10)\n",
    "outline = a.outline()\n",
    "\n",
    "p = pv.Plotter(shape=(2,2), border=False)\n",
    "\n",
    "p.subplot(0,0)\n",
    "p.add_text(\"xy\")\n",
    "p.add_mesh(outline)\n",
    "p.add_mesh(pv_mesh2, show_scalar_bar=False, color='#4fb080', opacity=1.0)\n",
    "p.add_mesh(pv_mesh1_orig, show_scalar_bar=False, color='#ced175', style='wireframe', opacity=0.5)\n",
    "p.camera_position = 'xy'\n",
    "\n",
    "p.subplot(0,1)\n",
    "p.add_text(\"yz\")\n",
    "p.add_mesh(outline)\n",
    "p.add_mesh(pv_mesh2, show_scalar_bar=False, color='#4fb080', opacity=1.0)\n",
    "p.add_mesh(pv_mesh1_orig, show_scalar_bar=False, color='#ced175', style='wireframe', opacity=0.5)\n",
    "p.camera_position = 'yz'\n",
    "\n",
    "p.subplot(1,0)\n",
    "p.add_text(\"zx\")\n",
    "p.add_mesh(outline)\n",
    "p.add_mesh(pv_mesh2, show_scalar_bar=False, color='#4fb080', opacity=1.0)\n",
    "p.add_mesh(pv_mesh1_orig, show_scalar_bar=False, color='#ced175', style='wireframe', opacity=0.5)\n",
    "p.camera_position = 'zx'\n",
    "\n",
    "p.add_text(\"Affine Transforms\", position='lower_edge')\n",
    "\n",
    "p.subplot(1,1)\n",
    "p.add_text(\"persp\")\n",
    "p.add_mesh(outline)\n",
    "p.add_mesh(pv_mesh2, show_scalar_bar=False, color='#4fb080', opacity=1.0)\n",
    "p.add_mesh(pv_mesh1_orig, show_scalar_bar=False, color='#ced175', style='wireframe', opacity=0.75)\n",
    "p.camera_position = [100,35,70]\n",
    "p.set_viewup([0,1,0])\n",
    "p.show_bounds(grid='front', location='outer', all_edges=False, )\n",
    "\n",
    "p.show()"
   ]
  },
  {
   "cell_type": "code",
   "execution_count": null,
   "id": "bbed2279",
   "metadata": {},
   "outputs": [],
   "source": []
  }
 ],
 "metadata": {
  "kernelspec": {
   "display_name": "Python 3 (ipykernel)",
   "language": "python",
   "name": "python3"
  },
  "language_info": {
   "codemirror_mode": {
    "name": "ipython",
    "version": 3
   },
   "file_extension": ".py",
   "mimetype": "text/x-python",
   "name": "python",
   "nbconvert_exporter": "python",
   "pygments_lexer": "ipython3",
   "version": "3.7.8"
  },
  "toc": {
   "base_numbering": 1,
   "nav_menu": {},
   "number_sections": true,
   "sideBar": true,
   "skip_h1_title": false,
   "title_cell": "Table of Contents",
   "title_sidebar": "Contents",
   "toc_cell": false,
   "toc_position": {},
   "toc_section_display": true,
   "toc_window_display": false
  }
 },
 "nbformat": 4,
 "nbformat_minor": 5
}
