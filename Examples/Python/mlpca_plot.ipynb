{
 "cells": [
  {
   "cell_type": "code",
   "execution_count": null,
   "id": "cf2f5d45",
   "metadata": {},
   "outputs": [],
   "source": [
    "%matplotlib inline\n",
    "import matplotlib.pyplot as plt\n",
    "import numpy as np"
   ]
  },
  {
   "cell_type": "code",
   "execution_count": null,
   "id": "44347e68",
   "metadata": {},
   "outputs": [],
   "source": [
    "# Within compactness\n",
    "\n",
    "x = np.arange(start=1, stop=15)\n",
    "y_mlpca = "
   ]
  },
  {
   "cell_type": "code",
   "execution_count": null,
   "id": "32808581",
   "metadata": {},
   "outputs": [],
   "source": []
  }
 ],
 "metadata": {
  "kernelspec": {
   "display_name": "Python 3 (ipykernel)",
   "language": "python",
   "name": "python3"
  },
  "language_info": {
   "codemirror_mode": {
    "name": "ipython",
    "version": 3
   },
   "file_extension": ".py",
   "mimetype": "text/x-python",
   "name": "python",
   "nbconvert_exporter": "python",
   "pygments_lexer": "ipython3",
   "version": "3.7.8"
  }
 },
 "nbformat": 4,
 "nbformat_minor": 5
}
