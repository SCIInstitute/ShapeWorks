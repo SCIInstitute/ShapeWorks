{
 "cells": [
  {
   "cell_type": "markdown",
   "id": "d68d5ed9",
   "metadata": {},
   "source": [
    "# Transforms can be used to center image data or to align two images"
   ]
  },
  {
   "cell_type": "code",
   "execution_count": null,
   "id": "781cefb2",
   "metadata": {},
   "outputs": [],
   "source": [
    "import shapeworks as sw\n",
    "import numpy as np\n",
    "import pyvista as pv"
   ]
  },
  {
   "cell_type": "code",
   "execution_count": null,
   "id": "80c07df6",
   "metadata": {},
   "outputs": [],
   "source": [
    "pv.set_jupyter_backend('static')"
   ]
  },
  {
   "cell_type": "code",
   "execution_count": null,
   "id": "83e54658",
   "metadata": {},
   "outputs": [],
   "source": [
    "DATA = \"../ShapeWorks/Examples/Python/Data\""
   ]
  },
  {
   "cell_type": "markdown",
   "id": "378a5652",
   "metadata": {},
   "source": [
    "## Center of mass transforms\n",
    "Centers the contents of a given image using the specified resampling method"
   ]
  },
  {
   "cell_type": "code",
   "execution_count": null,
   "id": "5a1b9fd2",
   "metadata": {},
   "outputs": [],
   "source": [
    "filename = DATA + \"/ellipsoid/Ellipsoids_UnPrepped/seg.ellipsoid_14.nrrd\""
   ]
  },
  {
   "cell_type": "code",
   "execution_count": null,
   "id": "f731b6ca",
   "metadata": {},
   "outputs": [],
   "source": [
    "img = sw.Image(filename)\n",
    "print(\"center: \", img.center())\n",
    "print(\"center of mass: \", img.centerOfMass())"
   ]
  },
  {
   "cell_type": "code",
   "execution_count": null,
   "id": "f9af26a8",
   "metadata": {},
   "outputs": [],
   "source": [
    "slices = sw.sw2vtkImage(img).slice_orthogonal(x=25,y=25,z=25)"
   ]
  },
  {
   "cell_type": "code",
   "execution_count": null,
   "id": "e84a5217",
   "metadata": {},
   "outputs": [],
   "source": [
    "p = pv.Plotter(shape=(1,3), border=False)\n",
    "\n",
    "p.subplot(0,0)\n",
    "p.add_text(\"before centering\", position='lower_left')\n",
    "p.add_mesh(slices[2], style='points', show_scalar_bar=False)\n",
    "p.show_grid()\n",
    "p.camera_position = 'xy'\n",
    "p.subplot(0,1)\n",
    "p.add_mesh(slices[0], style='points', show_scalar_bar=False)\n",
    "p.show_grid()\n",
    "p.camera_position = 'yz'\n",
    "p.subplot(0,2)\n",
    "p.add_mesh(slices[1], style='points', show_scalar_bar=False)\n",
    "p.show_grid()\n",
    "p.camera_position = 'zx'\n",
    "\n",
    "p.show()"
   ]
  },
  {
   "cell_type": "markdown",
   "id": "7d78743f",
   "metadata": {},
   "source": [
    "### create and apply transform, noting that center of mass is now roughly in the center of the image"
   ]
  },
  {
   "cell_type": "code",
   "execution_count": null,
   "id": "69cf5911",
   "metadata": {},
   "outputs": [],
   "source": [
    "xform = img.createCenterOfMassTransform()"
   ]
  },
  {
   "cell_type": "code",
   "execution_count": null,
   "id": "7f58932b",
   "metadata": {},
   "outputs": [],
   "source": [
    "# now center of mass is roughly at the center\n",
    "img.applyTransform(xform)\n",
    "print(\"center of mass: \", img.centerOfMass())"
   ]
  },
  {
   "cell_type": "markdown",
   "id": "0f0bd112",
   "metadata": {},
   "source": [
    "### visualization of different resampling methods"
   ]
  },
  {
   "cell_type": "code",
   "execution_count": null,
   "id": "7cfa3b9e",
   "metadata": {},
   "outputs": [],
   "source": [
    "# linear interpolation\n",
    "img = sw.Image(filename)\n",
    "img.applyTransform(xform, sw.InterpolationType.Linear)\n",
    "lin = sw.sw2vtkImage(img)"
   ]
  },
  {
   "cell_type": "code",
   "execution_count": null,
   "id": "13382089",
   "metadata": {},
   "outputs": [],
   "source": [
    "# closest point resampling\n",
    "img = sw.Image(filename)\n",
    "img.applyTransform(xform, sw.InterpolationType.NearestNeighbor)\n",
    "nn = sw.sw2vtkImage(img)"
   ]
  },
  {
   "cell_type": "code",
   "execution_count": null,
   "id": "19548479",
   "metadata": {},
   "outputs": [],
   "source": [
    "lin_slices = lin.slice_orthogonal(x=25,y=25,z=25)\n",
    "nn_slices = nn.slice_orthogonal(x=25,y=25,z=25)"
   ]
  },
  {
   "cell_type": "code",
   "execution_count": null,
   "id": "0c806592",
   "metadata": {},
   "outputs": [],
   "source": [
    "p = pv.Plotter(shape=(2,3), border=False)\n",
    "\n",
    "p.subplot(0,0)\n",
    "p.add_text(\"linear\")\n",
    "p.add_mesh(lin_slices[2], style='points', show_scalar_bar=False)\n",
    "p.show_grid()\n",
    "p.camera_position = 'xy'\n",
    "p.subplot(0,1)\n",
    "p.add_mesh(lin_slices[0], style='points', show_scalar_bar=False)\n",
    "p.show_grid()\n",
    "p.camera_position = 'yz'\n",
    "p.subplot(0,2)\n",
    "p.add_mesh(lin_slices[1], style='points', show_scalar_bar=False)\n",
    "p.show_grid()\n",
    "p.camera_position = 'zx'\n",
    "\n",
    "p.subplot(1,0)\n",
    "p.add_text(\"nearest neighbor\")\n",
    "p.add_mesh(nn_slices[2], style='points', show_scalar_bar=False)\n",
    "p.show_grid()\n",
    "p.camera_position = 'xy'\n",
    "p.subplot(1,1)\n",
    "p.add_mesh(nn_slices[0], style='points', show_scalar_bar=False)\n",
    "p.show_grid()\n",
    "p.camera_position = 'yz'\n",
    "p.subplot(1,2)\n",
    "p.add_mesh(nn_slices[1], style='points', show_scalar_bar=False)\n",
    "p.show_grid()\n",
    "p.camera_position = 'zx'\n",
    "\n",
    "p.show()"
   ]
  },
  {
   "cell_type": "code",
   "execution_count": null,
   "id": "96f271eb",
   "metadata": {},
   "outputs": [],
   "source": []
  },
  {
   "cell_type": "markdown",
   "id": "31b9965a",
   "metadata": {},
   "source": [
    "## Rigid registration transforms\n",
    "Aligns two images using their distance transforms by converting these to meshes, computing the alignment using iterative closest point (ICP), then resampling to move the center of mass of one to be aligned with the other\n",
    "\n",
    "NOTE: images used to compute the transform **must** be distance transforms"
   ]
  },
  {
   "cell_type": "code",
   "execution_count": null,
   "id": "0d7539e9",
   "metadata": {},
   "outputs": [],
   "source": [
    "filename1 = DATA + \"/ellipsoid/Ellipsoids_UnPrepped/seg.ellipsoid_17.nrrd\"\n",
    "filename2 = DATA + \"/ellipsoid/Ellipsoids_UnPrepped/seg.ellipsoid_19.nrrd\""
   ]
  },
  {
   "cell_type": "markdown",
   "id": "98593054",
   "metadata": {},
   "source": [
    "### compute distance transforms to be used to compute alignment of the segmentations"
   ]
  },
  {
   "cell_type": "code",
   "execution_count": null,
   "id": "b49f974a",
   "metadata": {},
   "outputs": [],
   "source": [
    "img1 = sw.Image(filename1)\n",
    "img2 = sw.Image(filename2)"
   ]
  },
  {
   "cell_type": "code",
   "execution_count": null,
   "id": "27805d31",
   "metadata": {},
   "outputs": [],
   "source": [
    "img1_slices_orig = sw.sw2vtkImage(img1).slice_orthogonal(x=25,y=25,z=25)\n",
    "img2_slices_orig = sw.sw2vtkImage(img2).slice_orthogonal(x=25,y=25,z=25)"
   ]
  },
  {
   "cell_type": "code",
   "execution_count": null,
   "id": "43fe4bb6",
   "metadata": {},
   "outputs": [],
   "source": [
    "p = pv.Plotter(shape=(2,3), border=False)\n",
    "\n",
    "p.subplot(0,0)\n",
    "p.add_text(\"Image 1\")\n",
    "p.add_mesh(img1_slices_orig[2], style='points', show_scalar_bar=False)\n",
    "p.show_grid()\n",
    "p.camera_position = 'xy'\n",
    "p.subplot(0,1)\n",
    "p.add_mesh(img1_slices_orig[0], style='points', show_scalar_bar=False)\n",
    "p.show_grid()\n",
    "p.camera_position = 'yz'\n",
    "p.subplot(0,2)\n",
    "p.add_mesh(img1_slices_orig[1], style='points', show_scalar_bar=False)\n",
    "p.show_grid()\n",
    "p.camera_position = 'zx'\n",
    "\n",
    "p.subplot(1,0)\n",
    "p.add_text(\"Image 2\")\n",
    "p.add_mesh(img2_slices_orig[2], style='points', show_scalar_bar=False)\n",
    "p.show_grid()\n",
    "p.camera_position = 'xy'\n",
    "p.subplot(1,1)\n",
    "p.add_mesh(img2_slices_orig[0], style='points', show_scalar_bar=False)\n",
    "p.show_grid()\n",
    "p.camera_position = 'yz'\n",
    "p.subplot(1,2)\n",
    "p.add_mesh(img2_slices_orig[1], style='points', show_scalar_bar=False)\n",
    "p.show_grid()\n",
    "p.camera_position = 'zx'\n",
    "\n",
    "p.show()"
   ]
  },
  {
   "cell_type": "code",
   "execution_count": null,
   "id": "1df024be",
   "metadata": {},
   "outputs": [],
   "source": []
  },
  {
   "cell_type": "markdown",
   "id": "4872c546",
   "metadata": {},
   "source": [
    "### create distance transforms to be used to compute the images' alignment"
   ]
  },
  {
   "cell_type": "code",
   "execution_count": null,
   "id": "7e72897c",
   "metadata": {},
   "outputs": [],
   "source": [
    "dt1 = img1.computeDT(1.0)\n",
    "dt2 = img2.computeDT(1.0)"
   ]
  },
  {
   "cell_type": "markdown",
   "id": "2689cdb7",
   "metadata": {},
   "source": [
    "### create image alignment transforms"
   ]
  },
  {
   "cell_type": "code",
   "execution_count": null,
   "id": "9fe38bb1",
   "metadata": {},
   "outputs": [],
   "source": [
    "xform_1_to_2 = dt1.createRigidRegistrationTransform(dt2)\n",
    "xform_2_to_1 = dt2.createRigidRegistrationTransform(dt1)"
   ]
  },
  {
   "cell_type": "markdown",
   "id": "17caff5e",
   "metadata": {},
   "source": [
    "### apply the transforms to the original images"
   ]
  },
  {
   "cell_type": "code",
   "execution_count": null,
   "id": "56ccb4a4",
   "metadata": {},
   "outputs": [],
   "source": [
    "img1 = sw.Image(filename1)\n",
    "img2 = sw.Image(filename2)"
   ]
  },
  {
   "cell_type": "code",
   "execution_count": null,
   "id": "6b88ad93",
   "metadata": {},
   "outputs": [],
   "source": [
    "img1.applyTransform(xform_1_to_2)\n",
    "img2.applyTransform(xform_2_to_1)"
   ]
  },
  {
   "cell_type": "markdown",
   "id": "555a7902",
   "metadata": {},
   "source": [
    "### visualize the results\n",
    "Notice how it even rotates the images into each others' centers of mass"
   ]
  },
  {
   "cell_type": "code",
   "execution_count": null,
   "id": "004396d6",
   "metadata": {},
   "outputs": [],
   "source": [
    "img1_slices = sw.sw2vtkImage(img1).slice_orthogonal(x=25,y=25,z=25)\n",
    "img2_slices = sw.sw2vtkImage(img2).slice_orthogonal(x=25,y=25,z=25)"
   ]
  },
  {
   "cell_type": "code",
   "execution_count": null,
   "id": "20e916d1",
   "metadata": {},
   "outputs": [],
   "source": [
    "p = pv.Plotter(shape=(3,3), border=False)\n",
    "\n",
    "p.subplot(0,0)\n",
    "p.add_text(\"1 -> 2\")\n",
    "p.add_mesh(img1_slices[2], style='points', show_scalar_bar=False, opacity=0.75)\n",
    "p.add_mesh(img2_slices_orig[2], style='points', show_scalar_bar=False, opacity=0.25)\n",
    "p.show_grid()\n",
    "p.camera_position = 'xy'\n",
    "p.subplot(0,1)\n",
    "p.add_mesh(img1_slices[0], style='points', show_scalar_bar=False, opacity=0.75)\n",
    "p.add_mesh(img2_slices_orig[0], style='points', show_scalar_bar=False, opacity=0.25)\n",
    "p.show_grid()\n",
    "p.camera_position = 'yz'\n",
    "p.subplot(0,2)\n",
    "p.add_mesh(img1_slices[1], style='points', show_scalar_bar=False, opacity=0.75)\n",
    "p.add_mesh(img2_slices_orig[1], style='points', show_scalar_bar=False, opacity=0.25)\n",
    "p.show_grid()\n",
    "p.camera_position = 'zx'\n",
    "\n",
    "p.subplot(1,0)\n",
    "p.add_text(\"2 -> 1\")\n",
    "p.add_mesh(img1_slices_orig[2], style='points', show_scalar_bar=False, opacity=0.25)\n",
    "p.add_mesh(img2_slices[2], style='points', show_scalar_bar=False, opacity=0.75)\n",
    "p.show_grid()\n",
    "p.camera_position = 'xy'\n",
    "p.subplot(1,1)\n",
    "p.add_mesh(img1_slices_orig[0], style='points', show_scalar_bar=False, opacity=0.25)\n",
    "p.add_mesh(img2_slices[0], style='points', show_scalar_bar=False, opacity=0.75)\n",
    "p.show_grid()\n",
    "p.camera_position = 'yz'\n",
    "p.subplot(1,2)\n",
    "p.add_mesh(img1_slices_orig[1], style='points', show_scalar_bar=False, opacity=0.25)\n",
    "p.add_mesh(img2_slices[1], style='points', show_scalar_bar=False, opacity=0.75)\n",
    "p.show_grid()\n",
    "p.camera_position = 'zx'\n",
    "\n",
    "p.subplot(2,0)\n",
    "p.add_text(\"both\")\n",
    "p.add_mesh(img1_slices[2], style='points', show_scalar_bar=False, opacity=0.5)\n",
    "p.add_mesh(img2_slices[2], style='points', show_scalar_bar=False, opacity=0.5)\n",
    "p.show_grid()\n",
    "p.camera_position = 'xy'\n",
    "p.subplot(2,1)\n",
    "p.add_mesh(img1_slices[0], style='points', show_scalar_bar=False, opacity=0.5)\n",
    "p.add_mesh(img2_slices[0], style='points', show_scalar_bar=False, opacity=0.5)\n",
    "p.show_grid()\n",
    "p.camera_position = 'yz'\n",
    "p.subplot(2,2)\n",
    "p.add_mesh(img1_slices[1], style='points', show_scalar_bar=False, opacity=0.5)\n",
    "p.add_mesh(img2_slices[1], style='points', show_scalar_bar=False, opacity=0.5)\n",
    "p.show_grid()\n",
    "p.camera_position = 'zx'\n",
    "\n",
    "p.show()"
   ]
  },
  {
   "cell_type": "code",
   "execution_count": null,
   "id": "c0f739b8",
   "metadata": {},
   "outputs": [],
   "source": []
  }
 ],
 "metadata": {
  "kernelspec": {
   "display_name": "Python 3 (ipykernel)",
   "language": "python",
   "name": "python3"
  },
  "language_info": {
   "codemirror_mode": {
    "name": "ipython",
    "version": 3
   },
   "file_extension": ".py",
   "mimetype": "text/x-python",
   "name": "python",
   "nbconvert_exporter": "python",
   "pygments_lexer": "ipython3",
   "version": "3.7.8"
  },
  "toc": {
   "base_numbering": 1,
   "nav_menu": {},
   "number_sections": true,
   "sideBar": true,
   "skip_h1_title": false,
   "title_cell": "Table of Contents",
   "title_sidebar": "Contents",
   "toc_cell": false,
   "toc_position": {},
   "toc_section_display": true,
   "toc_window_display": false
  }
 },
 "nbformat": 4,
 "nbformat_minor": 5
}
