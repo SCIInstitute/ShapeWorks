{
 "cells": [
  {
   "cell_type": "code",
   "execution_count": null,
   "id": "d157476f",
   "metadata": {},
   "outputs": [],
   "source": [
    "# Jadie Adams\n",
    "\n",
    "import numpy as np\n",
    "import math\n",
    "import seaborn as sns\n",
    "import pandas as pd\n",
    "from scipy.stats import pearsonr\n",
    "import matplotlib.pyplot as plt\n",
    "font = {'size'   : 16}\n",
    "plt.rc('font', **font)\n",
    "\n",
    "import LDS_model\n",
    "import utils\n",
    "\n",
    "angles = np.arange(0, 2*np.pi, np.pi/4) + 0.5 # for 8 correspondences "
   ]
  },
  {
   "cell_type": "markdown",
   "id": "88ac8675",
   "metadata": {},
   "source": [
    "# Ellipse Data"
   ]
  },
  {
   "cell_type": "code",
   "execution_count": null,
   "id": "6592e05b",
   "metadata": {},
   "outputs": [],
   "source": [
    "# Define dimensions\n",
    "N = 100 # number of samples\n",
    "d = 2 # dimension of correspondence points\n",
    "M = 8 # number of correspondence points\n",
    "L = 2 # dimension of latent space\n",
    "P = d*M  # dimension of observation space \n",
    "T = 24   # number of time points\n",
    "period = 8"
   ]
  },
  {
   "cell_type": "code",
   "execution_count": null,
   "id": "a1b916fd",
   "metadata": {},
   "outputs": [],
   "source": [
    "'''\n",
    "Input: N - number of samples, T - number of time points\n",
    "Output: Generated data with shape (N, T, P) where P = dM (here d is 2 and M is 9)\n",
    "'''\n",
    "def generate_ellipse_data(N=3, T=16, period=8, x_radius_std=0.2, noise_std=0.01, plot=False):\n",
    "    # Major radius random value between 2 and 4 \n",
    "    # Minor radius varies between 1 and 3 on a sin wave dependent on t\n",
    "    data = []\n",
    "    if plot:\n",
    "        plt_x = []\n",
    "        plt_y = []\n",
    "    for sample_index in range(N):\n",
    "        data.append([])\n",
    "        major_radius = np.random.normal(0.6, x_radius_std)/3\n",
    "        # clip\n",
    "        if major_radius < 0:\n",
    "            major_radius = 0\n",
    "        if major_radius > 1:\n",
    "            major_radius =1\n",
    "        x_values = major_radius*np.cos(angles)\n",
    "        for i in range(T):\n",
    "            minor_diameter = 0.4*np.sin(i*(2*np.pi/period)) + 0.6 #between 1 and .2\n",
    "            minor_radius = minor_diameter/2\n",
    "            y_values = minor_radius*np.sin(angles)\n",
    "            data[sample_index].append([x_values,y_values])\n",
    "    data = np.asarray(data, np.float32)\n",
    "    # Add noise\n",
    "    data = data.reshape(N, T, 2*len(angles))\n",
    "    data = data + np.random.normal(0, noise_std, data.shape)\n",
    "    \n",
    "    if plot:\n",
    "        data2 = data.reshape(N, T, 2, len(angles))\n",
    "        plt_x = data2[:,:,0,:]\n",
    "        plt_y = data2[:,:,1,:]\n",
    "        plt.figure(figsize=(100, 30))\n",
    "        dim = math.ceil(T/8)\n",
    "        I = 3\n",
    "        J = min(16,len(plt_x[0]))\n",
    "        fig, axs = plt.subplots(I, J, figsize=(J,I+1))\n",
    "        for ax in axs.flat:\n",
    "            ax.set_xlim([-0.5, 0.5])\n",
    "            ax.set_ylim([-0.5, 0.5])\n",
    "            ax.label_outer()\n",
    "        row = 0\n",
    "        colors = ['b', 'teal', 'g', 'y', 'orange', 'r', 'pink', 'm', 'c']\n",
    "        for i in range(I):\n",
    "            for j in range(J):\n",
    "                for p in range(len(plt_x[i][j])):\n",
    "                    axs[row][j].scatter(plt_x[i][j][p], plt_y[i][j][p], color=colors[p])\n",
    "                axs[0][j].set_title('t =' + str(j+1))\n",
    "            row += 1\n",
    "        plt.show()\n",
    "    return data"
   ]
  },
  {
   "cell_type": "code",
   "execution_count": null,
   "id": "38a77d75",
   "metadata": {},
   "outputs": [],
   "source": [
    "# Generate data\n",
    "X = generate_ellipse_data(N, T, period, plot=True)"
   ]
  },
  {
   "cell_type": "code",
   "execution_count": null,
   "id": "80f9a65c",
   "metadata": {},
   "outputs": [],
   "source": [
    "# Generate test data\n",
    "test_obs = generate_ellipse_data(100, T, period, plot=False)"
   ]
  },
  {
   "cell_type": "code",
   "execution_count": null,
   "id": "d9885a71",
   "metadata": {},
   "outputs": [],
   "source": [
    "z = test_obs[-1]\n",
    "test_obs.shape\n"
   ]
  },
  {
   "cell_type": "markdown",
   "id": "502e2583",
   "metadata": {},
   "source": [
    "# Helper and Plotting Functions"
   ]
  },
  {
   "cell_type": "code",
   "execution_count": null,
   "id": "dd86f95f",
   "metadata": {},
   "outputs": [],
   "source": [
    "# obs has shape (T, dM)\n",
    "def plot_obs(obs, mask=None):\n",
    "    obs = obs.reshape(T, d, M)\n",
    "    plt.figure(figsize=(100, 50))\n",
    "    dim = math.ceil(T/8)\n",
    "    J = min(8,len(obs))\n",
    "    fig, axs = plt.subplots(1, J, figsize=(J,1))\n",
    "    for ax in axs.flat:\n",
    "        ax.set_xlim([-0.5,0.5])\n",
    "        ax.set_ylim([-0.5,0.5])\n",
    "        ax.tick_params(left = False, right = False , labelleft = False ,\n",
    "                labelbottom = False, bottom = False)\n",
    "#         ax.label_outer()\n",
    "    colors = ['b', 'teal', 'g', 'y', 'orange', 'r', 'pink', 'm', 'c']\n",
    "    for j in range(J):\n",
    "        # Shade if missing\n",
    "        if mask is not None:\n",
    "            if mask[j][0]:\n",
    "                axs[j].patch.set_facecolor('gray')\n",
    "        for p in range(len(obs[j][0])):\n",
    "            axs[j].scatter(obs[j][0][p], obs[j][1][p], color=colors[p])\n",
    "\n",
    "                \n",
    "#         axs[j].set_title('t =' + str(j+1))\n",
    "    plt.show()"
   ]
  },
  {
   "cell_type": "code",
   "execution_count": null,
   "id": "b9439e93",
   "metadata": {},
   "outputs": [],
   "source": [
    "def box_plots(MSES):\n",
    "    labels = []\n",
    "    for i in range(MSES.shape[1]):\n",
    "        labels.append(\"T=\"+str(i+1))\n",
    "    fig = plt.figure(1, figsize=(9, 6))\n",
    "    ax = fig.add_subplot(111)\n",
    "    bp = ax.boxplot(MSES)\n",
    "    plt.xlabel(\"Time Point\")\n",
    "    plt.ylabel(\"MSE\")"
   ]
  },
  {
   "cell_type": "code",
   "execution_count": null,
   "id": "392517d4",
   "metadata": {},
   "outputs": [],
   "source": [
    "def get_radius(obs):\n",
    "    obs = obs.reshape(obs.shape[0], obs.shape[1], 2, int(obs.shape[-1]/2))\n",
    "    y_rad = []\n",
    "    rads = []\n",
    "    for sample_index in range(obs.shape[0]):\n",
    "        x_values = obs[sample_index, :, 0, :]\n",
    "        y_values = obs[sample_index, :, 1, :]\n",
    "        for i in range(x_values.shape[0]):\n",
    "            rads.append([np.mean(x_values[i]/np.cos(angles)), np.mean(y_values[i]/np.sin(angles))])\n",
    "    rads = np.array(rads)\n",
    "    rads[rads<0]=0\n",
    "    rads[rads>0.65]=0.65\n",
    "    return np.array(rads)"
   ]
  },
  {
   "cell_type": "code",
   "execution_count": null,
   "id": "3ddd903e",
   "metadata": {},
   "outputs": [],
   "source": [
    "def violin_radius(rads, rads2, label1=\"group1\", label2=\"group2\"):\n",
    "    rads = rads.flatten()\n",
    "    rads2 = rads2.flatten()\n",
    "    combined_rads = np.zeros(rads.shape[0]+rads2.shape[0])\n",
    "    combined_rads[:rads.shape[0]] = rads\n",
    "    combined_rads[rads.shape[0]:] = rads2\n",
    "    groups = [label2] * combined_rads.shape[0]\n",
    "    labels = []\n",
    "    for i in range(rads.shape[0]):\n",
    "        groups[i] = label1\n",
    "        labels.append('x-radius')\n",
    "        labels.append('y-radius')\n",
    "\n",
    "    data = {'Data Type':groups, 'Radius':labels, \"Radius Values\":combined_rads}\n",
    "    df = pd.DataFrame(data) \n",
    "    sns.set_style(\"whitegrid\")\n",
    "    fig = plt.figure(1, figsize=(9, 6))\n",
    "    ax = fig.add_subplot(111)\n",
    "    ax = sns.violinplot(x=df['Radius Values'], y=labels, hue=groups,\n",
    "                        data=df, palette=\"Set2\", split=True, scale=\"area\", ax=ax)"
   ]
  },
  {
   "cell_type": "code",
   "execution_count": null,
   "id": "7ac8b396",
   "metadata": {},
   "outputs": [],
   "source": [
    "def sample_accuracy(samples):\n",
    "    rads = get_radius(samples).reshape((samples.shape[0], samples.shape[1], 2))    \n",
    "    expected = []\n",
    "    for sample_index in range(rads.shape[0]):\n",
    "        expected.append([])\n",
    "        major_radius = np.mean(rads[sample_index,:,0])\n",
    "        # clip\n",
    "        if major_radius < 0:\n",
    "            major_radius = 0\n",
    "        x_values = major_radius*np.cos(angles)\n",
    "        for i in range(T):\n",
    "            minor_diameter = 0.4*np.sin(i*(2*np.pi/period)) + 0.6 #between 1 and .2\n",
    "            minor_radius = minor_diameter/2\n",
    "            y_values = minor_radius*np.sin(angles)\n",
    "            expected[sample_index].append([x_values,y_values])\n",
    "    expected = np.asarray(expected, np.float32)\n",
    "    expected = expected.reshape(samples.shape)\n",
    "    \n",
    "    MSE = np.mean((samples-expected)**2, axis = -1)\n",
    "    return MSE"
   ]
  },
  {
   "cell_type": "markdown",
   "id": "0946f5ee",
   "metadata": {},
   "source": [
    "# Time Varying LDS"
   ]
  },
  {
   "cell_type": "code",
   "execution_count": null,
   "id": "10fbfeb7",
   "metadata": {},
   "outputs": [],
   "source": [
    "def varying_run_EM_and_plot(obs, n_iters):\n",
    "    # Define model\n",
    "    initial_A = utils.repeat(T-1, np.eye(L))\n",
    "    initial_W = utils.repeat(T, np.random.normal(0.0, 1.0, (P, L)))\n",
    "    lds = LDS_model.LDS(n_dim_obs=P, n_dim_state=L,\n",
    "                        transition_matrices = initial_A, \n",
    "                        observation_matrices = initial_W,\n",
    "                        em_vars=[\n",
    "                            'transition_matrices', 'observation_matrices',\n",
    "                            'transition_covariance', 'observation_covariance',\n",
    "                            'initial_state_mean', 'initial_state_covariance'\n",
    "                        ])\n",
    "    # Learn good values for parameters named in `em_vars` using the EM algorithm\n",
    "    loglikelihoods = np.zeros(n_iters)\n",
    "    for i in range(len(loglikelihoods)):\n",
    "        lds = lds.em(obs, n_iter=1)\n",
    "        loglikelihoods[i] = lds.loglikelihood(obs)\n",
    "\n",
    "\n",
    "    # Draw log likelihood of observations as a function of EM iteration number.\n",
    "    # Notice how it is increasing (this is guaranteed by the EM algorithm)\n",
    "    plt.figure()\n",
    "    plt.plot(loglikelihoods)\n",
    "    plt.xlabel('EM Iteration')\n",
    "    plt.ylabel('Average Log Likelihood')\n",
    "    plt.show()\n",
    "    \n",
    "    return lds"
   ]
  },
  {
   "cell_type": "code",
   "execution_count": null,
   "id": "41ac802a",
   "metadata": {},
   "outputs": [],
   "source": [
    "varying_model = varying_run_EM_and_plot(X, 100)"
   ]
  },
  {
   "cell_type": "code",
   "execution_count": null,
   "id": "ccb109d3",
   "metadata": {},
   "outputs": [],
   "source": [
    "# Reconstruction\n",
    "test_recons = varying_model.reconstruct(test_obs)\n",
    "test_recons = test_recons[1:]\n",
    "test_obs = test_obs[1:]\n",
    "MSEs = np.mean(((test_obs-test_recons)**2), axis=2)\n",
    "box_plots(MSEs)\n",
    "print(\"MSE :\" + str(np.mean(MSEs)))\n",
    "print(\"Examples:\")\n",
    "print(\"True:\")\n",
    "plot_obs(test_obs[-1])\n",
    "print(\"Reconstructed:\")\n",
    "plot_obs(test_recons[-1])\n",
    "print(\"True:\")\n",
    "plot_obs(test_obs[2])\n",
    "print(\"Reconstructed:\")\n",
    "plot_obs(test_recons[2])\n",
    "\n",
    "# radius\n",
    "test_rads = get_radius(test_obs)\n",
    "recon_rads = get_radius(test_recons)\n",
    "violin_radius(test_rads, recon_rads, \"Unseen Obs.\", \"Reconstructed\")"
   ]
  },
  {
   "cell_type": "code",
   "execution_count": null,
   "id": "14c01e8e",
   "metadata": {},
   "outputs": [],
   "source": [
    "z = (test_obs-test_recons)**2\n"
   ]
  },
  {
   "cell_type": "code",
   "execution_count": null,
   "id": "9dbc1b7f",
   "metadata": {},
   "outputs": [],
   "source": [
    "zz = np.mean((z), axis=2)\n",
    "zz.shape\n",
    "plt.boxplot(zz)"
   ]
  },
  {
   "cell_type": "code",
   "execution_count": null,
   "id": "c46470a5",
   "metadata": {},
   "outputs": [],
   "source": [
    "# X radius\n",
    "print(\"x_radius:\")\n",
    "corr, _ = pearsonr(test_rads[:,0], recon_rads[:,0])\n",
    "print(corr)\n",
    "plt.scatter(test_rads[:,0], recon_rads[:,0])\n",
    "plt.title('X-Radius Correlation')\n",
    "plt.xlabel('Unseen Observation')\n",
    "plt.ylabel('Reconstruction')"
   ]
  },
  {
   "cell_type": "code",
   "execution_count": null,
   "id": "29538a96",
   "metadata": {},
   "outputs": [],
   "source": [
    "print(\"y_radius:\")\n",
    "corr, _ = pearsonr(test_rads[:,1], recon_rads[:,1])\n",
    "print(corr)\n",
    "plt.scatter(test_rads[:,1], recon_rads[:,1])\n",
    "plt.title('Y-Radius Correlation')\n",
    "plt.xlabel('Unseen Observation')\n",
    "plt.ylabel('Reconstruction')"
   ]
  },
  {
   "cell_type": "code",
   "execution_count": null,
   "id": "b5406afd",
   "metadata": {},
   "outputs": [],
   "source": [
    "# Sample\n",
    "print(\"Generating samples...\")\n",
    "num_samples = 100\n",
    "samples = []\n",
    "for i in range(num_samples):\n",
    "    (states_sample, obs_sample) = varying_model.sample(T)\n",
    "    samples.append(obs_sample)\n",
    "samples = np.array(samples)\n",
    "\n",
    "sample_MSE = sample_accuracy(samples)\n",
    "print(sample_MSE.shape)\n",
    "print(\"Sample error:\" +str(np.mean(sample_MSE)))\n",
    "box_plots(sample_MSE)\n",
    "\n",
    "print(np.mean((samples-np.zeros(samples.shape))**2))\n",
    "\n",
    "# Plot some\n",
    "plot_obs(samples[0])\n",
    "plot_obs(samples[1])\n",
    "plot_obs(samples[2])\n",
    "\n",
    "# Samples\n",
    "rep_data = X = generate_ellipse_data(samples.shape[0], samples.shape[1], period, plot=False)\n",
    "x_rads = get_radius(rep_data)\n",
    "samples_rads = get_radius(samples)\n",
    "violin_radius(x_rads, samples_rads, \"Observations\", \"Samples\")\n"
   ]
  },
  {
   "cell_type": "code",
   "execution_count": null,
   "id": "60f51e5b",
   "metadata": {},
   "outputs": [],
   "source": [
    "# Impute\n",
    "MSEs = []\n",
    "percents = []\n",
    "for amount_missing in range(2, test_obs.shape[1], 2):\n",
    "    \n",
    "    masked_test = np.ma.asarray(test_obs)\n",
    "    true = np.copy(masked_test)\n",
    "    for n_ix in range(test_obs.shape[0]): # iterate all subject\n",
    "        ix = np.random.choice(test_obs.shape[1], size=amount_missing, replace=False) # \n",
    "        masked_test[n_ix, ix] = np.ma.masked # Mask \n",
    "    mask = np.ma.getmask(masked_test)\n",
    "    imputed = varying_model.reconstruct(masked_test)\n",
    "    target = true[mask].reshape(test_obs.shape[0], int(np.sum(mask)/test_obs.shape[0]))\n",
    "    predicted = imputed[mask].reshape(test_obs.shape[0], int(np.sum(mask)/test_obs.shape[0]))\n",
    "    MSE = np.mean((target-predicted)**2, axis = -1)[1:]\n",
    "    MSEs.append(MSE)\n",
    "    percents.append(str(amount_missing*100/test_obs.shape[1])[:4]+'%')\n",
    "    print(percents[-1])\n",
    "    print(np.mean(MSE))\n",
    "    print(\"Example:\")\n",
    "    new_obs = np.copy(test_obs)\n",
    "    for n_index in range(test_obs.shape[0]):\n",
    "        for t_index in range(test_obs.shape[1]):\n",
    "            for index in range(test_obs.shape[2]):\n",
    "                if mask[n_index][t_index][index]:\n",
    "                    new_obs[n_index][t_index][index] = imputed[n_index][t_index][index] \n",
    "    plot_obs(test_obs[-1], mask[-1])\n",
    "    plot_obs(new_obs[-1])\n",
    "    \n",
    "fig = plt.figure(1, figsize=(16, 6))\n",
    "ax = fig.add_subplot(111)\n",
    "bp = ax.boxplot(MSEs)\n",
    "ax.set_xticklabels(percents)\n",
    "plt.xlabel(\"Percent of Time Points Missing\")\n",
    "plt.ylabel(\"Imputed Values MSE\")"
   ]
  },
  {
   "cell_type": "code",
   "execution_count": null,
   "id": "f211c7b5",
   "metadata": {},
   "outputs": [],
   "source": [
    "arr = np.array([[[1,2,3], [4,5,6]], [[7,8,9],[10,11,12]], [[7,8,9],[10,11,12]]])\n",
    "arr1 = np.ma.asarray(arr)\n",
    "arr_true = np.copy(arr1)\n",
    "arr1[1, [0, 1]] = np.ma.masked\n",
    "mask_arr = np.ma.getmask(arr1)\n"
   ]
  },
  {
   "cell_type": "code",
   "execution_count": null,
   "id": "ab4642b9",
   "metadata": {},
   "outputs": [],
   "source": [
    "mask_arr"
   ]
  },
  {
   "cell_type": "code",
   "execution_count": null,
   "id": "c629b22d",
   "metadata": {},
   "outputs": [],
   "source": [
    "rr = arr_true[mask_arr].reshape(3, int(np.sum(mask_arr)/3))\n",
    "rr"
   ]
  },
  {
   "cell_type": "code",
   "execution_count": null,
   "id": "49cf91ec",
   "metadata": {},
   "outputs": [],
   "source": [
    "import numpy as np\n",
    "import matplotlib.pyplot as plt"
   ]
  },
  {
   "cell_type": "code",
   "execution_count": null,
   "id": "e5d8799b",
   "metadata": {},
   "outputs": [],
   "source": [
    "x = np.random.rand(5, 1024)\n",
    "y = 100 * np.random.rand(5, 1024)"
   ]
  },
  {
   "cell_type": "code",
   "execution_count": null,
   "id": "1e160770",
   "metadata": {},
   "outputs": [],
   "source": [
    "import numpy as np\n",
    "import matplotlib.pyplot as plt\n",
    "\n",
    "x1 = 10*np.random.random(100)\n",
    "x2 = 10*np.random.exponential(0.5, 100)\n",
    "x3 = 10*np.random.normal(0, 0.4, 100)\n",
    "plt.boxplot ([x1, x2, x3])"
   ]
  },
  {
   "cell_type": "code",
   "execution_count": null,
   "id": "aa54e5cb",
   "metadata": {},
   "outputs": [],
   "source": [
    "mdf.shape\n"
   ]
  },
  {
   "cell_type": "code",
   "execution_count": null,
   "id": "a4317f90",
   "metadata": {},
   "outputs": [],
   "source": [
    "import seaborn as sns\n",
    "sns.set_theme(style=\"ticks\", palette=\"pastel\")\n",
    "\n",
    "# Load the example tips dataset\n",
    "tips = sns.load_dataset(\"tips\")"
   ]
  },
  {
   "cell_type": "code",
   "execution_count": null,
   "id": "8aee201d",
   "metadata": {},
   "outputs": [],
   "source": [
    "tips.shape"
   ]
  },
  {
   "cell_type": "code",
   "execution_count": null,
   "id": "27c68753",
   "metadata": {},
   "outputs": [],
   "source": [
    "tips.head()"
   ]
  },
  {
   "cell_type": "code",
   "execution_count": null,
   "id": "0c65393c",
   "metadata": {},
   "outputs": [],
   "source": [
    "plt.style.use('plot_style.txt')\n"
   ]
  },
  {
   "cell_type": "code",
   "execution_count": null,
   "id": "6093ce3e",
   "metadata": {},
   "outputs": [],
   "source": [
    "import pandas as pd\n",
    "import numpy as np\n",
    "from matplotlib import pyplot as plt\n",
    "import seaborn as sns\n",
    "\n",
    "np.random.seed(44)\n",
    "# DATAFRAMES WITH TRIAL COLUMN ASSIGNED\n",
    "model_A_rmse = np.random.randn(12,25)\n",
    "model_B_rmse = np.random.randn(12,25)"
   ]
  },
  {
   "cell_type": "code",
   "execution_count": null,
   "id": "a868b185",
   "metadata": {},
   "outputs": [],
   "source": [
    "rmse_cols = np.zeros(600)\n",
    "time_point_cols = []\n",
    "model_type_cols = []"
   ]
  },
  {
   "cell_type": "code",
   "execution_count": null,
   "id": "d705d6cb",
   "metadata": {},
   "outputs": [],
   "source": [
    "start_idx = 0\n",
    "\n",
    "for t in range(0, 25):\n",
    "    model_A_rmses_at_t = model_A_rmse[:, t]\n",
    "    t_col = [t+1] * 12\n",
    "    model_col = ['Model A'] * 12\n",
    "    time_point_cols += t_col\n",
    "    model_type_cols += model_col\n",
    "    rmse_cols[start_idx:start_idx+12] = model_A_rmses_at_t\n",
    "    start_idx = start_idx + 12"
   ]
  },
  {
   "cell_type": "code",
   "execution_count": null,
   "id": "8400a9ce",
   "metadata": {},
   "outputs": [],
   "source": [
    "print(f'start idx is {start_idx}')\n",
    "for t in range(0, 25):\n",
    "    model_B_rmses_at_t = model_B_rmse[:, t]\n",
    "    t_col = [t+1] * 12\n",
    "    model_col = ['Model B'] * 12\n",
    "    time_point_cols += t_col\n",
    "    model_type_cols += model_col\n",
    "    rmse_cols[start_idx:start_idx+12] = model_B_rmses_at_t\n",
    "    start_idx = start_idx + 12"
   ]
  },
  {
   "cell_type": "code",
   "execution_count": null,
   "id": "3d007212",
   "metadata": {},
   "outputs": [],
   "source": [
    "(model_type_cols[:13])"
   ]
  },
  {
   "cell_type": "code",
   "execution_count": null,
   "id": "01441f4a",
   "metadata": {},
   "outputs": [],
   "source": [
    "df = pd.DataFrame(list(zip(time_point_cols, rmse_cols, model_type_cols)), columns=['Time Point', 'RMSE', 'Model Type'])"
   ]
  },
  {
   "cell_type": "code",
   "execution_count": null,
   "id": "acdb8a9d",
   "metadata": {},
   "outputs": [],
   "source": [
    "df.head()"
   ]
  },
  {
   "cell_type": "code",
   "execution_count": null,
   "id": "3903b73e",
   "metadata": {},
   "outputs": [],
   "source": [
    "fig = plt.gcf()\n",
    "fig.set_size_inches(22.5, 10.5)\n",
    "ax = sns.boxplot(x=\"Time Point\", y=\"RMSE\", hue=\"Model Type\",\n",
    "                 data=df, linewidth=2.5)"
   ]
  },
  {
   "cell_type": "code",
   "execution_count": null,
   "id": "dcdb90d2",
   "metadata": {},
   "outputs": [],
   "source": [
    "xx = np.random.rand(10, 25, 792)\n",
    "yy = np.mean(xx, axis=-1)\n",
    "yy.shape"
   ]
  },
  {
   "cell_type": "code",
   "execution_count": null,
   "id": "ee0f5d98",
   "metadata": {},
   "outputs": [],
   "source": [
    "def box_plots(MSES):\n",
    "    labels = []\n",
    "    for i in range(MSES.shape[1]):\n",
    "        labels.append(\"T=\"+str(i+1))\n",
    "    fig = plt.figure(1, figsize=(9, 6))\n",
    "    ax = fig.add_subplot(111)\n",
    "    bp = ax.boxplot(MSES)\n",
    "    plt.xlabel(\"Time Point\")\n",
    "    plt.ylabel(\"MSE\")"
   ]
  },
  {
   "cell_type": "code",
   "execution_count": null,
   "id": "93f29bce",
   "metadata": {},
   "outputs": [],
   "source": [
    "box_plots(yy)"
   ]
  },
  {
   "cell_type": "code",
   "execution_count": null,
   "id": "84538b01",
   "metadata": {},
   "outputs": [],
   "source": [
    "zx = np.mean(yy)"
   ]
  },
  {
   "cell_type": "code",
   "execution_count": null,
   "id": "ea664afa",
   "metadata": {},
   "outputs": [],
   "source": [
    "import numpy as np\n",
    "import random\n",
    "N = 56\n",
    "T = 25\n",
    "dM = 768"
   ]
  },
  {
   "cell_type": "code",
   "execution_count": null,
   "id": "f5f30190",
   "metadata": {},
   "outputs": [],
   "source": [
    "xx = np.random.rand(N, T, dM)\n",
    "xx_ = np.ma.asarray(xx)\n",
    "xx_copy = np.ma.asarray(xx)\n",
    "amount_missing = 5\n",
    "for n in range(N):\n",
    "    masked_indices = random.sample(range(0, T), amount_missing)\n",
    "    xx_copy[n, masked_indices] = np.ma.masked"
   ]
  },
  {
   "cell_type": "code",
   "execution_count": null,
   "id": "0b5fc148",
   "metadata": {},
   "outputs": [],
   "source": [
    "x1 = np.random.rand(N, T, dM)\n",
    "x2 = np.random.rand(N, T, dM)\n",
    "y = np.divide(x1=x1, x2=x2)"
   ]
  },
  {
   "cell_type": "code",
   "execution_count": null,
   "id": "a8a8d207",
   "metadata": {},
   "outputs": [],
   "source": []
  },
  {
   "cell_type": "code",
   "execution_count": null,
   "id": "ced03fd5",
   "metadata": {},
   "outputs": [],
   "source": [
    "mask = np.ma.getmask(xx_copy)\n",
    "mask.shape\n"
   ]
  },
  {
   "cell_type": "code",
   "execution_count": null,
   "id": "01c009a2",
   "metadata": {},
   "outputs": [],
   "source": [
    "y = xx_copy[mask]\n",
    "y.shape"
   ]
  },
  {
   "cell_type": "code",
   "execution_count": null,
   "id": "638deb7f",
   "metadata": {},
   "outputs": [],
   "source": [
    "mask_sum = np.sum(mask)\n",
    "mask_sum"
   ]
  },
  {
   "cell_type": "code",
   "execution_count": null,
   "id": "ab110f2c",
   "metadata": {},
   "outputs": [],
   "source": [
    "other_idx = int(mask_sum/N)\n",
    "other_idx"
   ]
  },
  {
   "cell_type": "code",
   "execution_count": null,
   "id": "2cbdb416",
   "metadata": {},
   "outputs": [],
   "source": [
    "z = y.reshape(N, other_idx)"
   ]
  },
  {
   "cell_type": "code",
   "execution_count": null,
   "id": "713b9686",
   "metadata": {},
   "outputs": [],
   "source": [
    "import numpy as np\n",
    "from sklearn.preprocessing import MinMaxScaler"
   ]
  },
  {
   "cell_type": "code",
   "execution_count": null,
   "id": "b6459a8f",
   "metadata": {},
   "outputs": [],
   "source": [
    "def RRMSE(true, pred):\n",
    "\treturn np.sqrt(np.mean(np.square(true - pred))/(np.sum(np.square(pred))))\n",
    "\t\n",
    "# obs has dim [N, T, Md]\n",
    "# recon has dim [N, T, Md]\n"
   ]
  },
  {
   "cell_type": "code",
   "execution_count": null,
   "id": "1c6c4a2f",
   "metadata": {},
   "outputs": [],
   "source": [
    "x = np.random.rand(58, 25, 256, 3)\n",
    "obs = x.reshape(58, 25, 768)\n",
    "\n",
    "y = np.random.rand(58, 25, 256, 3)\n",
    "recon = y.reshape(58, 25, 768)\n",
    "N = 58\n",
    "T = 25"
   ]
  },
  {
   "cell_type": "code",
   "execution_count": null,
   "id": "039abd25",
   "metadata": {},
   "outputs": [],
   "source": [
    "particle_RRMSEs = []\n",
    "for n in range(N):\n",
    "\tfor t in range(T):\n",
    "\t\tcurrent_particle_RRMSE = (RRMSE(obs[n,t], recon[n,t]))\n",
    "\t\tparticle_RRMSEs.append(current_particle_RRMSE)\n",
    "avg_particle_rrmse = np.mean(np.array(particle_RRMSEs), axis=0)\n",
    "# avg_particle_rrmse has dim [M]"
   ]
  },
  {
   "cell_type": "code",
   "execution_count": null,
   "id": "5886480d",
   "metadata": {},
   "outputs": [],
   "source": [
    "np.array(particle_RRMSEs).shape"
   ]
  },
  {
   "cell_type": "code",
   "execution_count": null,
   "id": "443fda7f",
   "metadata": {},
   "outputs": [],
   "source": [
    "k = np.zeros((3, 3, 3))\n",
    "k.shape"
   ]
  },
  {
   "cell_type": "code",
   "execution_count": null,
   "id": "13c32bb0",
   "metadata": {},
   "outputs": [],
   "source": [
    "x = np.mean(a, 1)\n",
    "y = np.mean(x, 0)\n",
    "y.shape"
   ]
  },
  {
   "cell_type": "code",
   "execution_count": null,
   "id": "8560eb1f",
   "metadata": {},
   "outputs": [],
   "source": [
    "xx_ = np.mean(a, 0)\n",
    "yy_ = np.mean(xx_, 0)\n",
    "yy_.shape"
   ]
  },
  {
   "cell_type": "code",
   "execution_count": null,
   "id": "28698507",
   "metadata": {},
   "outputs": [],
   "source": []
  },
  {
   "cell_type": "code",
   "execution_count": null,
   "id": "b1f07aae",
   "metadata": {},
   "outputs": [],
   "source": [
    "a_scaled = scaler.fit_transform(a.reshape(-1, a.shape[-1])).reshape(a.shape)\n",
    "a_scaled"
   ]
  },
  {
   "cell_type": "code",
   "execution_count": null,
   "id": "a093ffa7",
   "metadata": {},
   "outputs": [],
   "source": [
    "a_rev = scaler.inverse_transform(a_scaled.reshape(-1, a_scaled.shape[-1])).reshape(a_scaled.shape)\n"
   ]
  },
  {
   "cell_type": "code",
   "execution_count": null,
   "id": "fb445f1d",
   "metadata": {},
   "outputs": [],
   "source": [
    "a_scaled_sub = a_scaled[2, :, :]"
   ]
  },
  {
   "cell_type": "code",
   "execution_count": null,
   "id": "15f9065c",
   "metadata": {},
   "outputs": [],
   "source": [
    "a_rev_sub = scaler.inverse_transform(a_scaled_sub.reshape(-1, a_scaled_sub.shape[-1])).reshape(a_scaled_sub.shape)\n"
   ]
  },
  {
   "cell_type": "code",
   "execution_count": null,
   "id": "da383a9e",
   "metadata": {},
   "outputs": [],
   "source": [
    "assert np.allclose(a_rev, a)\n",
    "assert np.allclose(a_rev_sub, a[2, :, :])"
   ]
  },
  {
   "cell_type": "code",
   "execution_count": null,
   "id": "32f25646",
   "metadata": {},
   "outputs": [],
   "source": [
    "xy = (a_scaled[1, :, :] - a_scaled[2, :, :])**2\n",
    "res = np.sqrt(np.mean(xy, axis=0))\n",
    "res"
   ]
  },
  {
   "cell_type": "markdown",
   "id": "e7cef770",
   "metadata": {},
   "source": []
  },
  {
   "cell_type": "code",
   "execution_count": null,
   "id": "0091dd7f",
   "metadata": {},
   "outputs": [],
   "source": [
    "xy_ = (a[1, :, :] - a[2, :, :])**2\n",
    "res_ = np.sqrt(np.mean(xy_, axis=0))\n",
    "res_"
   ]
  },
  {
   "cell_type": "code",
   "execution_count": null,
   "id": "9e2fa434",
   "metadata": {},
   "outputs": [],
   "source": []
  },
  {
   "cell_type": "code",
   "execution_count": null,
   "id": "cff3ca6d",
   "metadata": {},
   "outputs": [],
   "source": [
    "import torch\n",
    "DEVICE = 'cpu'\n",
    "import numpy as np\n",
    "def rrmse_nr(diff):\n",
    "    return np.sqrt(np.mean(np.square(diff)))\n",
    "def rrmse_dr(recon):\n",
    "    return np.sqrt(np.sum(recon))\n",
    "N = 58\n",
    "T = 25\n",
    "dM = 768\n",
    "d = 3\n",
    "M = 256"
   ]
  },
  {
   "cell_type": "code",
   "execution_count": null,
   "id": "c48ab58b",
   "metadata": {},
   "outputs": [],
   "source": [
    "x = torch.rand(N, T, dM).to(DEVICE) # Obs\n",
    "y = torch.rand(N, T, dM).to(DEVICE) # Recon"
   ]
  },
  {
   "cell_type": "code",
   "execution_count": null,
   "id": "72013e13",
   "metadata": {},
   "outputs": [],
   "source": [
    "z = torch.mean(torch.square(x))\n",
    "\n",
    "z"
   ]
  },
  {
   "cell_type": "code",
   "execution_count": null,
   "id": "a02cfc56",
   "metadata": {},
   "outputs": [],
   "source": [
    "diff = (x - y)\n",
    "diff_ = diff.apply_(rrmse_nr)\n",
    "y_ = y.apply_(rrmse_dr)"
   ]
  },
  {
   "cell_type": "code",
   "execution_count": null,
   "id": "50234874",
   "metadata": {},
   "outputs": [],
   "source": [
    "all_error = diff_/y_"
   ]
  },
  {
   "cell_type": "code",
   "execution_count": null,
   "id": "91c18edc",
   "metadata": {},
   "outputs": [],
   "source": [
    "rrmse = torch.mean(torch.mean(all_error, 1), 0)"
   ]
  },
  {
   "cell_type": "code",
   "execution_count": null,
   "id": "19402032",
   "metadata": {},
   "outputs": [],
   "source": [
    "rrmse.shape"
   ]
  },
  {
   "cell_type": "code",
   "execution_count": null,
   "id": "3d518971",
   "metadata": {},
   "outputs": [],
   "source": [
    "obs_ = np.reshape(x.to('cpu').numpy(), (N, T, M, d))\n",
    "recons_ = np.reshape(y.to('cpu').numpy(), (N, T, M, d))\n",
    "def RRMSE(true, pred):\n",
    "\treturn np.sqrt(np.mean(np.square(true - pred))/(np.sum(np.square(pred))))\n",
    "\t\n",
    "# obs has dim [N, T, M, d]\n",
    "# recon has dim [N, T, M, d]\n",
    "\n",
    "particle_RRMSEs = []\n",
    "for n in range(N):\n",
    "\tfor t in range(T):\n",
    "\t\tcurrent_particle_RRMSE = []\n",
    "\t\tfor m in range(M):\n",
    "\t\t\tcurrent_particle_RRMSE.append(RRMSE(obs_[n,t,m], recons_[n,t,m]))\n",
    "\t\tparticle_RRMSEs.append(current_particle_RRMSE)\n",
    "avg_particle_rrmse = np.mean(particle_RRMSEs, axis=0)"
   ]
  },
  {
   "cell_type": "code",
   "execution_count": null,
   "id": "a0930ba2",
   "metadata": {},
   "outputs": [],
   "source": [
    "avg_particle_rrmse.shape"
   ]
  },
  {
   "cell_type": "code",
   "execution_count": null,
   "id": "9cebe5f4",
   "metadata": {},
   "outputs": [],
   "source": []
  }
 ],
 "metadata": {
  "interpreter": {
   "hash": "9abb8911c1aa7884fef042204dc94fda413b80958c53da6b047e0f4190aa0480"
  },
  "kernelspec": {
   "display_name": "Python 3.7.8 64-bit ('assignment': conda)",
   "name": "python3"
  },
  "language_info": {
   "codemirror_mode": {
    "name": "ipython",
    "version": 3
   },
   "file_extension": ".py",
   "mimetype": "text/x-python",
   "name": "python",
   "nbconvert_exporter": "python",
   "pygments_lexer": "ipython3",
   "version": "3.7.8"
  },
  "toc": {
   "base_numbering": 1,
   "nav_menu": {},
   "number_sections": true,
   "sideBar": true,
   "skip_h1_title": false,
   "title_cell": "Table of Contents",
   "title_sidebar": "Contents",
   "toc_cell": false,
   "toc_position": {},
   "toc_section_display": true,
   "toc_window_display": false
  }
 },
 "nbformat": 4,
 "nbformat_minor": 5
}
