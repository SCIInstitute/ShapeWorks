{
 "cells": [
  {
   "cell_type": "code",
   "execution_count": null,
   "id": "ad7cb0a9",
   "metadata": {},
   "outputs": [],
   "source": [
    "# Jadie Adams\n",
    "\n",
    "import numpy as np\n",
    "import math\n",
    "import seaborn as sns\n",
    "import pandas as pd\n",
    "from scipy.stats import pearsonr\n",
    "import matplotlib.pyplot as plt\n",
    "font = {'size'   : 16}\n",
    "plt.rc('font', **font)\n",
    "\n",
    "import LDS_model\n",
    "import utils\n",
    "\n",
    "angles = np.arange(0, 2*np.pi, np.pi/4) + 0.5 # for 8 correspondences "
   ]
  },
  {
   "cell_type": "markdown",
   "id": "b471b86f",
   "metadata": {},
   "source": [
    "# Ellipse Data"
   ]
  },
  {
   "cell_type": "code",
   "execution_count": null,
   "id": "1b60b440",
   "metadata": {},
   "outputs": [],
   "source": [
    "# Define dimensions\n",
    "N = 100 # number of samples\n",
    "d = 2 # dimension of correspondence points\n",
    "M = 8 # number of correspondence points\n",
    "L = 2 # dimension of latent space\n",
    "P = d*M  # dimension of observation space \n",
    "T = 24   # number of time points\n",
    "period = 8"
   ]
  },
  {
   "cell_type": "code",
   "execution_count": null,
   "id": "8e80f3bb",
   "metadata": {},
   "outputs": [],
   "source": [
    "'''\n",
    "Input: N - number of samples, T - number of time points\n",
    "Output: Generated data with shape (N, T, P) where P = dM (here d is 2 and M is 9)\n",
    "'''\n",
    "def generate_ellipse_data(N=3, T=16, period=8, x_radius_std=0.2, noise_std=0.01, plot=False):\n",
    "    # Major radius random value between 2 and 4 \n",
    "    # Minor radius varies between 1 and 3 on a sin wave dependent on t\n",
    "    data = []\n",
    "    if plot:\n",
    "        plt_x = []\n",
    "        plt_y = []\n",
    "    for sample_index in range(N):\n",
    "        data.append([])\n",
    "        major_radius = np.random.normal(0.6, x_radius_std)/3\n",
    "        # clip\n",
    "        if major_radius < 0:\n",
    "            major_radius = 0\n",
    "        if major_radius > 1:\n",
    "            major_radius =1\n",
    "        x_values = major_radius*np.cos(angles)\n",
    "        for i in range(T):\n",
    "            minor_diameter = 0.4*np.sin(i*(2*np.pi/period)) + 0.6 #between 1 and .2\n",
    "            minor_radius = minor_diameter/2\n",
    "            y_values = minor_radius*np.sin(angles)\n",
    "            data[sample_index].append([x_values,y_values])\n",
    "    data = np.asarray(data, np.float32)\n",
    "    # Add noise\n",
    "    data = data.reshape(N, T, 2*len(angles))\n",
    "    data = data + np.random.normal(0, noise_std, data.shape)\n",
    "    \n",
    "    if plot:\n",
    "        data2 = data.reshape(N, T, 2, len(angles))\n",
    "        plt_x = data2[:,:,0,:]\n",
    "        plt_y = data2[:,:,1,:]\n",
    "        plt.figure(figsize=(100, 30))\n",
    "        dim = math.ceil(T/8)\n",
    "        I = 3\n",
    "        J = min(16,len(plt_x[0]))\n",
    "        fig, axs = plt.subplots(I, J, figsize=(J,I+1))\n",
    "        for ax in axs.flat:\n",
    "            ax.set_xlim([-0.5, 0.5])\n",
    "            ax.set_ylim([-0.5, 0.5])\n",
    "            ax.label_outer()\n",
    "        row = 0\n",
    "        colors = ['b', 'teal', 'g', 'y', 'orange', 'r', 'pink', 'm', 'c']\n",
    "        for i in range(I):\n",
    "            for j in range(J):\n",
    "                for p in range(len(plt_x[i][j])):\n",
    "                    axs[row][j].scatter(plt_x[i][j][p], plt_y[i][j][p], color=colors[p])\n",
    "                axs[0][j].set_title('t =' + str(j+1))\n",
    "            row += 1\n",
    "        plt.show()\n",
    "    return data"
   ]
  },
  {
   "cell_type": "code",
   "execution_count": null,
   "id": "9b678159",
   "metadata": {},
   "outputs": [],
   "source": [
    "# Generate data\n",
    "X = generate_ellipse_data(N, T, period, plot=True)"
   ]
  },
  {
   "cell_type": "code",
   "execution_count": null,
   "id": "b06aa7af",
   "metadata": {},
   "outputs": [],
   "source": [
    "# Generate test data\n",
    "test_obs = generate_ellipse_data(100, T, period, plot=False)"
   ]
  },
  {
   "cell_type": "code",
   "execution_count": null,
   "id": "f114f8d6",
   "metadata": {},
   "outputs": [],
   "source": [
    "z = test_obs[-1]\n",
    "test_obs.shape\n"
   ]
  },
  {
   "cell_type": "markdown",
   "id": "de185cfc",
   "metadata": {},
   "source": [
    "# Helper and Plotting Functions"
   ]
  },
  {
   "cell_type": "code",
   "execution_count": null,
   "id": "b2c3f00d",
   "metadata": {},
   "outputs": [],
   "source": [
    "# obs has shape (T, dM)\n",
    "def plot_obs(obs, mask=None):\n",
    "    obs = obs.reshape(T, d, M)\n",
    "    plt.figure(figsize=(100, 50))\n",
    "    dim = math.ceil(T/8)\n",
    "    J = min(8,len(obs))\n",
    "    fig, axs = plt.subplots(1, J, figsize=(J,1))\n",
    "    for ax in axs.flat:\n",
    "        ax.set_xlim([-0.5,0.5])\n",
    "        ax.set_ylim([-0.5,0.5])\n",
    "        ax.tick_params(left = False, right = False , labelleft = False ,\n",
    "                labelbottom = False, bottom = False)\n",
    "#         ax.label_outer()\n",
    "    colors = ['b', 'teal', 'g', 'y', 'orange', 'r', 'pink', 'm', 'c']\n",
    "    for j in range(J):\n",
    "        # Shade if missing\n",
    "        if mask is not None:\n",
    "            if mask[j][0]:\n",
    "                axs[j].patch.set_facecolor('gray')\n",
    "        for p in range(len(obs[j][0])):\n",
    "            axs[j].scatter(obs[j][0][p], obs[j][1][p], color=colors[p])\n",
    "\n",
    "                \n",
    "#         axs[j].set_title('t =' + str(j+1))\n",
    "    plt.show()"
   ]
  },
  {
   "cell_type": "code",
   "execution_count": null,
   "id": "337b6e50",
   "metadata": {},
   "outputs": [],
   "source": [
    "def box_plots(MSES):\n",
    "    labels = []\n",
    "    for i in range(MSES.shape[1]):\n",
    "        labels.append(\"T=\"+str(i+1))\n",
    "    fig = plt.figure(1, figsize=(9, 6))\n",
    "    ax = fig.add_subplot(111)\n",
    "    bp = ax.boxplot(MSES)\n",
    "    plt.xlabel(\"Time Point\")\n",
    "    plt.ylabel(\"MSE\")"
   ]
  },
  {
   "cell_type": "code",
   "execution_count": null,
   "id": "55558177",
   "metadata": {},
   "outputs": [],
   "source": [
    "def get_radius(obs):\n",
    "    obs = obs.reshape(obs.shape[0], obs.shape[1], 2, int(obs.shape[-1]/2))\n",
    "    y_rad = []\n",
    "    rads = []\n",
    "    for sample_index in range(obs.shape[0]):\n",
    "        x_values = obs[sample_index, :, 0, :]\n",
    "        y_values = obs[sample_index, :, 1, :]\n",
    "        for i in range(x_values.shape[0]):\n",
    "            rads.append([np.mean(x_values[i]/np.cos(angles)), np.mean(y_values[i]/np.sin(angles))])\n",
    "    rads = np.array(rads)\n",
    "    rads[rads<0]=0\n",
    "    rads[rads>0.65]=0.65\n",
    "    return np.array(rads)"
   ]
  },
  {
   "cell_type": "code",
   "execution_count": null,
   "id": "93f4575f",
   "metadata": {},
   "outputs": [],
   "source": [
    "def violin_radius(rads, rads2, label1=\"group1\", label2=\"group2\"):\n",
    "    rads = rads.flatten()\n",
    "    rads2 = rads2.flatten()\n",
    "    combined_rads = np.zeros(rads.shape[0]+rads2.shape[0])\n",
    "    combined_rads[:rads.shape[0]] = rads\n",
    "    combined_rads[rads.shape[0]:] = rads2\n",
    "    groups = [label2] * combined_rads.shape[0]\n",
    "    labels = []\n",
    "    for i in range(rads.shape[0]):\n",
    "        groups[i] = label1\n",
    "        labels.append('x-radius')\n",
    "        labels.append('y-radius')\n",
    "\n",
    "    data = {'Data Type':groups, 'Radius':labels, \"Radius Values\":combined_rads}\n",
    "    df = pd.DataFrame(data) \n",
    "    sns.set_style(\"whitegrid\")\n",
    "    fig = plt.figure(1, figsize=(9, 6))\n",
    "    ax = fig.add_subplot(111)\n",
    "    ax = sns.violinplot(x=df['Radius Values'], y=labels, hue=groups,\n",
    "                        data=df, palette=\"Set2\", split=True, scale=\"area\", ax=ax)"
   ]
  },
  {
   "cell_type": "code",
   "execution_count": null,
   "id": "56e0ed9e",
   "metadata": {},
   "outputs": [],
   "source": [
    "def sample_accuracy(samples):\n",
    "    rads = get_radius(samples).reshape((samples.shape[0], samples.shape[1], 2))    \n",
    "    expected = []\n",
    "    for sample_index in range(rads.shape[0]):\n",
    "        expected.append([])\n",
    "        major_radius = np.mean(rads[sample_index,:,0])\n",
    "        # clip\n",
    "        if major_radius < 0:\n",
    "            major_radius = 0\n",
    "        x_values = major_radius*np.cos(angles)\n",
    "        for i in range(T):\n",
    "            minor_diameter = 0.4*np.sin(i*(2*np.pi/period)) + 0.6 #between 1 and .2\n",
    "            minor_radius = minor_diameter/2\n",
    "            y_values = minor_radius*np.sin(angles)\n",
    "            expected[sample_index].append([x_values,y_values])\n",
    "    expected = np.asarray(expected, np.float32)\n",
    "    expected = expected.reshape(samples.shape)\n",
    "    \n",
    "    MSE = np.mean((samples-expected)**2, axis = -1)\n",
    "    return MSE"
   ]
  },
  {
   "cell_type": "markdown",
   "id": "031a0304",
   "metadata": {},
   "source": [
    "# Time Varying LDS"
   ]
  },
  {
   "cell_type": "code",
   "execution_count": null,
   "id": "035ba6e9",
   "metadata": {},
   "outputs": [],
   "source": [
    "def varying_run_EM_and_plot(obs, n_iters):\n",
    "    # Define model\n",
    "    initial_A = utils.repeat(T-1, np.eye(L))\n",
    "    initial_W = utils.repeat(T, np.random.normal(0.0, 1.0, (P, L)))\n",
    "    lds = LDS_model.LDS(n_dim_obs=P, n_dim_state=L,\n",
    "                        transition_matrices = initial_A, \n",
    "                        observation_matrices = initial_W,\n",
    "                        em_vars=[\n",
    "                            'transition_matrices', 'observation_matrices',\n",
    "                            'transition_covariance', 'observation_covariance',\n",
    "                            'initial_state_mean', 'initial_state_covariance'\n",
    "                        ])\n",
    "    # Learn good values for parameters named in `em_vars` using the EM algorithm\n",
    "    loglikelihoods = np.zeros(n_iters)\n",
    "    for i in range(len(loglikelihoods)):\n",
    "        lds = lds.em(obs, n_iter=1)\n",
    "        loglikelihoods[i] = lds.loglikelihood(obs)\n",
    "\n",
    "\n",
    "    # Draw log likelihood of observations as a function of EM iteration number.\n",
    "    # Notice how it is increasing (this is guaranteed by the EM algorithm)\n",
    "    plt.figure()\n",
    "    plt.plot(loglikelihoods)\n",
    "    plt.xlabel('EM Iteration')\n",
    "    plt.ylabel('Average Log Likelihood')\n",
    "    plt.show()\n",
    "    \n",
    "    return lds"
   ]
  },
  {
   "cell_type": "code",
   "execution_count": null,
   "id": "855f63ed",
   "metadata": {},
   "outputs": [],
   "source": [
    "varying_model = varying_run_EM_and_plot(X, 100)"
   ]
  },
  {
   "cell_type": "code",
   "execution_count": null,
   "id": "318967d6",
   "metadata": {},
   "outputs": [],
   "source": [
    "# Reconstruction\n",
    "test_recons = varying_model.reconstruct(test_obs)\n",
    "test_recons = test_recons[1:]\n",
    "test_obs = test_obs[1:]\n",
    "MSEs = np.mean(((test_obs-test_recons)**2), axis=2)\n",
    "box_plots(MSEs)\n",
    "print(\"MSE :\" + str(np.mean(MSEs)))\n",
    "print(\"Examples:\")\n",
    "print(\"True:\")\n",
    "plot_obs(test_obs[-1])\n",
    "print(\"Reconstructed:\")\n",
    "plot_obs(test_recons[-1])\n",
    "print(\"True:\")\n",
    "plot_obs(test_obs[2])\n",
    "print(\"Reconstructed:\")\n",
    "plot_obs(test_recons[2])\n",
    "\n",
    "# radius\n",
    "test_rads = get_radius(test_obs)\n",
    "recon_rads = get_radius(test_recons)\n",
    "violin_radius(test_rads, recon_rads, \"Unseen Obs.\", \"Reconstructed\")"
   ]
  },
  {
   "cell_type": "code",
   "execution_count": null,
   "id": "ca65efae",
   "metadata": {},
   "outputs": [],
   "source": [
    "z = (test_obs-test_recons)**2\n"
   ]
  },
  {
   "cell_type": "code",
   "execution_count": null,
   "id": "b155ae7b",
   "metadata": {},
   "outputs": [],
   "source": [
    "zz = np.mean((z), axis=2)\n",
    "zz.shape\n",
    "plt.boxplot(zz)"
   ]
  },
  {
   "cell_type": "code",
   "execution_count": null,
   "id": "d4dab6ca",
   "metadata": {},
   "outputs": [],
   "source": [
    "# X radius\n",
    "print(\"x_radius:\")\n",
    "corr, _ = pearsonr(test_rads[:,0], recon_rads[:,0])\n",
    "print(corr)\n",
    "plt.scatter(test_rads[:,0], recon_rads[:,0])\n",
    "plt.title('X-Radius Correlation')\n",
    "plt.xlabel('Unseen Observation')\n",
    "plt.ylabel('Reconstruction')"
   ]
  },
  {
   "cell_type": "code",
   "execution_count": null,
   "id": "9caf717d",
   "metadata": {},
   "outputs": [],
   "source": [
    "print(\"y_radius:\")\n",
    "corr, _ = pearsonr(test_rads[:,1], recon_rads[:,1])\n",
    "print(corr)\n",
    "plt.scatter(test_rads[:,1], recon_rads[:,1])\n",
    "plt.title('Y-Radius Correlation')\n",
    "plt.xlabel('Unseen Observation')\n",
    "plt.ylabel('Reconstruction')"
   ]
  },
  {
   "cell_type": "code",
   "execution_count": null,
   "id": "c1e55bcc",
   "metadata": {},
   "outputs": [],
   "source": [
    "# Sample\n",
    "print(\"Generating samples...\")\n",
    "num_samples = 100\n",
    "samples = []\n",
    "for i in range(num_samples):\n",
    "    (states_sample, obs_sample) = varying_model.sample(T)\n",
    "    samples.append(obs_sample)\n",
    "samples = np.array(samples)\n",
    "\n",
    "sample_MSE = sample_accuracy(samples)\n",
    "print(sample_MSE.shape)\n",
    "print(\"Sample error:\" +str(np.mean(sample_MSE)))\n",
    "box_plots(sample_MSE)\n",
    "\n",
    "print(np.mean((samples-np.zeros(samples.shape))**2))\n",
    "\n",
    "# Plot some\n",
    "plot_obs(samples[0])\n",
    "plot_obs(samples[1])\n",
    "plot_obs(samples[2])\n",
    "\n",
    "# Samples\n",
    "rep_data = X = generate_ellipse_data(samples.shape[0], samples.shape[1], period, plot=False)\n",
    "x_rads = get_radius(rep_data)\n",
    "samples_rads = get_radius(samples)\n",
    "violin_radius(x_rads, samples_rads, \"Observations\", \"Samples\")\n"
   ]
  },
  {
   "cell_type": "code",
   "execution_count": null,
   "id": "2b40e6fa",
   "metadata": {},
   "outputs": [],
   "source": [
    "# Impute\n",
    "MSEs = []\n",
    "percents = []\n",
    "for amount_missing in range(2, test_obs.shape[1], 2):\n",
    "    \n",
    "    masked_test = np.ma.asarray(test_obs)\n",
    "    true = np.copy(masked_test)\n",
    "    for n_ix in range(test_obs.shape[0]): # iterate all subject\n",
    "        ix = np.random.choice(test_obs.shape[1], size=amount_missing, replace=False) # \n",
    "        masked_test[n_ix, ix] = np.ma.masked # Mask \n",
    "    mask = np.ma.getmask(masked_test)\n",
    "    imputed = varying_model.reconstruct(masked_test)\n",
    "    target = true[mask].reshape(test_obs.shape[0], int(np.sum(mask)/test_obs.shape[0]))\n",
    "    predicted = imputed[mask].reshape(test_obs.shape[0], int(np.sum(mask)/test_obs.shape[0]))\n",
    "    MSE = np.mean((target-predicted)**2, axis = -1)[1:]\n",
    "    MSEs.append(MSE)\n",
    "    percents.append(str(amount_missing*100/test_obs.shape[1])[:4]+'%')\n",
    "    print(percents[-1])\n",
    "    print(np.mean(MSE))\n",
    "    print(\"Example:\")\n",
    "    new_obs = np.copy(test_obs)\n",
    "    for n_index in range(test_obs.shape[0]):\n",
    "        for t_index in range(test_obs.shape[1]):\n",
    "            for index in range(test_obs.shape[2]):\n",
    "                if mask[n_index][t_index][index]:\n",
    "                    new_obs[n_index][t_index][index] = imputed[n_index][t_index][index] \n",
    "    plot_obs(test_obs[-1], mask[-1])\n",
    "    plot_obs(new_obs[-1])\n",
    "    \n",
    "fig = plt.figure(1, figsize=(16, 6))\n",
    "ax = fig.add_subplot(111)\n",
    "bp = ax.boxplot(MSEs)\n",
    "ax.set_xticklabels(percents)\n",
    "plt.xlabel(\"Percent of Time Points Missing\")\n",
    "plt.ylabel(\"Imputed Values MSE\")"
   ]
  },
  {
   "cell_type": "code",
   "execution_count": null,
   "id": "1c4adbf2",
   "metadata": {},
   "outputs": [],
   "source": [
    "arr = np.array([[[1,2,3], [4,5,6]], [[7,8,9],[10,11,12]], [[7,8,9],[10,11,12]]])\n",
    "arr1 = np.ma.asarray(arr)\n",
    "arr_true = np.copy(arr1)\n",
    "arr1[1, [0, 1]] = np.ma.masked\n",
    "mask_arr = np.ma.getmask(arr1)\n"
   ]
  },
  {
   "cell_type": "code",
   "execution_count": null,
   "id": "d21c37a9",
   "metadata": {},
   "outputs": [],
   "source": [
    "mask_arr"
   ]
  },
  {
   "cell_type": "code",
   "execution_count": null,
   "id": "3e0816e6",
   "metadata": {},
   "outputs": [],
   "source": [
    "rr = arr_true[mask_arr].reshape(3, int(np.sum(mask_arr)/3))\n",
    "rr"
   ]
  },
  {
   "cell_type": "code",
   "execution_count": null,
   "id": "acdf2862",
   "metadata": {},
   "outputs": [],
   "source": [
    "import numpy as np\n",
    "import matplotlib.pyplot as plt"
   ]
  },
  {
   "cell_type": "code",
   "execution_count": null,
   "id": "910c0928",
   "metadata": {},
   "outputs": [],
   "source": [
    "x = np.random.rand(5, 1024)\n",
    "y = 100 * np.random.rand(5, 1024)"
   ]
  },
  {
   "cell_type": "code",
   "execution_count": null,
   "id": "7be93a6c",
   "metadata": {},
   "outputs": [],
   "source": [
    "import numpy as np\n",
    "import matplotlib.pyplot as plt\n",
    "\n",
    "x1 = 10*np.random.random(100)\n",
    "x2 = 10*np.random.exponential(0.5, 100)\n",
    "x3 = 10*np.random.normal(0, 0.4, 100)\n",
    "plt.boxplot ([x1, x2, x3])"
   ]
  },
  {
   "cell_type": "code",
   "execution_count": null,
   "id": "7b068424",
   "metadata": {},
   "outputs": [],
   "source": [
    "mdf.shape\n"
   ]
  },
  {
   "cell_type": "code",
   "execution_count": null,
   "id": "936d2e8e",
   "metadata": {},
   "outputs": [],
   "source": [
    "import seaborn as sns\n",
    "sns.set_theme(style=\"ticks\", palette=\"pastel\")\n",
    "\n",
    "# Load the example tips dataset\n",
    "tips = sns.load_dataset(\"tips\")"
   ]
  },
  {
   "cell_type": "code",
   "execution_count": null,
   "id": "af61f5dc",
   "metadata": {},
   "outputs": [],
   "source": [
    "tips.shape"
   ]
  },
  {
   "cell_type": "code",
   "execution_count": null,
   "id": "bf01415a",
   "metadata": {},
   "outputs": [],
   "source": [
    "tips.head()"
   ]
  },
  {
   "cell_type": "code",
   "execution_count": null,
   "id": "a8780e51",
   "metadata": {},
   "outputs": [],
   "source": [
    "plt.style.use('plot_style.txt')\n"
   ]
  },
  {
   "cell_type": "code",
   "execution_count": null,
   "id": "3b782ef4",
   "metadata": {},
   "outputs": [],
   "source": [
    "import pandas as pd\n",
    "import numpy as np\n",
    "from matplotlib import pyplot as plt\n",
    "import seaborn as sns\n",
    "\n",
    "np.random.seed(44)\n",
    "# DATAFRAMES WITH TRIAL COLUMN ASSIGNED\n",
    "model_A_rmse = np.random.randn(12,25)\n",
    "model_B_rmse = np.random.randn(12,25)"
   ]
  },
  {
   "cell_type": "code",
   "execution_count": null,
   "id": "bfc0b8ff",
   "metadata": {},
   "outputs": [],
   "source": [
    "rmse_cols = np.zeros(600)\n",
    "time_point_cols = []\n",
    "model_type_cols = []"
   ]
  },
  {
   "cell_type": "code",
   "execution_count": null,
   "id": "ddeb31e5",
   "metadata": {},
   "outputs": [],
   "source": [
    "start_idx = 0\n",
    "\n",
    "for t in range(0, 25):\n",
    "    model_A_rmses_at_t = model_A_rmse[:, t]\n",
    "    t_col = [t+1] * 12\n",
    "    model_col = ['Model A'] * 12\n",
    "    time_point_cols += t_col\n",
    "    model_type_cols += model_col\n",
    "    rmse_cols[start_idx:start_idx+12] = model_A_rmses_at_t\n",
    "    start_idx = start_idx + 12"
   ]
  },
  {
   "cell_type": "code",
   "execution_count": null,
   "id": "ad891604",
   "metadata": {},
   "outputs": [],
   "source": [
    "print(f'start idx is {start_idx}')\n",
    "for t in range(0, 25):\n",
    "    model_B_rmses_at_t = model_B_rmse[:, t]\n",
    "    t_col = [t+1] * 12\n",
    "    model_col = ['Model B'] * 12\n",
    "    time_point_cols += t_col\n",
    "    model_type_cols += model_col\n",
    "    rmse_cols[start_idx:start_idx+12] = model_B_rmses_at_t\n",
    "    start_idx = start_idx + 12"
   ]
  },
  {
   "cell_type": "code",
   "execution_count": null,
   "id": "c2014005",
   "metadata": {},
   "outputs": [],
   "source": [
    "(model_type_cols[:13])"
   ]
  },
  {
   "cell_type": "code",
   "execution_count": null,
   "id": "52c085c7",
   "metadata": {},
   "outputs": [],
   "source": [
    "df = pd.DataFrame(list(zip(time_point_cols, rmse_cols, model_type_cols)), columns=['Time Point', 'RMSE', 'Model Type'])"
   ]
  },
  {
   "cell_type": "code",
   "execution_count": null,
   "id": "c71b7112",
   "metadata": {},
   "outputs": [],
   "source": [
    "df.head()"
   ]
  },
  {
   "cell_type": "code",
   "execution_count": null,
   "id": "994439bb",
   "metadata": {},
   "outputs": [],
   "source": [
    "fig = plt.gcf()\n",
    "fig.set_size_inches(22.5, 10.5)\n",
    "ax = sns.boxplot(x=\"Time Point\", y=\"RMSE\", hue=\"Model Type\",\n",
    "                 data=df, linewidth=2.5)"
   ]
  },
  {
   "cell_type": "code",
   "execution_count": null,
   "id": "a2d6d5a6",
   "metadata": {},
   "outputs": [],
   "source": [
    "xx = np.random.rand(10, 25, 792)\n",
    "yy = np.mean(xx, axis=-1)\n",
    "yy.shape"
   ]
  },
  {
   "cell_type": "code",
   "execution_count": null,
   "id": "754da9d2",
   "metadata": {},
   "outputs": [],
   "source": [
    "def box_plots(MSES):\n",
    "    labels = []\n",
    "    for i in range(MSES.shape[1]):\n",
    "        labels.append(\"T=\"+str(i+1))\n",
    "    fig = plt.figure(1, figsize=(9, 6))\n",
    "    ax = fig.add_subplot(111)\n",
    "    bp = ax.boxplot(MSES)\n",
    "    plt.xlabel(\"Time Point\")\n",
    "    plt.ylabel(\"MSE\")"
   ]
  },
  {
   "cell_type": "code",
   "execution_count": null,
   "id": "c6249c4e",
   "metadata": {},
   "outputs": [],
   "source": [
    "box_plots(yy)"
   ]
  },
  {
   "cell_type": "code",
   "execution_count": null,
   "id": "d3af99eb",
   "metadata": {},
   "outputs": [],
   "source": [
    "zx = np.mean(yy)"
   ]
  },
  {
   "cell_type": "code",
   "execution_count": null,
   "id": "be6e5252",
   "metadata": {},
   "outputs": [],
   "source": [
    "xx = np.random.rand(3, 3)\n",
    "mask = np.zeros((3, 3))\n",
    "mask[0, 1] = 1"
   ]
  },
  {
   "cell_type": "code",
   "execution_count": null,
   "id": "8aac9098",
   "metadata": {},
   "outputs": [],
   "source": [
    "mask_ = np.ma.make_mask(mask)"
   ]
  },
  {
   "cell_type": "code",
   "execution_count": null,
   "id": "e08fd7fa",
   "metadata": {},
   "outputs": [],
   "source": [
    "a, b = 2, 9"
   ]
  },
  {
   "cell_type": "code",
   "execution_count": null,
   "id": "15c0f289",
   "metadata": {},
   "outputs": [],
   "source": [
    "import numpy as np"
   ]
  },
  {
   "cell_type": "code",
   "execution_count": null,
   "id": "aea1660c",
   "metadata": {},
   "outputs": [],
   "source": [
    "a = np.random.rand(10, 1024)"
   ]
  },
  {
   "cell_type": "code",
   "execution_count": null,
   "id": "74e3dfd9",
   "metadata": {},
   "outputs": [],
   "source": [
    "x = np.mean(a, axis=1)\n",
    "\n",
    "x.shape"
   ]
  },
  {
   "cell_type": "markdown",
   "id": "5c5992ee",
   "metadata": {},
   "source": []
  },
  {
   "cell_type": "markdown",
   "id": "54a0ea1c",
   "metadata": {},
   "source": []
  }
 ],
 "metadata": {
  "interpreter": {
   "hash": "e8e8e3a3f9683738709163be9ced38dd2aa107e735b9d5a96ca625e9666b01ba"
  },
  "kernelspec": {
   "display_name": "Python 3.7.8 64-bit ('shapeworks_new': conda)",
   "name": "python3"
  },
  "language_info": {
   "codemirror_mode": {
    "name": "ipython",
    "version": 3
   },
   "file_extension": ".py",
   "mimetype": "text/x-python",
   "name": "python",
   "nbconvert_exporter": "python",
   "pygments_lexer": "ipython3",
   "version": "3.7.8"
  },
  "toc": {
   "base_numbering": 1,
   "nav_menu": {},
   "number_sections": true,
   "sideBar": true,
   "skip_h1_title": false,
   "title_cell": "Table of Contents",
   "title_sidebar": "Contents",
   "toc_cell": false,
   "toc_position": {},
   "toc_section_display": true,
   "toc_window_display": false
  }
 },
 "nbformat": 4,
 "nbformat_minor": 5
}
