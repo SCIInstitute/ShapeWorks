{
 "cells": [
  {
   "cell_type": "code",
   "execution_count": null,
   "metadata": {},
   "outputs": [],
   "source": [
    "import torch\n",
    "import numpy as np"
   ]
  },
  {
   "cell_type": "code",
   "execution_count": null,
   "metadata": {},
   "outputs": [],
   "source": [
    "A = torch.zeros(5, 5)\n",
    "U, S, Vh = torch.linalg.svd(A, full_matrices=False)"
   ]
  },
  {
   "cell_type": "code",
   "execution_count": null,
   "metadata": {},
   "outputs": [],
   "source": [
    "torch.sum(A)"
   ]
  },
  {
   "cell_type": "code",
   "execution_count": null,
   "metadata": {},
   "outputs": [],
   "source": [
    "import torch\n",
    "x = torch.tensor([[1, 2, 3], [4, 5, 6]]).float()\n",
    "x[:, 1] = float('nan')"
   ]
  },
  {
   "cell_type": "code",
   "execution_count": null,
   "metadata": {},
   "outputs": [],
   "source": [
    "x"
   ]
  },
  {
   "cell_type": "code",
   "execution_count": null,
   "metadata": {},
   "outputs": [],
   "source": [
    "U, s, V = np.linalg.svd(x)\n",
    "U"
   ]
  },
  {
   "cell_type": "code",
   "execution_count": null,
   "metadata": {},
   "outputs": [],
   "source": [
    "norm_val = np.linalg.norm(x)\n",
    "norm_val"
   ]
  },
  {
   "cell_type": "code",
   "execution_count": null,
   "metadata": {},
   "outputs": [],
   "source": [
    "spacing = np.spacing(norm_val)\n",
    "spacing"
   ]
  },
  {
   "cell_type": "code",
   "execution_count": null,
   "metadata": {},
   "outputs": [],
   "source": [
    "mineig = np.min(np.real(np.linalg.eigvals(x)))\n",
    "mineig"
   ]
  },
  {
   "cell_type": "code",
   "execution_count": null,
   "metadata": {},
   "outputs": [],
   "source": [
    "duta = data[np.newaxis, :]\n",
    "duta.shape"
   ]
  },
  {
   "cell_type": "code",
   "execution_count": null,
   "metadata": {},
   "outputs": [],
   "source": [
    "duta"
   ]
  },
  {
   "cell_type": "code",
   "execution_count": null,
   "metadata": {},
   "outputs": [],
   "source": [
    "device = 'cuda:0'"
   ]
  },
  {
   "cell_type": "code",
   "execution_count": null,
   "metadata": {},
   "outputs": [],
   "source": [
    "data = np.random.rand(4, 4)"
   ]
  },
  {
   "cell_type": "code",
   "execution_count": null,
   "metadata": {},
   "outputs": [],
   "source": [
    "yc=torch.from_numpy(data).float().to(device)\n",
    "# xc=torch.from_numpy(x).float().to(device)\n",
    "yc.size()"
   ]
  },
  {
   "cell_type": "code",
   "execution_count": null,
   "metadata": {},
   "outputs": [],
   "source": [
    "res = torch.linalg.pinv(yc)\n",
    "\n"
   ]
  },
  {
   "cell_type": "code",
   "execution_count": null,
   "metadata": {},
   "outputs": [],
   "source": [
    "yc.device"
   ]
  },
  {
   "cell_type": "code",
   "execution_count": null,
   "metadata": {},
   "outputs": [],
   "source": [
    "m = torch.distributions.multivariate_normal.MultivariateNormal(torch.zeros(10), torch.eye(10)).sample()\n",
    "m"
   ]
  },
  {
   "cell_type": "code",
   "execution_count": null,
   "metadata": {},
   "outputs": [],
   "source": [
    "cv_log_det = 2 * torch.sum(torch.log(torch.diagonal(yc)))\n"
   ]
  },
  {
   "cell_type": "code",
   "execution_count": null,
   "metadata": {},
   "outputs": [],
   "source": [
    "cv_log_det\n",
    "xo = np.pi\n",
    "zo = torch.log(torch.tensor([xo]))\n",
    "zo"
   ]
  },
  {
   "cell_type": "code",
   "execution_count": null,
   "metadata": {},
   "outputs": [],
   "source": [
    "\n",
    "def array1d(X, dtype=None, order=None):\n",
    "    \"\"\"Returns at least 1-d array with data from X\"\"\"\n",
    "    return np.asarray(np.atleast_1d(X), dtype=dtype, order=order)"
   ]
  },
  {
   "cell_type": "code",
   "execution_count": null,
   "metadata": {},
   "outputs": [],
   "source": [
    "x=np.random.rand(10,10)\n",
    "m = np.random.rand(10)\n",
    "m = array1d(m)\n",
    "res = np.dot(x, m)\n",
    "res"
   ]
  },
  {
   "cell_type": "code",
   "execution_count": null,
   "metadata": {},
   "outputs": [],
   "source": [
    "xx=torch.from_numpy(x).float().to(device)\n",
    "mm=torch.from_numpy(m).float().to(device)\n",
    "ress = xx@mm\n",
    "ress"
   ]
  },
  {
   "cell_type": "code",
   "execution_count": null,
   "metadata": {},
   "outputs": [],
   "source": [
    "ress + mm"
   ]
  },
  {
   "cell_type": "code",
   "execution_count": null,
   "metadata": {},
   "outputs": [],
   "source": [
    "resss = torch.matmul(xx, mm)\n",
    "xx"
   ]
  },
  {
   "cell_type": "code",
   "execution_count": null,
   "metadata": {},
   "outputs": [],
   "source": [
    "x=np.random.rand(11,15)\n",
    "xy = torch.from_numpy(x).float().to(device)\n",
    "xy.T.size()"
   ]
  },
  {
   "cell_type": "code",
   "execution_count": null,
   "metadata": {},
   "outputs": [],
   "source": [
    "xy.size()"
   ]
  },
  {
   "cell_type": "code",
   "execution_count": null,
   "metadata": {},
   "outputs": [],
   "source": [
    "yc[2].get_device()"
   ]
  },
  {
   "cell_type": "code",
   "execution_count": null,
   "metadata": {},
   "outputs": [],
   "source": [
    "threads = [1] + [t for t in range(2, 49, 2)]\n",
    "threads"
   ]
  },
  {
   "cell_type": "code",
   "execution_count": null,
   "metadata": {},
   "outputs": [],
   "source": [
    "x = torch.tensor([1.0,2.0,3.0,4.0])\n",
    "print(\"Tensor:\", x)"
   ]
  },
  {
   "cell_type": "code",
   "execution_count": null,
   "metadata": {},
   "outputs": [],
   "source": [
    "print(\"Tensor device:\", x.device)\n"
   ]
  },
  {
   "cell_type": "code",
   "execution_count": null,
   "metadata": {},
   "outputs": [],
   "source": [
    "print(\"CUDA GPU:\", torch.cuda.is_available())\n",
    "if torch.cuda.is_available():\n",
    "    print('cuda available')\n",
    "    x = x.to(\"cuda:0\")\n",
    "print(x)"
   ]
  },
  {
   "cell_type": "code",
   "execution_count": null,
   "metadata": {},
   "outputs": [],
   "source": [
    "a = torch.LongTensor(1, 10).random_(0, 10).to(\"cuda\")"
   ]
  },
  {
   "cell_type": "code",
   "execution_count": null,
   "metadata": {},
   "outputs": [],
   "source": [
    "aa, bb = a.size()\n",
    "print(aa, bb)\n",
    "xx = torch.zeros((2*aa, bb))"
   ]
  },
  {
   "cell_type": "code",
   "execution_count": null,
   "metadata": {},
   "outputs": [],
   "source": [
    "mean = np.zeros(100)\n",
    "cov = np.ones((100, 100))\n",
    "x = np.random.multivariate_normal(mean, cov)\n",
    "x.shape\n",
    "print(x)"
   ]
  },
  {
   "cell_type": "code",
   "execution_count": null,
   "metadata": {},
   "outputs": [],
   "source": [
    "xx.size()"
   ]
  },
  {
   "cell_type": "code",
   "execution_count": null,
   "metadata": {},
   "outputs": [],
   "source": [
    "import numpy as np"
   ]
  },
  {
   "cell_type": "code",
   "execution_count": null,
   "metadata": {},
   "outputs": [],
   "source": [
    "xx = np.ones((28, 25, 768))\n",
    "xx.shape"
   ]
  },
  {
   "cell_type": "code",
   "execution_count": null,
   "metadata": {},
   "outputs": [],
   "source": [
    "xx.newbyteorder('=')\n",
    "xx.shape"
   ]
  },
  {
   "cell_type": "code",
   "execution_count": null,
   "metadata": {},
   "outputs": [],
   "source": [
    "for id in range(0, 28):\n",
    "    xx[id] = id * torch.ones((25, 768))\n",
    "xx"
   ]
  },
  {
   "cell_type": "code",
   "execution_count": null,
   "metadata": {},
   "outputs": [],
   "source": [
    "xx[:, -1].size()"
   ]
  },
  {
   "cell_type": "code",
   "execution_count": null,
   "metadata": {},
   "outputs": [],
   "source": [
    "import torch\n",
    "import time\n",
    "\n",
    "a = torch.randn(25, 28, 1000).cuda()\n",
    "torch.cuda.synchronize()\n",
    "\n",
    "num_iter = 100\n",
    "def test1():\n",
    "    s = time.time()\n",
    "    for i in range(num_iter):\n",
    "        x = torch.linalg.pinv(a)\n",
    "    torch.cuda.synchronize()\n",
    "    e = time.time()\n",
    "    gpu_time = ((e - s)/num_iter)\n",
    "    return  gpu_time\n",
    "\n",
    "def test2():\n",
    "    s = time.time()\n",
    "    b = a.cpu().detach().numpy()\n",
    "    for i in range(num_iter):\n",
    "        d = np.linalg.pinv(b)\n",
    "        # y = d.to('cuda')\n",
    "    torch.cuda.synchronize()\n",
    "    e = time.time()\n",
    "    cpu_time = ((e - s)/num_iter)\n",
    "    return  cpu_time\n",
    "\n",
    "gpu_time = test1()\n",
    "print(\"GPU Time: {:.5f} ms\".format(gpu_time*1000))\n",
    "\n",
    "cpu_time = test2()\n",
    "print(\"CPU Time: {:.5f} ms\".format( cpu_time*1000))\n",
    "\n",
    "print(\"cpu/gpu: {:.2f}x \".format(gpu_time/cpu_time))"
   ]
  },
  {
   "cell_type": "code",
   "execution_count": null,
   "metadata": {},
   "outputs": [],
   "source": [
    "import torch\n",
    "\n",
    "device = torch.device(\"cuda\")\n",
    "\n",
    "x = torch.randn(64, 81, 9, 5, device=device)\n",
    "y = torch.randn(64, 81, 9, 1, device=device)\n",
    "\n",
    "A = x.transpose(-1, -2) @ x\n",
    "B = x.transpose(-1, -2) @ y\n",
    "b = torch.linalg.solve(A, B)"
   ]
  },
  {
   "cell_type": "code",
   "execution_count": null,
   "metadata": {},
   "outputs": [],
   "source": [
    "xx, yy, zz, zzz = x.size()\n",
    "y = 2 * x\n",
    "y"
   ]
  },
  {
   "cell_type": "code",
   "execution_count": null,
   "metadata": {},
   "outputs": [],
   "source": [
    "qq = np.random.rand(5, 7)\n",
    "qq\n"
   ]
  },
  {
   "cell_type": "code",
   "execution_count": null,
   "metadata": {},
   "outputs": [],
   "source": [
    "x = np.ma.array(qq)\n",
    "x"
   ]
  },
  {
   "cell_type": "code",
   "execution_count": null,
   "metadata": {},
   "outputs": [],
   "source": [
    "not np.any(np.ma.getmask(qq))"
   ]
  },
  {
   "cell_type": "code",
   "execution_count": null,
   "metadata": {},
   "outputs": [],
   "source": [
    "np.ma.getmask(qq)"
   ]
  },
  {
   "cell_type": "code",
   "execution_count": null,
   "metadata": {},
   "outputs": [],
   "source": []
  }
 ],
 "metadata": {
  "interpreter": {
   "hash": "9abb8911c1aa7884fef042204dc94fda413b80958c53da6b047e0f4190aa0480"
  },
  "kernelspec": {
   "display_name": "Python 3.7.8 64-bit ('assignment': conda)",
   "name": "python3"
  },
  "language_info": {
   "codemirror_mode": {
    "name": "ipython",
    "version": 3
   },
   "file_extension": ".py",
   "mimetype": "text/x-python",
   "name": "python",
   "nbconvert_exporter": "python",
   "pygments_lexer": "ipython3",
   "version": "3.7.8"
  }
 },
 "nbformat": 4,
 "nbformat_minor": 2
}
