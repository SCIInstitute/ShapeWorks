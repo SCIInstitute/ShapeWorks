{
 "cells": [
  {
   "cell_type": "code",
   "execution_count": null,
   "metadata": {},
   "outputs": [],
   "source": [
    "from viz import *\n",
    "from Constants import SHAPE_MODELS_DIR, MODEL_A, MODEL_B"
   ]
  },
  {
   "cell_type": "code",
   "execution_count": null,
   "metadata": {},
   "outputs": [],
   "source": [
    "METRIC = 'Root Mean Squared Error'\n",
    "PLOT_DIR = f'{SHAPE_MODELS_DIR}/plots_{METRIC}/'\n",
    "if not os.path.exists(PLOT_DIR):\n",
    "    os.makedirs(PLOT_DIR)\n",
    "TIME_POINT = 'Time_0'\n",
    "error_type = 'mean'\n",
    "def get_file_path(model_name, analysis_suffix=f'_LDS_Analysis_L_64_scaling_True_{METRIC}'):\n",
    "    model_path = f'{SHAPE_MODELS_DIR}/{model_name}{analysis_suffix}/'\n",
    "    f_path = f'{model_path}/particle_wise_error_files/{TIME_POINT}_Error_{error_type}.txt'\n",
    "    return f_path\n",
    "    "
   ]
  },
  {
   "cell_type": "code",
   "execution_count": null,
   "metadata": {},
   "outputs": [],
   "source": [
    "model_type = MODEL_A\n",
    "input_mesh_name = f'{model_type}_input_mesh_{error_type}.vtk'.replace('sigma', 'dev')\n",
    "input_mesh_name"
   ]
  },
  {
   "cell_type": "code",
   "execution_count": null,
   "metadata": {},
   "outputs": [],
   "source": [
    "particle_input = 'm_input.particles'\n",
    "particles = np.loadtxt(particle_input)\n",
    "particles.shape"
   ]
  },
  {
   "cell_type": "code",
   "execution_count": null,
   "metadata": {},
   "outputs": [],
   "source": [
    "particle_gen_error_file = get_file_path(model_type)\n",
    "particle_error = np.loadtxt(particle_gen_error_file)\n",
    "print(particle_gen_error_file)\n",
    "particle_error.shape"
   ]
  },
  {
   "cell_type": "code",
   "execution_count": null,
   "metadata": {},
   "outputs": [],
   "source": [
    "add_RRMSE_to_mesh(mesh_file=input_mesh_name, particles=particles, rrmse=particle_error, model_name=model_type)"
   ]
  },
  {
   "cell_type": "code",
   "execution_count": null,
   "metadata": {},
   "outputs": [],
   "source": []
  }
 ],
 "metadata": {
  "interpreter": {
   "hash": "e8e8e3a3f9683738709163be9ced38dd2aa107e735b9d5a96ca625e9666b01ba"
  },
  "kernelspec": {
   "display_name": "Python 3.7.8 64-bit ('shapeworks_new': conda)",
   "name": "python3"
  },
  "language_info": {
   "codemirror_mode": {
    "name": "ipython",
    "version": 3
   },
   "file_extension": ".py",
   "mimetype": "text/x-python",
   "name": "python",
   "nbconvert_exporter": "python",
   "pygments_lexer": "ipython3",
   "version": "3.7.8"
  }
 },
 "nbformat": 4,
 "nbformat_minor": 2
}
