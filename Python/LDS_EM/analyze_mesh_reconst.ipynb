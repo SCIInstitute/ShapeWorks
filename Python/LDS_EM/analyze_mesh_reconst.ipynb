{
 "cells": [
  {
   "cell_type": "code",
   "execution_count": null,
   "metadata": {},
   "outputs": [],
   "source": [
    "from utils import *\n",
    "from Constants import *"
   ]
  },
  {
   "cell_type": "code",
   "execution_count": null,
   "metadata": {},
   "outputs": [],
   "source": [
    "def create_mesh_reconst(model_name, folder_name_pre, folder_target_res, model_type):\n",
    "    results_dir = f'{SHAPE_MODELS_DIR}/results-saved/{model_type}{model_name}/{folder_name_pre}/{folder_target_res}/'\n",
    "    _, file_names = sort_files_from_dir(files_dir=results_dir, ext='.particles')\n",
    "    particle_file_names = [f'{name}.particles' for name in file_names][10:30]\n",
    "    print(f'Loaded {len(particle_file_names)} Particle Files')\n",
    "    create_analyze_xml(xmlfilename=f'{results_dir}/MESHES_{folder_target_res}.xml', particle_files=particle_file_names)"
   ]
  },
  {
   "cell_type": "code",
   "execution_count": null,
   "metadata": {},
   "outputs": [],
   "source": [
    "\n",
    "# /home/sci/nawazish.khan/Public/SSM-4D/SSM-4D/final_shape_models/results-saved/model_B_LDS_Analysis_L_64_scaling_True/gen_missing_time_point_particles_reconst/K_0/\n",
    "folder_name_pre = 'gen_missing_time_point_particles_reconst/K_0'\n",
    "folder_target_res = 'TP_MISSING_4'\n",
    "model_name = '_LDS_Analysis_L_64_scaling_True'"
   ]
  },
  {
   "cell_type": "code",
   "execution_count": null,
   "metadata": {},
   "outputs": [],
   "source": [
    "create_mesh_reconst(model_name=model_name, folder_name_pre=folder_name_pre, folder_target_res=folder_target_res, model_type=MODEL_B)"
   ]
  },
  {
   "cell_type": "code",
   "execution_count": null,
   "metadata": {},
   "outputs": [],
   "source": []
  }
 ],
 "metadata": {
  "interpreter": {
   "hash": "e8e8e3a3f9683738709163be9ced38dd2aa107e735b9d5a96ca625e9666b01ba"
  },
  "kernelspec": {
   "display_name": "Python 3.7.8 64-bit ('shapeworks_new': conda)",
   "name": "python3"
  },
  "language_info": {
   "codemirror_mode": {
    "name": "ipython",
    "version": 3
   },
   "file_extension": ".py",
   "mimetype": "text/x-python",
   "name": "python",
   "nbconvert_exporter": "python",
   "pygments_lexer": "ipython3",
   "version": "3.7.8"
  }
 },
 "nbformat": 4,
 "nbformat_minor": 2
}
