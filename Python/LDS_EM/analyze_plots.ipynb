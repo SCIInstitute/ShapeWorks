{
 "cells": [
  {
   "cell_type": "code",
   "execution_count": null,
   "metadata": {},
   "outputs": [],
   "source": [
    "from utils import *\n",
    "from Constants import *"
   ]
  },
  {
   "cell_type": "code",
   "execution_count": null,
   "metadata": {},
   "outputs": [],
   "source": [
    "result_type = 'generalization_time_point'"
   ]
  },
  {
   "cell_type": "code",
   "execution_count": null,
   "metadata": {},
   "outputs": [],
   "source": [
    "model_a_fn = f'{SHAPE_MODELS_DIR}/{MODEL_A}_LDS_Analysis_L_64/{result_type}_{MODEL_A}.txt'\n",
    "\n",
    "model_b_fn = f'{SHAPE_MODELS_DIR}/{MODEL_B}_LDS_Analysis_L_64/{result_type}_{MODEL_B}.txt'"
   ]
  },
  {
   "cell_type": "code",
   "execution_count": null,
   "metadata": {},
   "outputs": [],
   "source": [
    "plot_box_plots_new(file_1=model_a_fn,\n",
    "                file_2=model_b_fn,\n",
    "                label_1='Baseline Method',\n",
    "                label_2='Proposed Spatiotemporal Approach',\n",
    "                xlabel='Percentage missing of Time Points',\n",
    "                ylabel='Relative MSE',\n",
    "                legend_name='Generalization for missing time points',\n",
    "                plot_name=f'{SHAPE_MODELS_DIR}/{result_type}_image.png')"
   ]
  },
  {
   "cell_type": "code",
   "execution_count": null,
   "metadata": {},
   "outputs": [],
   "source": []
  }
 ],
 "metadata": {
  "interpreter": {
   "hash": "9abb8911c1aa7884fef042204dc94fda413b80958c53da6b047e0f4190aa0480"
  },
  "kernelspec": {
   "display_name": "Python 3.7.8 64-bit ('assignment': conda)",
   "name": "python3"
  },
  "language_info": {
   "codemirror_mode": {
    "name": "ipython",
    "version": 3
   },
   "file_extension": ".py",
   "mimetype": "text/x-python",
   "name": "python",
   "nbconvert_exporter": "python",
   "pygments_lexer": "ipython3",
   "version": "3.7.8"
  }
 },
 "nbformat": 4,
 "nbformat_minor": 2
}
