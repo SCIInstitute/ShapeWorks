{
 "cells": [
  {
   "cell_type": "code",
   "execution_count": null,
   "metadata": {},
   "outputs": [],
   "source": [
    "import numpy as np\n",
    "import shapeworks as sw"
   ]
  },
  {
   "cell_type": "code",
   "execution_count": null,
   "metadata": {},
   "outputs": [],
   "source": [
    "import matplotlib.pyplot as plt\n"
   ]
  },
  {
   "cell_type": "code",
   "execution_count": null,
   "metadata": {},
   "outputs": [],
   "source": [
    "def plot_mode_line(save_dir,filename,title,ylabel):\n",
    "    # Load scree plot data\n",
    "    Y = np.loadtxt(save_dir+ filename)\n",
    "    N = len(Y)\n",
    "    X = np.arange(1, N+1)\n",
    "\n",
    "    # Plot data\n",
    "    plt.plot(X, Y, 'r', linewidth=2.0)\n",
    "    fig = plt.gcf()\n",
    "    fig.set_size_inches(20, 10)\n",
    "    plt.title(title,fontsize=16)\n",
    "    plt.xlabel('Mode',fontsize=16)\n",
    "    plt.ylabel(ylabel,fontsize=16)\n",
    "    # plt.xticks(X)\n",
    "    plt.xticks(np.arange(min(X), max(X)+1, 7.0))\n",
    "    plt.ylim(bottom=0, top=max(Y)*1.5)\n",
    "    plt.xlim(left=1, right=N)\n",
    "    plt.grid()\n",
    "    plt.savefig(save_dir+title.lower()+\"_plot_new.png\", dpi=300)\n",
    "    plt.show(block=False)\n",
    "    plt.pause(3)\n",
    "    # plt.close(fig)\n",
    "\n",
    "    # print(\"Figure saved in directory -\" + save_dir)\n",
    "    # print()"
   ]
  },
  {
   "cell_type": "code",
   "execution_count": null,
   "metadata": {},
   "outputs": [],
   "source": [
    "eval_out_dir = '/home/sci/nawazish.khan/VerSe_Dataset/SSM-Shape-Models/T1/T1_shape_models/evaluation-output/'"
   ]
  },
  {
   "cell_type": "code",
   "execution_count": null,
   "metadata": {},
   "outputs": [],
   "source": [
    "plot_mode_line(eval_out_dir, 'compactness.txt', \"Compactness\",\"Explained Variance\")"
   ]
  },
  {
   "cell_type": "code",
   "execution_count": null,
   "metadata": {},
   "outputs": [],
   "source": [
    "plot_mode_line(eval_out_dir, 'specificity.txt', \"Specificity\",\"Specificity\")"
   ]
  },
  {
   "cell_type": "code",
   "execution_count": null,
   "metadata": {},
   "outputs": [],
   "source": [
    "x = data.T\n",
    "x.shape"
   ]
  },
  {
   "cell_type": "code",
   "execution_count": null,
   "metadata": {},
   "outputs": [],
   "source": [
    "y = x.reshape(-1, M, d)\n",
    "y.shape"
   ]
  },
  {
   "cell_type": "code",
   "execution_count": null,
   "metadata": {},
   "outputs": [],
   "source": [
    "par_procc = y[:,:,:d].reshape(N, -1)\n",
    "par_procc.shape"
   ]
  },
  {
   "cell_type": "code",
   "execution_count": null,
   "metadata": {},
   "outputs": [],
   "source": [
    "par_procc[-1].shape"
   ]
  },
  {
   "cell_type": "code",
   "execution_count": null,
   "metadata": {},
   "outputs": [],
   "source": [
    "data = data.reshape(data.shape[0], -1)"
   ]
  },
  {
   "cell_type": "code",
   "execution_count": null,
   "metadata": {},
   "outputs": [],
   "source": [
    "data.shape"
   ]
  },
  {
   "cell_type": "code",
   "execution_count": null,
   "metadata": {},
   "outputs": [],
   "source": [
    "import torch\n",
    "from torch.distributions.multivariate_normal import MultivariateNormal as MVN\n",
    "import numpy as np"
   ]
  },
  {
   "cell_type": "code",
   "execution_count": null,
   "metadata": {},
   "outputs": [],
   "source": [
    "d, M, N = 3, 128, 23"
   ]
  },
  {
   "cell_type": "code",
   "execution_count": null,
   "metadata": {},
   "outputs": [],
   "source": [
    "Y = Y = torch.rand(N, d*M)\n",
    "Y = Y.T\n",
    "# Sigma = np.matmul(Y, Y.T) /(d*M- 1) + 0.01*np.eye(N)\n",
    "Sigma = np.matmul(Y, Y.T) /(d*M- 1)\n"
   ]
  },
  {
   "cell_type": "code",
   "execution_count": null,
   "metadata": {},
   "outputs": [],
   "source": [
    "Sigma.size()"
   ]
  },
  {
   "cell_type": "code",
   "execution_count": null,
   "metadata": {},
   "outputs": [],
   "source": [
    "prior_mean = torch.zeros(d*M)\n",
    "prior_cov = torch.eye(d*M)\n",
    "prior = MVN(prior_mean, prior_cov)\n"
   ]
  },
  {
   "cell_type": "code",
   "execution_count": null,
   "metadata": {},
   "outputs": [],
   "source": [
    "prior.sample((100, )).size()"
   ]
  },
  {
   "cell_type": "code",
   "execution_count": null,
   "metadata": {},
   "outputs": [],
   "source": [
    "temp = torch.rand(10)\n",
    "len(temp.size())"
   ]
  },
  {
   "cell_type": "code",
   "execution_count": null,
   "metadata": {},
   "outputs": [],
   "source": [
    "temp = temp[None, :]\n",
    "temp.size()"
   ]
  },
  {
   "cell_type": "code",
   "execution_count": null,
   "metadata": {},
   "outputs": [],
   "source": [
    "temp = temp.repeat(d*M,1)"
   ]
  },
  {
   "cell_type": "code",
   "execution_count": null,
   "metadata": {},
   "outputs": [],
   "source": [
    "temp.size()"
   ]
  },
  {
   "cell_type": "code",
   "execution_count": null,
   "metadata": {},
   "outputs": [],
   "source": []
  }
 ],
 "metadata": {
  "interpreter": {
   "hash": "2df1dc349b63b036b15fd5b9795d71864666c5aa27ec48171c76ab45320837a3"
  },
  "kernelspec": {
   "display_name": "Python 3.9.13 64-bit ('shapeworks': conda)",
   "name": "python3"
  },
  "language_info": {
   "codemirror_mode": {
    "name": "ipython",
    "version": 3
   },
   "file_extension": ".py",
   "mimetype": "text/x-python",
   "name": "python",
   "nbconvert_exporter": "python",
   "pygments_lexer": "ipython3",
   "version": "3.9.13"
  }
 },
 "nbformat": 4,
 "nbformat_minor": 2
}
